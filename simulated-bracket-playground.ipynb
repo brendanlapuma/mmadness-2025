{
 "cells": [
  {
   "cell_type": "code",
   "execution_count": 35,
   "metadata": {},
   "outputs": [
    {
     "data": {
      "text/plain": [
       "Team\n",
       "Duke             27.1710\n",
       "Houston          12.2594\n",
       "Auburn           10.7660\n",
       "Florida           9.4839\n",
       "St John's         5.0292\n",
       "                  ...   \n",
       "Mt St Mary's      0.0001\n",
       "NE Omaha          0.0001\n",
       "Norfolk St        0.0001\n",
       "Robert Morris     0.0001\n",
       "Montana           0.0001\n",
       "Name: count, Length: 62, dtype: float64"
      ]
     },
     "execution_count": 35,
     "metadata": {},
     "output_type": "execute_result"
    }
   ],
   "source": [
    "import pandas as pd\n",
    "\n",
    "matchup_code = 'R6CH' # championship matchup\n",
    "year = 2025\n",
    "\n",
    "bracket_sims = pd.read_csv('./bracket_simulations.csv')\n",
    "bracket_sims_w = pd.read_csv('./bracket_simulations_w.csv')\n",
    "\n",
    "m_bracket_sims = bracket_sims[bracket_sims['Tournament'] == 'M']\n",
    "w_bracket_sims = bracket_sims_w[bracket_sims_w['Tournament'] == 'W']\n",
    "\n",
    "seeds_m = pd.read_csv(\"march-machine-learning-mania-2025/MNCAATourneySeeds.csv\")\n",
    "seeds_w = pd.read_csv(\"march-machine-learning-mania-2025/WNCAATourneySeeds.csv\")\n",
    "\n",
    "# Have to manually pick outcome of first four\n",
    "seeds_m = pd.concat([seeds_m, pd.DataFrame([{'Season': 2025, 'Seed': 'Y11', 'TeamID': 1314}])], ignore_index=True) # Alabama St\n",
    "seeds_m = pd.concat([seeds_m, pd.DataFrame([{'Season': 2025, 'Seed': 'Y16', 'TeamID': 1106}])], ignore_index=True) # UNC\n",
    "seeds_m = pd.concat([seeds_m, pd.DataFrame([{'Season': 2025, 'Seed': 'X11', 'TeamID': 1462}])], ignore_index=True) # Xavier\n",
    "seeds_m = pd.concat([seeds_m, pd.DataFrame([{'Season': 2025, 'Seed': 'W16', 'TeamID': 1291}])], ignore_index=True) # mt. St. Mary's\n",
    "\n",
    "seeds_w = pd.concat([seeds_w, pd.DataFrame([{'Season': 2025, 'Seed': 'W11', 'TeamID': 3162}])], ignore_index=True) # Columbia\n",
    "seeds_w = pd.concat([seeds_w, pd.DataFrame([{'Season': 2025, 'Seed': 'X11', 'TeamID': 3235}])], ignore_index=True) # Iowa St\n",
    "seeds_w = pd.concat([seeds_w, pd.DataFrame([{'Season': 2025, 'Seed': 'X16', 'TeamID': 3219}])], ignore_index=True) # Xavier\n",
    "seeds_w = pd.concat([seeds_w, pd.DataFrame([{'Season': 2025, 'Seed': 'Y16', 'TeamID': 3471}])], ignore_index=True) # American\n",
    "\n",
    "teams = pd.read_csv(\"march-machine-learning-mania-2025/MTeams.csv\")\n",
    "seeds_m = seeds_m.merge(teams[['TeamID', 'TeamName']], on='TeamID')\n",
    "seeds_m = seeds_m[seeds_m['Season'] == year]\n",
    "\n",
    "teams_w = pd.read_csv(\"march-machine-learning-mania-2025/WTeams.csv\")\n",
    "seeds_w = seeds_w.merge(teams_w[['TeamID', 'TeamName']], on='TeamID')\n",
    "seeds_w = seeds_w[seeds_w['Season'] == year]\n",
    "\n",
    "# Determining how many brackets were generated\n",
    "num_brackets = bracket_sims['Bracket'].max()\n",
    "\n",
    "# Labeling teams with the percentages of winning a particular matchup, given how many times they won in the simulation\n",
    "value_counts = m_bracket_sims[m_bracket_sims['Slot'] == matchup_code]['Team'].value_counts()\n",
    "percentages = (value_counts / num_brackets) * 100\n",
    "team_names = seeds_m.set_index('Seed')['TeamName']\n",
    "percentages.index = percentages.index.map(team_names)\n",
    "\n",
    "# Represents the conditional probability that a team wins a particular matchup\n",
    "percentages\n"
   ]
  },
  {
   "cell_type": "code",
   "execution_count": 36,
   "metadata": {},
   "outputs": [
    {
     "data": {
      "text/plain": [
       "Team\n",
       "Connecticut       37.7899\n",
       "South Carolina    16.0958\n",
       "Texas             13.3498\n",
       "USC               10.0099\n",
       "UCLA               9.9265\n",
       "TCU                3.1133\n",
       "Notre Dame         2.1554\n",
       "Duke               2.0435\n",
       "LSU                1.3555\n",
       "NC State           1.1249\n",
       "Ohio St            0.5504\n",
       "Oklahoma           0.4265\n",
       "Baylor             0.4067\n",
       "Kansas St          0.2973\n",
       "North Carolina     0.2862\n",
       "West Virginia      0.2646\n",
       "Mississippi        0.2366\n",
       "Tennessee          0.1398\n",
       "Alabama            0.0934\n",
       "Maryland           0.0609\n",
       "Kentucky           0.0521\n",
       "Vanderbilt         0.0515\n",
       "Michigan St        0.0460\n",
       "Florida St         0.0253\n",
       "Utah               0.0213\n",
       "Oklahoma St        0.0212\n",
       "Michigan           0.0106\n",
       "Louisville         0.0091\n",
       "Columbia           0.0061\n",
       "Richmond           0.0047\n",
       "Georgia Tech       0.0047\n",
       "Iowa               0.0042\n",
       "Harvard            0.0030\n",
       "Mississippi St     0.0029\n",
       "S Dakota St        0.0023\n",
       "Illinois           0.0016\n",
       "Murray St          0.0012\n",
       "Creighton          0.0011\n",
       "Oregon             0.0006\n",
       "WI Green Bay       0.0006\n",
       "Nebraska           0.0006\n",
       "California         0.0005\n",
       "Indiana            0.0005\n",
       "George Mason       0.0004\n",
       "Norfolk St         0.0003\n",
       "South Florida      0.0002\n",
       "Ball St            0.0002\n",
       "Grand Canyon       0.0001\n",
       "Iowa St            0.0001\n",
       "Montana St         0.0001\n",
       "Name: count, dtype: float64"
      ]
     },
     "execution_count": 36,
     "metadata": {},
     "output_type": "execute_result"
    }
   ],
   "source": [
    "# Labeling teams with the percentages of winning a particular matchup, given how many times they won in the simulation\n",
    "value_counts = w_bracket_sims[w_bracket_sims['Slot'] == matchup_code]['Team'].value_counts()\n",
    "percentages = (value_counts / num_brackets) * 100\n",
    "team_names = seeds_w.set_index('Seed')['TeamName']\n",
    "percentages.index = percentages.index.map(team_names)\n",
    "\n",
    "# Represents the conditional probability that a team wins a particular matchup\n",
    "percentages"
   ]
  },
  {
   "cell_type": "code",
   "execution_count": null,
   "metadata": {},
   "outputs": [
    {
     "name": "stdout",
     "output_type": "stream",
     "text": [
      "Percent of perfect brackets remaining for team ID W01 in slot R6CH: 27.171%\n"
     ]
    }
   ],
   "source": [
    "# Make a copy of bracket_simulations.csv FIRST, name it remaining_perfect_brackets.csv\n",
    "\n",
    "def count_perfect_brackets(team_id, slot):\n",
    "    \"\"\"\n",
    "    Count the number of perfect brackets remaining for a given team ID and slot.\n",
    "    \n",
    "    Parameters:\n",
    "    team_id (int): The ID of the team.\n",
    "    slot (str): The slot corresponding to a particular matchup.\n",
    "    \n",
    "    Returns:\n",
    "    int: The number of perfect brackets remaining.\n",
    "    \"\"\"\n",
    "    # Load the remaining perfect brackets\n",
    "    remaining_brackets = pd.read_csv('remaining_perfect_brackets.csv')\n",
    "    \n",
    "    # Filter the bracket simulations for the given slot and team ID\n",
    "    matching_brackets = m_bracket_sims[(m_bracket_sims['Slot'] == slot) & (m_bracket_sims['Team'] == team_id)]\n",
    "    \n",
    "    # Get the list of brackets that have the given team ID and slot\n",
    "    matching_bracket_ids = matching_brackets['Bracket'].unique()\n",
    "    \n",
    "    # Remove brackets that don't have this pick from the remaining perfect brackets\n",
    "    remaining_brackets = remaining_brackets[remaining_brackets['Bracket'].isin(matching_bracket_ids)]\n",
    "    \n",
    "    # Save the updated remaining perfect brackets\n",
    "    remaining_brackets.to_csv('remaining_perfect_brackets.csv', index=False)\n",
    "    \n",
    "    # Return the count of remaining perfect brackets\n",
    "    return remaining_brackets['Bracket'].nunique()\n",
    "\n",
    "# Example usage:\n",
    "team_id = 'W01'  # Replace with the desired team seed identifier (this is Duke)\n",
    "slot = 'R1W1'  # Replace with the desired slot (this is the championship)\n",
    "perfect_brackets = 0\n",
    "\n",
    "try:\n",
    "    perfect_brackets = count_perfect_brackets(team_id, slot)\n",
    "except FileNotFoundError:\n",
    "    print(\"Make sure you have a copy of bracket_simulations.csv named remaining_perfect_brackets.csv\")\n",
    "    print()\n",
    "    perfect_brackets = 0\n",
    "\n",
    "print(f\"Percent of perfect brackets remaining for team ID {team_id} in slot {slot}: {(perfect_brackets / num_brackets)*100}%\")"
   ]
  }
 ],
 "metadata": {
  "kernelspec": {
   "display_name": "venv",
   "language": "python",
   "name": "python3"
  },
  "language_info": {
   "codemirror_mode": {
    "name": "ipython",
    "version": 3
   },
   "file_extension": ".py",
   "mimetype": "text/x-python",
   "name": "python",
   "nbconvert_exporter": "python",
   "pygments_lexer": "ipython3",
   "version": "3.13.1"
  }
 },
 "nbformat": 4,
 "nbformat_minor": 2
}
