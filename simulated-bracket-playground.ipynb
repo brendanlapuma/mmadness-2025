{
 "cells": [
  {
   "cell_type": "code",
   "execution_count": 4,
   "metadata": {},
   "outputs": [
    {
     "data": {
      "text/plain": [
       "Team\n",
       "Yale             19.728\n",
       "Washington St    13.448\n",
       "Wisconsin        10.214\n",
       "Texas             6.263\n",
       "Wagner            5.439\n",
       "                  ...  \n",
       "Florida           0.004\n",
       "St Peter's        0.002\n",
       "McNeese St        0.002\n",
       "Akron             0.001\n",
       "Colorado          0.001\n",
       "Name: count, Length: 61, dtype: float64"
      ]
     },
     "execution_count": 4,
     "metadata": {},
     "output_type": "execute_result"
    }
   ],
   "source": [
    "import pandas as pd\n",
    "\n",
    "matchup_code = 'R6CH' # championship matchup\n",
    "year = 2024\n",
    "\n",
    "bracket_sims = pd.read_csv('./bracket_simulations.csv')\n",
    "\n",
    "m_bracket_sims = bracket_sims[bracket_sims['Tournament'] == 'M']\n",
    "# w_bracket_sims = bracket_sims[bracket_sims['Tournament'] == 'W']\n",
    "    \n",
    "seeds_m = pd.read_csv(\"march-machine-learning-mania-2025/MNCAATourneySeeds.csv\")\n",
    "\n",
    "# Have to fix X16, Y10, Y16, Z10 (change for 2025 seeds when we get them)\n",
    "# X16 = Wagner = 1447\n",
    "seeds_m = pd.concat([seeds_m, pd.DataFrame([{'Season': 2024, 'Seed': 'X16', 'TeamID': 1447}])], ignore_index=True)\n",
    "# Y10 = Colorado St = 1161\n",
    "seeds_m = pd.concat([seeds_m, pd.DataFrame([{'Season': 2024, 'Seed': 'Y10', 'TeamID': 1161}])], ignore_index=True)\n",
    "# Y16 = Grambling = 1212\n",
    "seeds_m = pd.concat([seeds_m, pd.DataFrame([{'Season': 2024, 'Seed': 'Y16', 'TeamID': 1212}])], ignore_index=True)\n",
    "# Z10 = Colorado = 1160\n",
    "seeds_m = pd.concat([seeds_m, pd.DataFrame([{'Season': 2024, 'Seed': 'Z10', 'TeamID': 1160}])], ignore_index=True)\n",
    "\n",
    "teams = pd.read_csv(\"march-machine-learning-mania-2025/MTeams.csv\")\n",
    "seeds_m = seeds_m.merge(teams[['TeamID', 'TeamName']], on='TeamID')\n",
    "seeds_m = seeds_m[seeds_m['Season'] == year]\n",
    "\n",
    "seeds_m.head()\n",
    "\n",
    "# Determining how many brackets were generated\n",
    "num_brackets = bracket_sims['Bracket'].max()\n",
    "\n",
    "# Labeling teams with the percentages of winning a particular matchup, given how many times they won in the simulation\n",
    "value_counts = m_bracket_sims[m_bracket_sims['Slot'] == matchup_code]['Team'].value_counts()\n",
    "percentages = (value_counts / num_brackets) * 100\n",
    "team_names = seeds_m.set_index('Seed')['TeamName']\n",
    "percentages.index = percentages.index.map(team_names)\n",
    "\n",
    "# Represents the conditional probability that a team wins a particular matchup\n",
    "percentages\n"
   ]
  },
  {
   "cell_type": "code",
   "execution_count": 5,
   "metadata": {},
   "outputs": [
    {
     "name": "stdout",
     "output_type": "stream",
     "text": [
      "Percent of perfect brackets remaining for team ID W01 in slot R6CH: 2.8000000000000003%\n"
     ]
    },
    {
     "data": {
      "text/plain": [
       "'\\nIdea: store a csv (or database or something idk) of all of the eliminated bracket numbers, allows subsequent tracking over time\\n'"
      ]
     },
     "execution_count": 5,
     "metadata": {},
     "output_type": "execute_result"
    }
   ],
   "source": [
    "def count_perfect_brackets(team_id, slot):\n",
    "    \"\"\"\n",
    "    Count the number of perfect brackets remaining for a given team ID and slot.\n",
    "    \n",
    "    Parameters:\n",
    "    team_id (int): The ID of the team.\n",
    "    slot (str): The slot corresponding to a particular matchup.\n",
    "    \n",
    "    Returns:\n",
    "    int: The number of perfect brackets remaining.\n",
    "    \"\"\"\n",
    "    # Filter the bracket simulations for the given slot and team ID\n",
    "    matching_brackets = m_bracket_sims[(m_bracket_sims['Slot'] == slot) & (m_bracket_sims['Team'] == team_id)]\n",
    "    \n",
    "    # Count the number of unique brackets that match the given team ID and slot\n",
    "    perfect_brackets_count = matching_brackets['Bracket'].nunique()\n",
    "    \n",
    "    return perfect_brackets_count\n",
    "\n",
    "# Example usage:\n",
    "team_id = 'W01'  # Replace with the desired team seed identifier (this is Uconn)\n",
    "slot = 'R6CH'  # Replace with the desired slot (this is the championship)\n",
    "perfect_brackets = count_perfect_brackets(team_id, slot)\n",
    "print(f\"Percent of perfect brackets remaining for team ID {team_id} in slot {slot}: {(perfect_brackets / num_brackets)*100}%\")\n",
    "\n",
    "\"\"\"\n",
    "Idea: store a csv (or database or something idk) of all of the eliminated bracket numbers, allows subsequent tracking over time\n",
    "\"\"\""
   ]
  }
 ],
 "metadata": {
  "kernelspec": {
   "display_name": "venv",
   "language": "python",
   "name": "python3"
  },
  "language_info": {
   "codemirror_mode": {
    "name": "ipython",
    "version": 3
   },
   "file_extension": ".py",
   "mimetype": "text/x-python",
   "name": "python",
   "nbconvert_exporter": "python",
   "pygments_lexer": "ipython3",
   "version": "3.13.1"
  }
 },
 "nbformat": 4,
 "nbformat_minor": 2
}
