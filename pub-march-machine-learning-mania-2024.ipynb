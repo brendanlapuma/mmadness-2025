{
 "cells": [
  {
   "cell_type": "markdown",
   "metadata": {
    "papermill": {
     "duration": 0.008129,
     "end_time": "2024-03-19T11:39:51.639102",
     "exception": false,
     "start_time": "2024-03-19T11:39:51.630973",
     "status": "completed"
    },
    "tags": []
   },
   "source": [
    "Credit to:\n",
    "- [conversion notebook](https://www.kaggle.com/code/kaito510/updated-1xgold-2xsilvers-key-ingredient)\n",
    "- [simulation notebook](https://www.kaggle.com/code/lennarthaupts/simulate-n-brackets)"
   ]
  },
  {
   "cell_type": "markdown",
   "metadata": {},
   "source": [
    "# SETUP"
   ]
  },
  {
   "cell_type": "markdown",
   "metadata": {},
   "source": [
    "## Import"
   ]
  },
  {
   "cell_type": "code",
   "execution_count": 12,
   "metadata": {
    "execution": {
     "iopub.execute_input": "2024-04-18T07:39:26.316801Z",
     "iopub.status.busy": "2024-04-18T07:39:26.315758Z",
     "iopub.status.idle": "2024-04-18T07:39:28.286406Z",
     "shell.execute_reply": "2024-04-18T07:39:28.28502Z",
     "shell.execute_reply.started": "2024-04-18T07:39:26.316739Z"
    },
    "trusted": true
   },
   "outputs": [],
   "source": [
    "import pandas as pd\n",
    "import numpy as np\n",
    "\n",
    "import plotly.express as px\n",
    "import itertools\n",
    "import os\n",
    "\n",
    "import math\n",
    "import statistics\n",
    "import copy"
   ]
  },
  {
   "cell_type": "markdown",
   "metadata": {},
   "source": [
    "## Filepaths"
   ]
  },
  {
   "cell_type": "code",
   "execution_count": 13,
   "metadata": {
    "execution": {
     "iopub.execute_input": "2024-04-18T07:39:28.288936Z",
     "iopub.status.busy": "2024-04-18T07:39:28.288442Z",
     "iopub.status.idle": "2024-04-18T07:39:28.294729Z",
     "shell.execute_reply": "2024-04-18T07:39:28.293533Z",
     "shell.execute_reply.started": "2024-04-18T07:39:28.288904Z"
    },
    "trusted": true
   },
   "outputs": [],
   "source": [
    "inp_path = './march-machine-learning-mania-2024'\n",
    "ml_mania_path = './march-machine-learning-mania-2024'"
   ]
  },
  {
   "cell_type": "markdown",
   "metadata": {},
   "source": [
    "# Load Data"
   ]
  },
  {
   "cell_type": "code",
   "execution_count": 14,
   "metadata": {
    "execution": {
     "iopub.execute_input": "2024-04-18T07:39:31.280842Z",
     "iopub.status.busy": "2024-04-18T07:39:31.280168Z",
     "iopub.status.idle": "2024-04-18T07:39:31.341476Z",
     "shell.execute_reply": "2024-04-18T07:39:31.340284Z",
     "shell.execute_reply.started": "2024-04-18T07:39:31.280794Z"
    },
    "papermill": {
     "duration": 0.065994,
     "end_time": "2024-03-19T11:39:55.819916",
     "exception": false,
     "start_time": "2024-03-19T11:39:55.753922",
     "status": "completed"
    },
    "tags": [],
    "trusted": true
   },
   "outputs": [],
   "source": [
    "## tourney results\n",
    "df_labels_men = pd.read_csv(\n",
    "    os.path.join(\n",
    "        inp_path,\n",
    "        'MNCAATourneyDetailedResults.csv')\n",
    "    )\n",
    "df_labels_women = pd.read_csv(\n",
    "    os.path.join(\n",
    "        inp_path,\n",
    "        'WNCAATourneyDetailedResults.csv')\n",
    "    )\n",
    "\n",
    "## sort labels\n",
    "df_labels_men = df_labels_men.sort_values(\n",
    "    by=['Season', 'DayNum']).reset_index(drop=True)\n",
    "df_labels_women = df_labels_women.sort_values(\n",
    "    by=['Season', 'DayNum']).reset_index(drop=True)\n",
    "\n",
    "## team spellings\n",
    "df_spell_men = pd.read_csv(\n",
    "    os.path.join(\n",
    "        inp_path,\n",
    "        'MTeamSpellings.csv'),\n",
    "    encoding='cp1252')\n",
    "df_spell_women = pd.read_csv(\n",
    "    os.path.join(\n",
    "        inp_path,\n",
    "        'WTeamSpellings.csv'),\n",
    "    encoding='cp1252')"
   ]
  },
  {
   "cell_type": "markdown",
   "metadata": {},
   "source": [
    "## Mens"
   ]
  },
  {
   "cell_type": "code",
   "execution_count": 16,
   "metadata": {
    "execution": {
     "iopub.execute_input": "2024-04-18T07:51:34.590813Z",
     "iopub.status.busy": "2024-04-18T07:51:34.590381Z",
     "iopub.status.idle": "2024-04-18T07:51:34.628196Z",
     "shell.execute_reply": "2024-04-18T07:51:34.627099Z",
     "shell.execute_reply.started": "2024-04-18T07:51:34.59078Z"
    },
    "trusted": true
   },
   "outputs": [],
   "source": [
    "## 2024\n",
    "\n",
    "df_men_2024 = pd.read_excel(\n",
    "    os.path.join(\n",
    "        ml_mania_path,\n",
    "        'March_Madness_2024_Mens.xlsx'\n",
    "    ),\n",
    "    index_col = 'team_name'\n",
    ")\n",
    "\n",
    "df_men_2024.index.rename(\n",
    "    'player',\n",
    "    inplace=True\n",
    ")"
   ]
  },
  {
   "cell_type": "markdown",
   "metadata": {},
   "source": [
    "## Womens"
   ]
  },
  {
   "cell_type": "code",
   "execution_count": 17,
   "metadata": {
    "execution": {
     "iopub.execute_input": "2024-04-18T07:51:38.324661Z",
     "iopub.status.busy": "2024-04-18T07:51:38.324229Z",
     "iopub.status.idle": "2024-04-18T07:51:38.36573Z",
     "shell.execute_reply": "2024-04-18T07:51:38.364093Z",
     "shell.execute_reply.started": "2024-04-18T07:51:38.324628Z"
    },
    "trusted": true
   },
   "outputs": [],
   "source": [
    "## 2024\n",
    "\n",
    "df_women_2024 = pd.read_excel(\n",
    "    os.path.join(\n",
    "        ml_mania_path,\n",
    "        'March_Madness_2024_Womens.xlsx'\n",
    "    ),\n",
    "    index_col = 'team_name'\n",
    ")\n",
    "\n",
    "df_women_2024.index.rename(\n",
    "    'player',\n",
    "    inplace=True\n",
    ")"
   ]
  },
  {
   "cell_type": "markdown",
   "metadata": {
    "papermill": {
     "duration": 0.007055,
     "end_time": "2024-03-19T11:39:55.582332",
     "exception": false,
     "start_time": "2024-03-19T11:39:55.575277",
     "status": "completed"
    },
    "tags": []
   },
   "source": [
    "# GOTO CONVERSION"
   ]
  },
  {
   "cell_type": "code",
   "execution_count": 18,
   "metadata": {
    "execution": {
     "iopub.execute_input": "2024-04-18T07:39:31.170057Z",
     "iopub.status.busy": "2024-04-18T07:39:31.169641Z",
     "iopub.status.idle": "2024-04-18T07:39:31.180269Z",
     "shell.execute_reply": "2024-04-18T07:39:31.179289Z",
     "shell.execute_reply.started": "2024-04-18T07:39:31.170021Z"
    },
    "papermill": {
     "duration": 0.021596,
     "end_time": "2024-03-19T11:39:55.665253",
     "exception": false,
     "start_time": "2024-03-19T11:39:55.643657",
     "status": "completed"
    },
    "tags": [],
    "trusted": true
   },
   "outputs": [],
   "source": [
    "## source: https://github.com/gotoConversion/goto_conversion/\n",
    "\n",
    "def goto_conversion(\n",
    "    listOfOdds, \n",
    "    total = 1, \n",
    "    eps = 1e-6, \n",
    "    isAmericanOdds = False):\n",
    "\n",
    "    ## convert American Odds to Decimal Odds\n",
    "    if isAmericanOdds:\n",
    "        for i in range(len(listOfOdds)):\n",
    "            currOdds = listOfOdds[i]\n",
    "            isNegativeAmericanOdds = currOdds < 0\n",
    "            if isNegativeAmericanOdds:\n",
    "                currDecimalOdds = 1 + (100/(currOdds*-1))\n",
    "            else: ## non-neg American odds\n",
    "                currDecimalOdds = 1 + (currOdds/100)\n",
    "            listOfOdds[i] = currDecimalOdds\n",
    "\n",
    "    if len(listOfOdds) < 2:\n",
    "        raise ValueError('len(listOfOdds) must be >= 2')\n",
    "    if any(x < 1 for x in listOfOdds):\n",
    "        raise ValueError('All odds must be >= 1, set isAmericanOdds parameter to True if using American Odds')\n",
    "\n",
    "    listOfProbabilities = [1/x for x in listOfOdds] #initialize probabilities using inverse odds\n",
    "    listOfSe = [pow((x-x**2)/x,0.5) for x in listOfProbabilities] #compute the standard error (SE) for each probability\n",
    "    step = (sum(listOfProbabilities) - total)/sum(listOfSe) #compute how many steps of SE the probabilities should step back by\n",
    "    outputListOfProbabilities = [min(max(x - (y*step),eps),1) for x,y in zip(listOfProbabilities, listOfSe)]\n",
    "    return outputListOfProbabilities"
   ]
  },
  {
   "cell_type": "code",
   "execution_count": 19,
   "metadata": {},
   "outputs": [],
   "source": [
    "def set_probabilities_to_sumAtleast1(\n",
    "    listOfProbabilities, \n",
    "    preprocessThreshold = 0.99, \n",
    "    total = 1):\n",
    "    \n",
    "    multiplier = preprocessThreshold/max(listOfProbabilities)\n",
    "    listOfProbabilities = [x*multiplier for x in listOfProbabilities]\n",
    "    \n",
    "    return listOfProbabilities\n",
    "\n",
    "\n",
    "def preprocessed_goto_conversion(listOfOdds, total = 1):\n",
    "    \n",
    "    listOfProbabilities = [1/x for x in listOfOdds]\n",
    "    isProbSumBelowTotal = sum(listOfProbabilities) < total\n",
    "    \n",
    "    if isProbSumBelowTotal:\n",
    "        listOfProbabilities = set_probabilities_to_sumAtleast1(listOfProbabilities)\n",
    "        \n",
    "        ## unfair odds of losing\n",
    "        reversedListOfOdds = [1/(1-x) for x in listOfProbabilities] \n",
    "        \n",
    "        ## convert the unfair odds of losing to fair probabilities of losing\n",
    "        reversedListOfProbabilities = goto_conversion(reversedListOfOdds)\n",
    "        \n",
    "        ## convert fair probabilities of losing to fair probabilities of winning\n",
    "        outputListOfProbabilities = [1-x for x in reversedListOfProbabilities] \n",
    "    else:\n",
    "        outputListOfProbabilities = goto_conversion(listOfOdds)\n",
    "    return outputListOfProbabilities"
   ]
  },
  {
   "cell_type": "markdown",
   "metadata": {},
   "source": [
    "## Modified Matchup Generation"
   ]
  },
  {
   "cell_type": "code",
   "execution_count": 21,
   "metadata": {
    "execution": {
     "iopub.execute_input": "2024-04-18T07:40:37.423765Z",
     "iopub.status.busy": "2024-04-18T07:40:37.423447Z",
     "iopub.status.idle": "2024-04-18T07:40:37.444487Z",
     "shell.execute_reply": "2024-04-18T07:40:37.443438Z",
     "shell.execute_reply.started": "2024-04-18T07:40:37.42374Z"
    },
    "trusted": true
   },
   "outputs": [],
   "source": [
    "## load bracket data\n",
    "bracket_men_2024 = pd.read_csv('./march-machine-learning-mania-2024/MNCAATourneySlots.csv')\n",
    "bracket_women_2024 = pd.read_csv('./march-machine-learning-mania-2024/WNCAATourneySlots.csv')\n",
    "\n",
    "bracket_men_2024 = bracket_men_2024.loc[bracket_men_2024['Season']==2024]\n",
    "bracket_women_2024 = bracket_women_2024.loc[bracket_women_2024['Season']==2024]"
   ]
  },
  {
   "cell_type": "code",
   "execution_count": 23,
   "metadata": {
    "execution": {
     "iopub.execute_input": "2024-04-18T07:40:37.447046Z",
     "iopub.status.busy": "2024-04-18T07:40:37.446635Z",
     "iopub.status.idle": "2024-04-18T07:40:37.456088Z",
     "shell.execute_reply": "2024-04-18T07:40:37.455036Z",
     "shell.execute_reply.started": "2024-04-18T07:40:37.447018Z"
    },
    "trusted": true
   },
   "outputs": [],
   "source": [
    "## seeding: updated after First Four\n",
    "seeds_2024 = pd.read_csv('./march-machine-learning-mania-2024/2024_tourney_seeds.csv')\n",
    "seeds_men_2024 = seeds_2024.loc[seeds_2024['Tournament']=='M']\n",
    "seeds_women_2024 = seeds_2024.loc[seeds_2024['Tournament']=='W']"
   ]
  },
  {
   "cell_type": "code",
   "execution_count": 24,
   "metadata": {
    "execution": {
     "iopub.execute_input": "2024-04-18T07:40:37.45798Z",
     "iopub.status.busy": "2024-04-18T07:40:37.457591Z",
     "iopub.status.idle": "2024-04-18T07:40:37.47588Z",
     "shell.execute_reply": "2024-04-18T07:40:37.474459Z",
     "shell.execute_reply.started": "2024-04-18T07:40:37.457924Z"
    },
    "trusted": true
   },
   "outputs": [
    {
     "name": "stdout",
     "output_type": "stream",
     "text": [
      "{'W01': 'R1W1', 'W16': 'R1W1', 'W02': 'R1W2', 'W15': 'R1W2', 'W03': 'R1W3', 'W14': 'R1W3', 'W04': 'R1W4', 'W13': 'R1W4', 'W05': 'R1W5', 'W12': 'R1W5', 'W06': 'R1W6', 'W11': 'R1W6', 'W07': 'R1W7', 'W10': 'R1W7', 'W08': 'R1W8', 'W09': 'R1W8', 'X01': 'R1X1', 'X16': 'R1X1', 'X02': 'R1X2', 'X15': 'R1X2', 'X03': 'R1X3', 'X14': 'R1X3', 'X04': 'R1X4', 'X13': 'R1X4', 'X05': 'R1X5', 'X12': 'R1X5', 'X06': 'R1X6', 'X11': 'R1X6', 'X07': 'R1X7', 'X10': 'R1X7', 'X08': 'R1X8', 'X09': 'R1X8', 'Y01': 'R1Y1', 'Y16': 'R1Y1', 'Y02': 'R1Y2', 'Y15': 'R1Y2', 'Y03': 'R1Y3', 'Y14': 'R1Y3', 'Y04': 'R1Y4', 'Y13': 'R1Y4', 'Y05': 'R1Y5', 'Y12': 'R1Y5', 'Y06': 'R1Y6', 'Y11': 'R1Y6', 'Y07': 'R1Y7', 'Y10': 'R1Y7', 'Y08': 'R1Y8', 'Y09': 'R1Y8', 'Z01': 'R1Z1', 'Z16': 'R1Z1', 'Z02': 'R1Z2', 'Z15': 'R1Z2', 'Z03': 'R1Z3', 'Z14': 'R1Z3', 'Z04': 'R1Z4', 'Z13': 'R1Z4', 'Z05': 'R1Z5', 'Z12': 'R1Z5', 'Z06': 'R1Z6', 'Z11': 'R1Z6', 'Z07': 'R1Z7', 'Z10': 'R1Z7', 'Z08': 'R1Z8', 'Z09': 'R1Z8', 'R1W1': 'R2W1', 'R1W8': 'R2W1', 'R1W2': 'R2W2', 'R1W7': 'R2W2', 'R1W3': 'R2W3', 'R1W6': 'R2W3', 'R1W4': 'R2W4', 'R1W5': 'R2W4', 'R1X1': 'R2X1', 'R1X8': 'R2X1', 'R1X2': 'R2X2', 'R1X7': 'R2X2', 'R1X3': 'R2X3', 'R1X6': 'R2X3', 'R1X4': 'R2X4', 'R1X5': 'R2X4', 'R1Y1': 'R2Y1', 'R1Y8': 'R2Y1', 'R1Y2': 'R2Y2', 'R1Y7': 'R2Y2', 'R1Y3': 'R2Y3', 'R1Y6': 'R2Y3', 'R1Y4': 'R2Y4', 'R1Y5': 'R2Y4', 'R1Z1': 'R2Z1', 'R1Z8': 'R2Z1', 'R1Z2': 'R2Z2', 'R1Z7': 'R2Z2', 'R1Z3': 'R2Z3', 'R1Z6': 'R2Z3', 'R1Z4': 'R2Z4', 'R1Z5': 'R2Z4', 'R2W1': 'R3W1', 'R2W4': 'R3W1', 'R2W2': 'R3W2', 'R2W3': 'R3W2', 'R2X1': 'R3X1', 'R2X4': 'R3X1', 'R2X2': 'R3X2', 'R2X3': 'R3X2', 'R2Y1': 'R3Y1', 'R2Y4': 'R3Y1', 'R2Y2': 'R3Y2', 'R2Y3': 'R3Y2', 'R2Z1': 'R3Z1', 'R2Z4': 'R3Z1', 'R2Z2': 'R3Z2', 'R2Z3': 'R3Z2', 'R3W1': 'R4W1', 'R3W2': 'R4W1', 'R3X1': 'R4X1', 'R3X2': 'R4X1', 'R3Y1': 'R4Y1', 'R3Y2': 'R4Y1', 'R3Z1': 'R4Z1', 'R3Z2': 'R4Z1', 'R4W1': 'R5WX', 'R4X1': 'R5WX', 'R4Y1': 'R5YZ', 'R4Z1': 'R5YZ', 'R5WX': 'R6CH', 'R5YZ': 'R6CH', 'X16a': 'X16', 'X16b': 'X16', 'Y10a': 'Y10', 'Y10b': 'Y10', 'Y16a': 'Y16', 'Y16b': 'Y16', 'Z10a': 'Z10', 'Z10b': 'Z10'}\n"
     ]
    }
   ],
   "source": [
    "transition_men = {}\n",
    "transition_women = {}\n",
    "\n",
    "CHAMP = 'R6CH' ## label denotes march madness champ\n",
    "\n",
    "## create transition matrix for how each seed advances through the bracket\n",
    "for i, row in bracket_men_2024.iterrows():\n",
    "    transition_men[row['StrongSeed']] = row['Slot']\n",
    "    transition_men[row['WeakSeed']] = row['Slot']\n",
    "\n",
    "for i, row in bracket_women_2024.iterrows():\n",
    "    transition_women[row['StrongSeed']] = row['Slot']\n",
    "    transition_women[row['WeakSeed']] = row['Slot']\n",
    "    \n",
    "print(transition_men)"
   ]
  },
  {
   "cell_type": "code",
   "execution_count": 25,
   "metadata": {
    "execution": {
     "iopub.execute_input": "2024-04-18T07:40:37.518134Z",
     "iopub.status.busy": "2024-04-18T07:40:37.517726Z",
     "iopub.status.idle": "2024-04-18T07:40:37.68097Z",
     "shell.execute_reply": "2024-04-18T07:40:37.679814Z",
     "shell.execute_reply.started": "2024-04-18T07:40:37.518095Z"
    },
    "trusted": true
   },
   "outputs": [
    {
     "data": {
      "text/html": [
       "<div>\n",
       "<style scoped>\n",
       "    .dataframe tbody tr th:only-of-type {\n",
       "        vertical-align: middle;\n",
       "    }\n",
       "\n",
       "    .dataframe tbody tr th {\n",
       "        vertical-align: top;\n",
       "    }\n",
       "\n",
       "    .dataframe thead th {\n",
       "        text-align: right;\n",
       "    }\n",
       "</style>\n",
       "<table border=\"1\" class=\"dataframe\">\n",
       "  <thead>\n",
       "    <tr style=\"text-align: right;\">\n",
       "      <th></th>\n",
       "      <th>team_seed</th>\n",
       "      <th>team_region</th>\n",
       "      <th>rd1_win</th>\n",
       "      <th>rd2_win</th>\n",
       "      <th>rd3_win</th>\n",
       "      <th>rd4_win</th>\n",
       "      <th>rd5_win</th>\n",
       "      <th>rd6_win</th>\n",
       "      <th>rd7_win</th>\n",
       "      <th>win_odds</th>\n",
       "      <th>TeamID</th>\n",
       "    </tr>\n",
       "    <tr>\n",
       "      <th>player</th>\n",
       "      <th></th>\n",
       "      <th></th>\n",
       "      <th></th>\n",
       "      <th></th>\n",
       "      <th></th>\n",
       "      <th></th>\n",
       "      <th></th>\n",
       "      <th></th>\n",
       "      <th></th>\n",
       "      <th></th>\n",
       "      <th></th>\n",
       "    </tr>\n",
       "  </thead>\n",
       "  <tbody>\n",
       "  </tbody>\n",
       "</table>\n",
       "</div>"
      ],
      "text/plain": [
       "Empty DataFrame\n",
       "Columns: [team_seed, team_region, rd1_win, rd2_win, rd3_win, rd4_win, rd5_win, rd6_win, rd7_win, win_odds, TeamID]\n",
       "Index: []"
      ]
     },
     "metadata": {},
     "output_type": "display_data"
    },
    {
     "data": {
      "text/html": [
       "<div>\n",
       "<style scoped>\n",
       "    .dataframe tbody tr th:only-of-type {\n",
       "        vertical-align: middle;\n",
       "    }\n",
       "\n",
       "    .dataframe tbody tr th {\n",
       "        vertical-align: top;\n",
       "    }\n",
       "\n",
       "    .dataframe thead th {\n",
       "        text-align: right;\n",
       "    }\n",
       "</style>\n",
       "<table border=\"1\" class=\"dataframe\">\n",
       "  <thead>\n",
       "    <tr style=\"text-align: right;\">\n",
       "      <th></th>\n",
       "      <th>team_seed</th>\n",
       "      <th>team_region</th>\n",
       "      <th>rd1_win</th>\n",
       "      <th>rd2_win</th>\n",
       "      <th>rd3_win</th>\n",
       "      <th>rd4_win</th>\n",
       "      <th>rd5_win</th>\n",
       "      <th>rd6_win</th>\n",
       "      <th>rd7_win</th>\n",
       "      <th>win_odds</th>\n",
       "      <th>TeamID</th>\n",
       "    </tr>\n",
       "    <tr>\n",
       "      <th>player</th>\n",
       "      <th></th>\n",
       "      <th></th>\n",
       "      <th></th>\n",
       "      <th></th>\n",
       "      <th></th>\n",
       "      <th></th>\n",
       "      <th></th>\n",
       "      <th></th>\n",
       "      <th></th>\n",
       "      <th></th>\n",
       "      <th></th>\n",
       "    </tr>\n",
       "  </thead>\n",
       "  <tbody>\n",
       "  </tbody>\n",
       "</table>\n",
       "</div>"
      ],
      "text/plain": [
       "Empty DataFrame\n",
       "Columns: [team_seed, team_region, rd1_win, rd2_win, rd3_win, rd4_win, rd5_win, rd6_win, rd7_win, win_odds, TeamID]\n",
       "Index: []"
      ]
     },
     "metadata": {},
     "output_type": "display_data"
    }
   ],
   "source": [
    "## map TeamID --> predictions\n",
    "\n",
    "## create dicts for mapping names\n",
    "dct_mens_names = {row['TeamNameSpelling']: row['TeamID'] for (i, row) in df_spell_men.iterrows()}\n",
    "dct_womens_names = {row['TeamNameSpelling']: row['TeamID'] for (i, row) in df_spell_women.iterrows()}\n",
    "dct_womens_names['tamu-corpus christi'] = 3394 ## the one that got away\n",
    "\n",
    "## map map map\n",
    "df_men_2024['TeamID'] = df_men_2024.index.str.lower().map(dct_mens_names)\n",
    "df_women_2024['TeamID'] = df_women_2024.index.str.lower().map(dct_womens_names)\n",
    "\n",
    "## check any we missed\n",
    "display(df_men_2024[df_men_2024['TeamID'].isnull()])\n",
    "display(df_women_2024[df_women_2024['TeamID'].isnull()])\n",
    "\n",
    "## removes edge case for rd1\n",
    "df_men_2024['rd0_win'] = 1\n",
    "df_women_2024['rd0_win'] = 1"
   ]
  },
  {
   "cell_type": "code",
   "execution_count": 26,
   "metadata": {
    "execution": {
     "iopub.execute_input": "2024-04-18T07:40:37.682917Z",
     "iopub.status.busy": "2024-04-18T07:40:37.682619Z",
     "iopub.status.idle": "2024-04-18T07:40:37.828984Z",
     "shell.execute_reply": "2024-04-18T07:40:37.82798Z",
     "shell.execute_reply.started": "2024-04-18T07:40:37.682892Z"
    },
    "trusted": true
   },
   "outputs": [
    {
     "name": "stdout",
     "output_type": "stream",
     "text": [
      "CHECK FOR NULL VALUES:\n",
      "=====MENS=====\n"
     ]
    },
    {
     "data": {
      "text/plain": [
       "T1          0\n",
       "T2          0\n",
       "Seed1       0\n",
       "TeamID_x    0\n",
       "Seed2       0\n",
       "TeamID_y    0\n",
       "dtype: int64"
      ]
     },
     "metadata": {},
     "output_type": "display_data"
    },
    {
     "name": "stdout",
     "output_type": "stream",
     "text": [
      "=====WOMENS=====\n"
     ]
    },
    {
     "data": {
      "text/plain": [
       "T1          0\n",
       "T2          0\n",
       "Seed1       0\n",
       "TeamID_x    0\n",
       "Seed2       0\n",
       "TeamID_y    0\n",
       "dtype: int64"
      ]
     },
     "metadata": {},
     "output_type": "display_data"
    }
   ],
   "source": [
    "## create every possible matchup combo between seeds\n",
    "matchups_men = pd.DataFrame()\n",
    "matchups_men[['T1','T2']] = list(itertools.product(seeds_men_2024['TeamID'], seeds_men_2024['TeamID']))\n",
    "\n",
    "matchups_women = pd.DataFrame()\n",
    "matchups_women[['T1','T2']] = list(itertools.product(seeds_women_2024['TeamID'], seeds_women_2024['TeamID']))\n",
    "\n",
    "matchups_men = matchups_men.merge(\n",
    "    seeds_men_2024[['Seed','TeamID']],\n",
    "    left_on='T1', right_on='TeamID',\n",
    "    how='left'\n",
    ").rename(\n",
    "    columns={'Seed':'Seed1'}\n",
    ").merge(\n",
    "    seeds_men_2024[['Seed','TeamID']],\n",
    "    left_on='T2', right_on='TeamID',\n",
    "    how='left'\n",
    ").rename(\n",
    "    columns={'Seed':'Seed2'}\n",
    ").drop(\n",
    "    columns = list(matchups_men.columns[matchups_men.columns.str.contains('TeamID')])\n",
    ")\n",
    "\n",
    "matchups_women = matchups_women.merge(\n",
    "    seeds_women_2024[['Seed','TeamID']],\n",
    "    left_on='T1', right_on='TeamID',\n",
    "    how='left'\n",
    ").rename(\n",
    "    columns={'Seed':'Seed1'}\n",
    ").merge(\n",
    "    seeds_women_2024[['Seed','TeamID']],\n",
    "    left_on='T2', right_on='TeamID',\n",
    "    how='left'\n",
    ").rename(\n",
    "    columns={'Seed':'Seed2'}\n",
    ").drop(\n",
    "    columns = list(matchups_women.columns[matchups_women.columns.str.contains('TeamID')])\n",
    ")\n",
    "\n",
    "print('CHECK FOR NULL VALUES:')\n",
    "print(f\"{'='*5}MENS{'='*5}\")\n",
    "display(matchups_men.isnull().sum())\n",
    "print(f\"{'='*5}WOMENS{'='*5}\")\n",
    "display(matchups_women.isnull().sum())"
   ]
  },
  {
   "cell_type": "code",
   "execution_count": 27,
   "metadata": {
    "execution": {
     "iopub.execute_input": "2024-04-18T07:40:37.830798Z",
     "iopub.status.busy": "2024-04-18T07:40:37.830402Z",
     "iopub.status.idle": "2024-04-18T07:40:45.482717Z",
     "shell.execute_reply": "2024-04-18T07:40:45.481695Z",
     "shell.execute_reply.started": "2024-04-18T07:40:37.83077Z"
    },
    "trusted": true
   },
   "outputs": [
    {
     "name": "stderr",
     "output_type": "stream",
     "text": [
      "/var/folders/bg/q5cqnlzn75sfv4yb_k6p9pcm0000gn/T/ipykernel_81636/1906905250.py:29: FutureWarning: Series.__getitem__ treating keys as positions is deprecated. In a future version, integer keys will always be treated as labels (consistent with DataFrame behavior). To access a value by position, use `ser.iloc[pos]`\n",
      "  [1/wteam_winGivenReach_prob[0],\n",
      "/var/folders/bg/q5cqnlzn75sfv4yb_k6p9pcm0000gn/T/ipykernel_81636/1906905250.py:30: FutureWarning: Series.__getitem__ treating keys as positions is deprecated. In a future version, integer keys will always be treated as labels (consistent with DataFrame behavior). To access a value by position, use `ser.iloc[pos]`\n",
      "  1/lteam_winGivenReach_prob[0]])\n",
      "/var/folders/bg/q5cqnlzn75sfv4yb_k6p9pcm0000gn/T/ipykernel_81636/585276420.py:27: RuntimeWarning: divide by zero encountered in scalar divide\n",
      "  step = (sum(listOfProbabilities) - total)/sum(listOfSe) #compute how many steps of SE the probabilities should step back by\n",
      "/var/folders/bg/q5cqnlzn75sfv4yb_k6p9pcm0000gn/T/ipykernel_81636/585276420.py:28: RuntimeWarning: invalid value encountered in scalar multiply\n",
      "  outputListOfProbabilities = [min(max(x - (y*step),eps),1) for x,y in zip(listOfProbabilities, listOfSe)]\n"
     ]
    }
   ],
   "source": [
    "## MEN\n",
    "\n",
    "correctProbs_list = []\n",
    "\n",
    "for i, row in matchups_men.iterrows():\n",
    "    ## for each pair of teams, what's the first rd they meet?\n",
    "    sd1 = row['Seed1']\n",
    "    sd2 = row['Seed2']\n",
    "    \n",
    "    while sd1 != sd2:\n",
    "        sd1 = transition_men[sd1]\n",
    "        sd2 = transition_men[sd2]\n",
    "    \n",
    "    rd = int(sd1[1])\n",
    "#     print(f\"{row['Seed1']}, {row['Seed2']} --> {rd}\")\n",
    "    \n",
    "    ## conditional prob adjustment\n",
    "    wteam_winGivenReach_prob = df_men_2024.loc[\n",
    "        df_men_2024['TeamID']==row['T1'],f'rd{rd+1}_win'] / df_men_2024.loc[\n",
    "        df_men_2024['TeamID']==row['T1'],f'rd{rd}_win']\n",
    "    lteam_winGivenReach_prob = df_men_2024.loc[\n",
    "        df_men_2024['TeamID']==row['T2'],f'rd{rd+1}_win'] / df_men_2024.loc[\n",
    "        df_men_2024['TeamID']==row['T2'],f'rd{rd}_win']\n",
    "    \n",
    "#     print(wteam_winGivenReach_prob, lteam_winGivenReach_prob)\n",
    "    \n",
    "    ## goto conversion step\n",
    "    convertedProbs = preprocessed_goto_conversion(\n",
    "        [1/wteam_winGivenReach_prob[0], \n",
    "         1/lteam_winGivenReach_prob[0]])\n",
    "    correctProbs_list.append(convertedProbs) #We use the probability for correct label to calculate score\n",
    "\n",
    "matchups_men[['Pred','bar_pred']] = correctProbs_list"
   ]
  },
  {
   "cell_type": "code",
   "execution_count": 28,
   "metadata": {
    "execution": {
     "iopub.execute_input": "2024-04-18T07:40:45.484343Z",
     "iopub.status.busy": "2024-04-18T07:40:45.484015Z",
     "iopub.status.idle": "2024-04-18T07:40:53.347897Z",
     "shell.execute_reply": "2024-04-18T07:40:53.346894Z",
     "shell.execute_reply.started": "2024-04-18T07:40:45.484319Z"
    },
    "trusted": true
   },
   "outputs": [
    {
     "name": "stderr",
     "output_type": "stream",
     "text": [
      "/var/folders/bg/q5cqnlzn75sfv4yb_k6p9pcm0000gn/T/ipykernel_81636/1589597478.py:29: FutureWarning: Series.__getitem__ treating keys as positions is deprecated. In a future version, integer keys will always be treated as labels (consistent with DataFrame behavior). To access a value by position, use `ser.iloc[pos]`\n",
      "  [1/wteam_winGivenReach_prob[0],\n",
      "/var/folders/bg/q5cqnlzn75sfv4yb_k6p9pcm0000gn/T/ipykernel_81636/1589597478.py:30: FutureWarning: Series.__getitem__ treating keys as positions is deprecated. In a future version, integer keys will always be treated as labels (consistent with DataFrame behavior). To access a value by position, use `ser.iloc[pos]`\n",
      "  1/lteam_winGivenReach_prob[0]])\n",
      "/var/folders/bg/q5cqnlzn75sfv4yb_k6p9pcm0000gn/T/ipykernel_81636/585276420.py:27: RuntimeWarning: divide by zero encountered in scalar divide\n",
      "  step = (sum(listOfProbabilities) - total)/sum(listOfSe) #compute how many steps of SE the probabilities should step back by\n",
      "/var/folders/bg/q5cqnlzn75sfv4yb_k6p9pcm0000gn/T/ipykernel_81636/585276420.py:28: RuntimeWarning: invalid value encountered in scalar multiply\n",
      "  outputListOfProbabilities = [min(max(x - (y*step),eps),1) for x,y in zip(listOfProbabilities, listOfSe)]\n"
     ]
    }
   ],
   "source": [
    "## WOMEN\n",
    "\n",
    "correctProbs_list = []\n",
    "\n",
    "for i, row in matchups_women.iterrows():\n",
    "    ## for each pair of teams, what's the first rd they meet?\n",
    "    sd1 = row['Seed1']\n",
    "    sd2 = row['Seed2']\n",
    "    \n",
    "    while sd1 != sd2:\n",
    "        sd1 = transition_women[sd1]\n",
    "        sd2 = transition_women[sd2]\n",
    "    \n",
    "    rd = int(sd1[1])\n",
    "#     print(f\"{row['Seed1']}, {row['Seed2']} --> {rd}\")\n",
    "    \n",
    "    ## conditional prob adjustment\n",
    "    wteam_winGivenReach_prob = df_women_2024.loc[\n",
    "        df_women_2024['TeamID']==row['T1'],f'rd{rd+1}_win'] / df_women_2024.loc[\n",
    "        df_women_2024['TeamID']==row['T1'],f'rd{rd}_win']\n",
    "    lteam_winGivenReach_prob = df_women_2024.loc[\n",
    "        df_women_2024['TeamID']==row['T2'],f'rd{rd+1}_win'] / df_women_2024.loc[\n",
    "        df_women_2024['TeamID']==row['T2'],f'rd{rd}_win']\n",
    "    \n",
    "#     print(wteam_winGivenReach_prob, lteam_winGivenReach_prob)\n",
    "\n",
    "    ## goto conversion step\n",
    "    convertedProbs = preprocessed_goto_conversion(\n",
    "        [1/wteam_winGivenReach_prob[0], \n",
    "         1/lteam_winGivenReach_prob[0]])\n",
    "    correctProbs_list.append(convertedProbs) #We use the probability for correct label to calculate score\n",
    "\n",
    "matchups_women[['Pred','bar_pred']] = correctProbs_list"
   ]
  },
  {
   "cell_type": "code",
   "execution_count": 29,
   "metadata": {
    "execution": {
     "iopub.execute_input": "2024-04-18T07:40:53.350712Z",
     "iopub.status.busy": "2024-04-18T07:40:53.350381Z",
     "iopub.status.idle": "2024-04-18T07:40:53.370787Z",
     "shell.execute_reply": "2024-04-18T07:40:53.369861Z",
     "shell.execute_reply.started": "2024-04-18T07:40:53.350684Z"
    },
    "trusted": true
   },
   "outputs": [
    {
     "data": {
      "text/html": [
       "<div>\n",
       "<style scoped>\n",
       "    .dataframe tbody tr th:only-of-type {\n",
       "        vertical-align: middle;\n",
       "    }\n",
       "\n",
       "    .dataframe tbody tr th {\n",
       "        vertical-align: top;\n",
       "    }\n",
       "\n",
       "    .dataframe thead th {\n",
       "        text-align: right;\n",
       "    }\n",
       "</style>\n",
       "<table border=\"1\" class=\"dataframe\">\n",
       "  <thead>\n",
       "    <tr style=\"text-align: right;\">\n",
       "      <th></th>\n",
       "      <th>T1</th>\n",
       "      <th>T2</th>\n",
       "      <th>Seed1</th>\n",
       "      <th>TeamID_x</th>\n",
       "      <th>Seed2</th>\n",
       "      <th>TeamID_y</th>\n",
       "      <th>Pred</th>\n",
       "      <th>bar_pred</th>\n",
       "    </tr>\n",
       "  </thead>\n",
       "  <tbody>\n",
       "  </tbody>\n",
       "</table>\n",
       "</div>"
      ],
      "text/plain": [
       "Empty DataFrame\n",
       "Columns: [T1, T2, Seed1, TeamID_x, Seed2, TeamID_y, Pred, bar_pred]\n",
       "Index: []"
      ]
     },
     "metadata": {},
     "output_type": "display_data"
    },
    {
     "data": {
      "text/html": [
       "<div>\n",
       "<style scoped>\n",
       "    .dataframe tbody tr th:only-of-type {\n",
       "        vertical-align: middle;\n",
       "    }\n",
       "\n",
       "    .dataframe tbody tr th {\n",
       "        vertical-align: top;\n",
       "    }\n",
       "\n",
       "    .dataframe thead th {\n",
       "        text-align: right;\n",
       "    }\n",
       "</style>\n",
       "<table border=\"1\" class=\"dataframe\">\n",
       "  <thead>\n",
       "    <tr style=\"text-align: right;\">\n",
       "      <th></th>\n",
       "      <th>T1</th>\n",
       "      <th>T2</th>\n",
       "      <th>Seed1</th>\n",
       "      <th>TeamID_x</th>\n",
       "      <th>Seed2</th>\n",
       "      <th>TeamID_y</th>\n",
       "      <th>Pred</th>\n",
       "      <th>bar_pred</th>\n",
       "    </tr>\n",
       "  </thead>\n",
       "  <tbody>\n",
       "  </tbody>\n",
       "</table>\n",
       "</div>"
      ],
      "text/plain": [
       "Empty DataFrame\n",
       "Columns: [T1, T2, Seed1, TeamID_x, Seed2, TeamID_y, Pred, bar_pred]\n",
       "Index: []"
      ]
     },
     "metadata": {},
     "output_type": "display_data"
    }
   ],
   "source": [
    "## CHECK: any null rows that aren't caused by a team being matched against itself?\n",
    "display(\n",
    "    matchups_women.loc[\n",
    "        (matchups_women[['Pred','bar_pred']].isnull().any(axis=1)) &\\\n",
    "        (matchups_women['T1'] != matchups_women['T2'])]\n",
    ")\n",
    "\n",
    "display(\n",
    "    matchups_men.loc[\n",
    "        (matchups_men[['Pred','bar_pred']].isnull().any(axis=1)) &\\\n",
    "        (matchups_men['T1'] != matchups_men['T2'])]\n",
    ")"
   ]
  },
  {
   "cell_type": "code",
   "execution_count": 30,
   "metadata": {
    "execution": {
     "iopub.execute_input": "2024-04-18T07:40:53.37441Z",
     "iopub.status.busy": "2024-04-18T07:40:53.374075Z",
     "iopub.status.idle": "2024-04-18T07:40:53.399569Z",
     "shell.execute_reply": "2024-04-18T07:40:53.398028Z",
     "shell.execute_reply.started": "2024-04-18T07:40:53.374383Z"
    },
    "trusted": true
   },
   "outputs": [],
   "source": [
    "## formatting\n",
    "matchups_men['ID'] = [[2024, str(x), str(y)] for x, y in zip(matchups_men['T1'], matchups_men['T2'])]\n",
    "matchups_women['ID'] = [[2024, str(x), str(y)] for x, y in zip(matchups_women['T1'], matchups_women['T2'])]"
   ]
  },
  {
   "cell_type": "code",
   "execution_count": 31,
   "metadata": {
    "execution": {
     "iopub.execute_input": "2024-04-18T07:40:53.402067Z",
     "iopub.status.busy": "2024-04-18T07:40:53.401439Z",
     "iopub.status.idle": "2024-04-18T07:40:53.423995Z",
     "shell.execute_reply": "2024-04-18T07:40:53.422857Z",
     "shell.execute_reply.started": "2024-04-18T07:40:53.402024Z"
    },
    "trusted": true
   },
   "outputs": [
    {
     "data": {
      "text/html": [
       "<div>\n",
       "<style scoped>\n",
       "    .dataframe tbody tr th:only-of-type {\n",
       "        vertical-align: middle;\n",
       "    }\n",
       "\n",
       "    .dataframe tbody tr th {\n",
       "        vertical-align: top;\n",
       "    }\n",
       "\n",
       "    .dataframe thead th {\n",
       "        text-align: right;\n",
       "    }\n",
       "</style>\n",
       "<table border=\"1\" class=\"dataframe\">\n",
       "  <thead>\n",
       "    <tr style=\"text-align: right;\">\n",
       "      <th></th>\n",
       "      <th>T1</th>\n",
       "      <th>T2</th>\n",
       "      <th>Seed1</th>\n",
       "      <th>TeamID_x</th>\n",
       "      <th>Seed2</th>\n",
       "      <th>TeamID_y</th>\n",
       "      <th>Pred</th>\n",
       "      <th>bar_pred</th>\n",
       "      <th>ID</th>\n",
       "    </tr>\n",
       "  </thead>\n",
       "  <tbody>\n",
       "    <tr>\n",
       "      <th>0</th>\n",
       "      <td>1163</td>\n",
       "      <td>1163</td>\n",
       "      <td>W01</td>\n",
       "      <td>1163</td>\n",
       "      <td>W01</td>\n",
       "      <td>1163</td>\n",
       "      <td>NaN</td>\n",
       "      <td>NaN</td>\n",
       "      <td>[2024, 1163, 1163]</td>\n",
       "    </tr>\n",
       "    <tr>\n",
       "      <th>1</th>\n",
       "      <td>1163</td>\n",
       "      <td>1235</td>\n",
       "      <td>W01</td>\n",
       "      <td>1163</td>\n",
       "      <td>W02</td>\n",
       "      <td>1235</td>\n",
       "      <td>0.736155</td>\n",
       "      <td>0.263845</td>\n",
       "      <td>[2024, 1163, 1235]</td>\n",
       "    </tr>\n",
       "    <tr>\n",
       "      <th>2</th>\n",
       "      <td>1163</td>\n",
       "      <td>1228</td>\n",
       "      <td>W01</td>\n",
       "      <td>1163</td>\n",
       "      <td>W03</td>\n",
       "      <td>1228</td>\n",
       "      <td>0.744798</td>\n",
       "      <td>0.255202</td>\n",
       "      <td>[2024, 1163, 1228]</td>\n",
       "    </tr>\n",
       "    <tr>\n",
       "      <th>3</th>\n",
       "      <td>1163</td>\n",
       "      <td>1120</td>\n",
       "      <td>W01</td>\n",
       "      <td>1163</td>\n",
       "      <td>W04</td>\n",
       "      <td>1120</td>\n",
       "      <td>0.774469</td>\n",
       "      <td>0.225531</td>\n",
       "      <td>[2024, 1163, 1120]</td>\n",
       "    </tr>\n",
       "    <tr>\n",
       "      <th>4</th>\n",
       "      <td>1163</td>\n",
       "      <td>1361</td>\n",
       "      <td>W01</td>\n",
       "      <td>1163</td>\n",
       "      <td>W05</td>\n",
       "      <td>1361</td>\n",
       "      <td>0.874521</td>\n",
       "      <td>0.125479</td>\n",
       "      <td>[2024, 1163, 1361]</td>\n",
       "    </tr>\n",
       "  </tbody>\n",
       "</table>\n",
       "</div>"
      ],
      "text/plain": [
       "     T1    T2 Seed1  TeamID_x Seed2  TeamID_y      Pred  bar_pred  \\\n",
       "0  1163  1163   W01      1163   W01      1163       NaN       NaN   \n",
       "1  1163  1235   W01      1163   W02      1235  0.736155  0.263845   \n",
       "2  1163  1228   W01      1163   W03      1228  0.744798  0.255202   \n",
       "3  1163  1120   W01      1163   W04      1120  0.774469  0.225531   \n",
       "4  1163  1361   W01      1163   W05      1361  0.874521  0.125479   \n",
       "\n",
       "                   ID  \n",
       "0  [2024, 1163, 1163]  \n",
       "1  [2024, 1163, 1235]  \n",
       "2  [2024, 1163, 1228]  \n",
       "3  [2024, 1163, 1120]  \n",
       "4  [2024, 1163, 1361]  "
      ]
     },
     "execution_count": 31,
     "metadata": {},
     "output_type": "execute_result"
    }
   ],
   "source": [
    "matchups_men.head()"
   ]
  },
  {
   "cell_type": "markdown",
   "metadata": {
    "papermill": {
     "duration": 0.010497,
     "end_time": "2024-03-19T11:39:57.753391",
     "exception": false,
     "start_time": "2024-03-19T11:39:57.742894",
     "status": "completed"
    },
    "tags": []
   },
   "source": [
    "# SUBMISSION"
   ]
  },
  {
   "cell_type": "code",
   "execution_count": 34,
   "metadata": {
    "execution": {
     "iopub.execute_input": "2024-04-18T07:40:53.426075Z",
     "iopub.status.busy": "2024-04-18T07:40:53.42565Z",
     "iopub.status.idle": "2024-04-18T07:40:53.44961Z",
     "shell.execute_reply": "2024-04-18T07:40:53.448531Z",
     "shell.execute_reply.started": "2024-04-18T07:40:53.426038Z"
    },
    "trusted": true
   },
   "outputs": [],
   "source": [
    "import numpy as np \n",
    "import pandas as pd \n",
    "from tqdm import tqdm\n",
    "\n",
    "# Load and filter data\n",
    "round_slots = pd.read_csv('./march-machine-learning-mania-2024/MNCAATourneySlots.csv')\n",
    "round_slots = round_slots[round_slots['Season'] == 2024]\n",
    "round_slots = round_slots[round_slots['Slot'].str.contains('R')] # Filter out First Four\n",
    "\n",
    "seeds = pd.read_csv('./march-machine-learning-mania-2024/2024_tourney_seeds.csv')\n",
    "seeds_m = seeds[seeds['Tournament'] == 'M']\n",
    "seeds_w = seeds[seeds['Tournament'] == 'W']"
   ]
  },
  {
   "cell_type": "code",
   "execution_count": 35,
   "metadata": {
    "execution": {
     "iopub.execute_input": "2024-04-18T07:40:53.451433Z",
     "iopub.status.busy": "2024-04-18T07:40:53.451097Z",
     "iopub.status.idle": "2024-04-18T07:40:53.465584Z",
     "shell.execute_reply": "2024-04-18T07:40:53.464795Z",
     "shell.execute_reply.started": "2024-04-18T07:40:53.451404Z"
    },
    "trusted": true
   },
   "outputs": [],
   "source": [
    "def prepare_data(seeds, preds):\n",
    "    # Function preparing the data for the simulation\n",
    "    seed_dict = seeds.set_index('Seed')['TeamID'].to_dict()\n",
    "    inverted_seed_dict = {value: key for key, value in seed_dict.items()}\n",
    "    probas_dict = {}\n",
    "    \n",
    "    for teams, proba in zip(preds['ID'], preds['Pred']):\n",
    "        team1, team2 = teams[1], teams[2]\n",
    "\n",
    "        probas_dict.setdefault(team1, {})[team2] = proba\n",
    "        probas_dict.setdefault(team2, {})[team1] = 1 - proba\n",
    "\n",
    "    return seed_dict, inverted_seed_dict, probas_dict\n",
    "\n",
    "\n",
    "def simulate(round_slots, seeds, inverted_seeds, probas, random_values, sim=True):\n",
    "    '''\n",
    "    Simulates each round of the tournament.\n",
    "\n",
    "    Parameters:\n",
    "    - round_slots: DataFrame containing information on who is playing in each round.\n",
    "    - seeds (dict): Dictionary mapping seed values to team IDs.\n",
    "    - inverted_seeds (dict): Dictionary mapping team IDs to seed values.\n",
    "    - probas (dict): Dictionary containing matchup probabilities.\n",
    "    - random_values (array-like): Array with precomputed random-values.\n",
    "    - sim (boolean): Simulates match if True. Chooses team with higher probability as winner otherwise.\n",
    "\n",
    "    Returns:\n",
    "    - list: List with winning team IDs for each match.\n",
    "    - list: List with corresponding slot names for each match.\n",
    "    '''\n",
    "    winners = []\n",
    "    slots = []\n",
    "\n",
    "    for slot, strong, weak, random_val in zip(round_slots.Slot, round_slots.StrongSeed, round_slots.WeakSeed, random_values):\n",
    "        team1, team2 = seeds[strong], seeds[weak]\n",
    "\n",
    "        # Get the probability of team_1 winning\n",
    "#         print(team1, team2)\n",
    "#         print(probas)\n",
    "        proba = probas[str(team1)][str(team2)]\n",
    "            \n",
    "        if sim:\n",
    "            # Randomly determine the winner based on the probability\n",
    "            winner = team1 if random_val < proba else team2\n",
    "        else:\n",
    "            # Determine the winner based on the higher probability\n",
    "            winner = [team1, team2][np.argmax([proba, 1-proba])]\n",
    "            \n",
    "        # Append the winner and corresponding slot to the lists\n",
    "        winners.append(winner)\n",
    "        slots.append(slot)\n",
    "\n",
    "        seeds[slot] = winner\n",
    "\n",
    "    # Convert winners to original seeds using the inverted_seeds dictionary\n",
    "    return [inverted_seeds[w] for w in winners], slots\n",
    "\n",
    "\n",
    "def run_simulation(brackets=1, seeds=None, preds=None, round_slots=None, sim=True):\n",
    "    '''\n",
    "    Runs a simulation of bracket tournaments.\n",
    "\n",
    "    Parameters:\n",
    "    - brackets (int): Number of brackets to simulate.\n",
    "    - seeds (pd.DataFrame): DataFrame containing seed information.\n",
    "    - preds (pd.DataFrame): DataFrame containing prediction information for each match-up.\n",
    "    - round_slots (pd.DataFrame): DataFrame containing information about the tournament rounds.\n",
    "    - sim (boolean): Simulates matches if True. Chooses team with higher probability as winner otherwise.\n",
    "\n",
    "    Returns:\n",
    "    - pd.DataFrame: DataFrame with simulation results.\n",
    "    '''\n",
    "    # Get relevant data for the simulation\n",
    "    seed_dict, inverted_seed_dict, probas_dict = prepare_data(seeds, preds)\n",
    "    # Lists to store simulation results\n",
    "    results = []\n",
    "    bracket = []\n",
    "    slots = []\n",
    "    \n",
    "    # Precompute random-values\n",
    "    random_values = np.random.random(size=(brackets, len(round_slots)))\n",
    "\n",
    "    # Iterate through the specified number of brackets\n",
    "    for b in tqdm(range(1, brackets+1)):\n",
    "        # Run single simulation\n",
    "        r, s = simulate(round_slots, seed_dict, inverted_seed_dict, probas_dict, random_values[b-1], sim)\n",
    "        \n",
    "        # Update results\n",
    "        results.extend(r)\n",
    "        bracket.extend([b] * len(r))\n",
    "        slots.extend(s)\n",
    "\n",
    "    # Create final DataFrame\n",
    "    result_df = pd.DataFrame({'Bracket': bracket, 'Slot': slots, 'Team': results})\n",
    "\n",
    "    return result_df"
   ]
  },
  {
   "cell_type": "code",
   "execution_count": 36,
   "metadata": {
    "execution": {
     "iopub.execute_input": "2024-04-18T07:40:53.467752Z",
     "iopub.status.busy": "2024-04-18T07:40:53.466761Z",
     "iopub.status.idle": "2024-04-18T07:41:23.03253Z",
     "shell.execute_reply": "2024-04-18T07:41:23.031573Z",
     "shell.execute_reply.started": "2024-04-18T07:40:53.467715Z"
    },
    "trusted": true
   },
   "outputs": [
    {
     "name": "stderr",
     "output_type": "stream",
     "text": [
      "100%|██████████| 100000/100000 [00:02<00:00, 45653.97it/s]\n",
      "100%|██████████| 100000/100000 [00:02<00:00, 45976.44it/s]\n"
     ]
    }
   ],
   "source": [
    "n_brackets = 100000\n",
    "\n",
    "## mens\n",
    "result_m=run_simulation(\n",
    "    brackets=n_brackets, \n",
    "    seeds=seeds_m, \n",
    "    preds=matchups_men, \n",
    "    round_slots=round_slots, \n",
    "    sim=True)\n",
    "result_m['Tournament'] = 'M'\n",
    "\n",
    "## womens\n",
    "result_w=run_simulation(\n",
    "    brackets=n_brackets, \n",
    "    seeds=seeds_w, \n",
    "    preds=matchups_women, \n",
    "    round_slots=round_slots, \n",
    "    sim=True)\n",
    "result_w['Tournament'] = 'W'\n",
    "\n",
    "submission = pd.concat([result_m, result_w])\n",
    "submission.reset_index(inplace=True, drop=True)\n",
    "submission.index.names = ['RowId']"
   ]
  },
  {
   "cell_type": "code",
   "execution_count": 37,
   "metadata": {
    "execution": {
     "iopub.execute_input": "2024-04-18T07:41:23.034142Z",
     "iopub.status.busy": "2024-04-18T07:41:23.033844Z",
     "iopub.status.idle": "2024-04-18T07:41:43.342471Z",
     "shell.execute_reply": "2024-04-18T07:41:43.341561Z",
     "shell.execute_reply.started": "2024-04-18T07:41:23.034118Z"
    },
    "trusted": true
   },
   "outputs": [],
   "source": [
    "submission.to_csv('submission.csv')"
   ]
  },
  {
   "cell_type": "markdown",
   "metadata": {},
   "source": [
    "## Check Brackets: Analysis"
   ]
  },
  {
   "cell_type": "code",
   "execution_count": 38,
   "metadata": {
    "execution": {
     "iopub.execute_input": "2024-04-18T07:41:43.344349Z",
     "iopub.status.busy": "2024-04-18T07:41:43.343583Z",
     "iopub.status.idle": "2024-04-18T07:41:47.824421Z",
     "shell.execute_reply": "2024-04-18T07:41:47.823596Z",
     "shell.execute_reply.started": "2024-04-18T07:41:43.344318Z"
    },
    "trusted": true
   },
   "outputs": [],
   "source": [
    "anal_m, anal_w = result_m.copy(), result_w.copy()\n",
    "\n",
    "anal_m['rd'] = anal_m['Slot'].str.slice(start=1, stop=2)\n",
    "anal_w['rd'] = anal_w['Slot'].str.slice(start=1, stop=2)"
   ]
  },
  {
   "cell_type": "code",
   "execution_count": 39,
   "metadata": {
    "execution": {
     "iopub.execute_input": "2024-04-18T07:41:47.82604Z",
     "iopub.status.busy": "2024-04-18T07:41:47.825581Z",
     "iopub.status.idle": "2024-04-18T07:41:47.831981Z",
     "shell.execute_reply": "2024-04-18T07:41:47.830767Z",
     "shell.execute_reply.started": "2024-04-18T07:41:47.826013Z"
    },
    "trusted": true
   },
   "outputs": [],
   "source": [
    "teams_per_rd = df_men_2024[\n",
    "    ['rd2_win', 'rd3_win', 'rd4_win', 'rd5_win', 'rd6_win','rd7_win']].sum().values"
   ]
  },
  {
   "cell_type": "code",
   "execution_count": 40,
   "metadata": {
    "execution": {
     "iopub.execute_input": "2024-04-18T07:41:47.836153Z",
     "iopub.status.busy": "2024-04-18T07:41:47.835816Z",
     "iopub.status.idle": "2024-04-18T07:41:53.992566Z",
     "shell.execute_reply": "2024-04-18T07:41:53.991516Z",
     "shell.execute_reply.started": "2024-04-18T07:41:47.836127Z"
    },
    "trusted": true
   },
   "outputs": [],
   "source": [
    "## MENS\n",
    "\n",
    "anal_m = anal_m.merge(\n",
    "    seeds_m[['Seed','TeamID']],\n",
    "    left_on='Team', right_on='Seed',\n",
    "    how='left'\n",
    ").merge(\n",
    "    df_men_2024.reset_index()[['player','TeamID']],\n",
    "    on='TeamID'\n",
    ")\n",
    "\n",
    "df_sim_m = anal_m.groupby(\n",
    "    ['player','rd'])['Seed'].count().to_frame().unstack(\n",
    "    level=1\n",
    ")\n",
    "df_sim_m.columns = df_sim_m.columns.droplevel()\n",
    "\n",
    "## adjust row counts to likelihood of advancing\n",
    "df_sim_m = df_sim_m.div(\n",
    "    df_sim_m.sum(), axis=1\n",
    ").mul(\n",
    "    teams_per_rd, axis=1\n",
    ")"
   ]
  },
  {
   "cell_type": "code",
   "execution_count": 41,
   "metadata": {
    "execution": {
     "iopub.execute_input": "2024-04-18T07:41:53.994156Z",
     "iopub.status.busy": "2024-04-18T07:41:53.993857Z",
     "iopub.status.idle": "2024-04-18T07:41:54.002204Z",
     "shell.execute_reply": "2024-04-18T07:41:54.001113Z",
     "shell.execute_reply.started": "2024-04-18T07:41:53.994132Z"
    },
    "trusted": true
   },
   "outputs": [],
   "source": [
    "df_ref_m = df_men_2024[\n",
    "    ['rd2_win', 'rd3_win', 'rd4_win', 'rd5_win', 'rd6_win','rd7_win']]\n",
    "df_ref_m.columns = list(np.arange(1,7))\n",
    "\n",
    "## find diff: pre vs. post-goto conversion\n",
    "df_diff_m = df_ref_m.loc[df_sim_m.index].sort_index().values - df_sim_m.sort_index().values\n",
    "\n",
    "df_diff_m = pd.DataFrame(\n",
    "    df_diff_m,\n",
    "    index = df_sim_m.index,\n",
    "    columns = df_sim_m.columns\n",
    ")"
   ]
  },
  {
   "cell_type": "markdown",
   "metadata": {},
   "source": [
    "getting crushed by the goto conversion:\n",
    "* Boise State (lost their play-in; won't appear in private LB)\n",
    "* Colorado State (won the play-in)\n",
    "* Florida\n",
    "* Marquette\n",
    "* Texas"
   ]
  },
  {
   "cell_type": "code",
   "execution_count": 42,
   "metadata": {
    "execution": {
     "iopub.execute_input": "2024-04-18T07:39:28.297238Z",
     "iopub.status.busy": "2024-04-18T07:39:28.296057Z",
     "iopub.status.idle": "2024-04-18T07:39:28.308247Z",
     "shell.execute_reply": "2024-04-18T07:39:28.306933Z",
     "shell.execute_reply.started": "2024-04-18T07:39:28.297204Z"
    },
    "papermill": {
     "duration": 1.627288,
     "end_time": "2024-03-19T11:39:53.273816",
     "exception": false,
     "start_time": "2024-03-19T11:39:51.646528",
     "status": "completed"
    },
    "tags": [],
    "trusted": true
   },
   "outputs": [],
   "source": [
    "class Percent(float):\n",
    "    def __str__(self):\n",
    "        return '{:.1%}'.format(self)\n",
    "\n",
    "def get_heatMap(output_df, rounds_list, title):\n",
    "    output_df = output_df.sort_values(by=output_df.columns.tolist()[-1], ascending=False)\n",
    "    players_list = output_df.index.tolist()\n",
    "    probabilities_npMatrix = [[Percent(e) for e in l] for l in output_df.values.tolist()]\n",
    "    probabilitiesText_npMatrix = np.array(probabilities_npMatrix, dtype='str_')\n",
    "\n",
    "    fig = px.imshow(probabilities_npMatrix, x=rounds_list, y=players_list, color_continuous_scale='Greens', aspect=\"auto\", width=800, height=1600)\n",
    "    fig.update_traces(text=probabilitiesText_npMatrix , texttemplate=\"%{text}\")\n",
    "    fig.update_xaxes(side=\"top\")\n",
    "    fig.update(layout_coloraxis_showscale=False)\n",
    "    fig.update_layout(title=title)\n",
    "    fig.show()\n",
    "    \n"
   ]
  },
  {
   "cell_type": "code",
   "execution_count": 49,
   "metadata": {
    "execution": {
     "iopub.execute_input": "2024-04-18T07:41:54.004502Z",
     "iopub.status.busy": "2024-04-18T07:41:54.003419Z",
     "iopub.status.idle": "2024-04-18T07:41:55.488978Z",
     "shell.execute_reply": "2024-04-18T07:41:55.488004Z",
     "shell.execute_reply.started": "2024-04-18T07:41:54.004461Z"
    },
    "trusted": true
   },
   "outputs": [
    {
     "data": {
      "text/plain": [
       "<Axes: xlabel='rd', ylabel='player'>"
      ]
     },
     "execution_count": 49,
     "metadata": {},
     "output_type": "execute_result"
    },
    {
     "data": {
      "image/png": "[encoded data removed]",
      "text/plain": [
       "<Figure size 1000x1000 with 2 Axes>"
      ]
     },
     "metadata": {},
     "output_type": "display_data"
    }
   ],
   "source": [
    "import seaborn as sns\n",
    "import matplotlib.pyplot as plt\n",
    "\n",
    "## visualize differences of prob for each team\n",
    "fig, ax = plt.subplots(figsize=(10,10))\n",
    "sns.heatmap(df_diff_m, ax=ax)"
   ]
  },
  {
   "cell_type": "code",
   "execution_count": null,
   "metadata": {
    "execution": {
     "iopub.execute_input": "2024-04-18T07:41:55.490225Z",
     "iopub.status.busy": "2024-04-18T07:41:55.489921Z",
     "iopub.status.idle": "2024-04-18T07:41:55.547928Z",
     "shell.execute_reply": "2024-04-18T07:41:55.546907Z",
     "shell.execute_reply.started": "2024-04-18T07:41:55.490201Z"
    },
    "trusted": true
   },
   "outputs": [
    {
     "name": "stdout",
     "output_type": "stream",
     "text": [
      "5.10.4\n"
     ]
    },
    {
     "ename": "ValueError",
     "evalue": "Mime type rendering requires nbformat>=4.2.0 but it is not installed",
     "output_type": "error",
     "traceback": [
      "\u001b[0;31m---------------------------------------------------------------------------\u001b[0m",
      "\u001b[0;31mValueError\u001b[0m                                Traceback (most recent call last)",
      "Cell \u001b[0;32mIn[58], line 4\u001b[0m\n\u001b[1;32m      2\u001b[0m \u001b[38;5;28;01mimport\u001b[39;00m\u001b[38;5;250m \u001b[39m\u001b[38;5;21;01mnbformat\u001b[39;00m\n\u001b[1;32m      3\u001b[0m \u001b[38;5;28mprint\u001b[39m(nbformat\u001b[38;5;241m.\u001b[39m__version__)\n\u001b[0;32m----> 4\u001b[0m \u001b[43mget_heatMap\u001b[49m\u001b[43m(\u001b[49m\n\u001b[1;32m      5\u001b[0m \u001b[43m    \u001b[49m\u001b[43mdf_sim_m\u001b[49m\u001b[43m,\u001b[49m\u001b[43m \u001b[49m\n\u001b[1;32m      6\u001b[0m \u001b[43m    \u001b[49m\u001b[43mrounds_list\u001b[49m\u001b[43m \u001b[49m\u001b[38;5;241;43m=\u001b[39;49m\u001b[43m \u001b[49m\u001b[43m[\u001b[49m\u001b[38;5;124;43m'\u001b[39;49m\u001b[38;5;124;43mReach R2\u001b[39;49m\u001b[38;5;124;43m'\u001b[39;49m\u001b[43m,\u001b[49m\u001b[43m \u001b[49m\u001b[38;5;124;43m'\u001b[39;49m\u001b[38;5;124;43mReach S16\u001b[39;49m\u001b[38;5;124;43m'\u001b[39;49m\u001b[43m,\u001b[49m\u001b[43m \u001b[49m\u001b[38;5;124;43m'\u001b[39;49m\u001b[38;5;124;43mReach E8\u001b[39;49m\u001b[38;5;124;43m'\u001b[39;49m\u001b[43m,\u001b[49m\u001b[43m \u001b[49m\u001b[38;5;124;43m'\u001b[39;49m\u001b[38;5;124;43mReach F4\u001b[39;49m\u001b[38;5;124;43m'\u001b[39;49m\u001b[43m,\u001b[49m\u001b[43m \u001b[49m\u001b[38;5;124;43m'\u001b[39;49m\u001b[38;5;124;43mReach CG\u001b[39;49m\u001b[38;5;124;43m'\u001b[39;49m\u001b[43m,\u001b[49m\u001b[43m \u001b[49m\u001b[38;5;124;43m'\u001b[39;49m\u001b[38;5;124;43mChampion\u001b[39;49m\u001b[38;5;124;43m'\u001b[39;49m\u001b[43m]\u001b[49m\u001b[43m,\u001b[49m\n\u001b[1;32m      7\u001b[0m \u001b[43m    \u001b[49m\u001b[43mtitle\u001b[49m\u001b[43m \u001b[49m\u001b[38;5;241;43m=\u001b[39;49m\u001b[43m \u001b[49m\u001b[38;5;124;43m'\u001b[39;49m\u001b[38;5;124;43mCHECK: Mens March Madness 2024\u001b[39;49m\u001b[38;5;124;43m'\u001b[39;49m\u001b[43m)\u001b[49m\n",
      "Cell \u001b[0;32mIn[42], line 16\u001b[0m, in \u001b[0;36mget_heatMap\u001b[0;34m(output_df, rounds_list, title)\u001b[0m\n\u001b[1;32m     14\u001b[0m fig\u001b[38;5;241m.\u001b[39mupdate(layout_coloraxis_showscale\u001b[38;5;241m=\u001b[39m\u001b[38;5;28;01mFalse\u001b[39;00m)\n\u001b[1;32m     15\u001b[0m fig\u001b[38;5;241m.\u001b[39mupdate_layout(title\u001b[38;5;241m=\u001b[39mtitle)\n\u001b[0;32m---> 16\u001b[0m \u001b[43mfig\u001b[49m\u001b[38;5;241;43m.\u001b[39;49m\u001b[43mshow\u001b[49m\u001b[43m(\u001b[49m\u001b[43m)\u001b[49m\n",
      "File \u001b[0;32m~/Documents/GitHub/mmadness-2025/venv/lib/python3.13/site-packages/plotly/basedatatypes.py:3414\u001b[0m, in \u001b[0;36mBaseFigure.show\u001b[0;34m(self, *args, **kwargs)\u001b[0m\n\u001b[1;32m   3381\u001b[0m \u001b[38;5;250m\u001b[39m\u001b[38;5;124;03m\"\"\"\u001b[39;00m\n\u001b[1;32m   3382\u001b[0m \u001b[38;5;124;03mShow a figure using either the default renderer(s) or the renderer(s)\u001b[39;00m\n\u001b[1;32m   3383\u001b[0m \u001b[38;5;124;03mspecified by the renderer argument\u001b[39;00m\n\u001b[0;32m   (...)\u001b[0m\n\u001b[1;32m   3410\u001b[0m \u001b[38;5;124;03mNone\u001b[39;00m\n\u001b[1;32m   3411\u001b[0m \u001b[38;5;124;03m\"\"\"\u001b[39;00m\n\u001b[1;32m   3412\u001b[0m \u001b[38;5;28;01mimport\u001b[39;00m\u001b[38;5;250m \u001b[39m\u001b[38;5;21;01mplotly\u001b[39;00m\u001b[38;5;21;01m.\u001b[39;00m\u001b[38;5;21;01mio\u001b[39;00m\u001b[38;5;250m \u001b[39m\u001b[38;5;28;01mas\u001b[39;00m\u001b[38;5;250m \u001b[39m\u001b[38;5;21;01mpio\u001b[39;00m\n\u001b[0;32m-> 3414\u001b[0m \u001b[38;5;28;01mreturn\u001b[39;00m \u001b[43mpio\u001b[49m\u001b[38;5;241;43m.\u001b[39;49m\u001b[43mshow\u001b[49m\u001b[43m(\u001b[49m\u001b[38;5;28;43mself\u001b[39;49m\u001b[43m,\u001b[49m\u001b[43m \u001b[49m\u001b[38;5;241;43m*\u001b[39;49m\u001b[43margs\u001b[49m\u001b[43m,\u001b[49m\u001b[43m \u001b[49m\u001b[38;5;241;43m*\u001b[39;49m\u001b[38;5;241;43m*\u001b[39;49m\u001b[43mkwargs\u001b[49m\u001b[43m)\u001b[49m\n",
      "File \u001b[0;32m~/Documents/GitHub/mmadness-2025/venv/lib/python3.13/site-packages/plotly/io/_renderers.py:425\u001b[0m, in \u001b[0;36mshow\u001b[0;34m(fig, renderer, validate, **kwargs)\u001b[0m\n\u001b[1;32m    420\u001b[0m     \u001b[38;5;28;01mraise\u001b[39;00m \u001b[38;5;167;01mValueError\u001b[39;00m(\n\u001b[1;32m    421\u001b[0m         \u001b[38;5;124m\"\u001b[39m\u001b[38;5;124mMime type rendering requires ipython but it is not installed\u001b[39m\u001b[38;5;124m\"\u001b[39m\n\u001b[1;32m    422\u001b[0m     )\n\u001b[1;32m    424\u001b[0m \u001b[38;5;28;01mif\u001b[39;00m \u001b[38;5;129;01mnot\u001b[39;00m nbformat \u001b[38;5;129;01mor\u001b[39;00m Version(nbformat\u001b[38;5;241m.\u001b[39m__version__) \u001b[38;5;241m<\u001b[39m Version(\u001b[38;5;124m\"\u001b[39m\u001b[38;5;124m4.2.0\u001b[39m\u001b[38;5;124m\"\u001b[39m):\n\u001b[0;32m--> 425\u001b[0m     \u001b[38;5;28;01mraise\u001b[39;00m \u001b[38;5;167;01mValueError\u001b[39;00m(\n\u001b[1;32m    426\u001b[0m         \u001b[38;5;124m\"\u001b[39m\u001b[38;5;124mMime type rendering requires nbformat>=4.2.0 but it is not installed\u001b[39m\u001b[38;5;124m\"\u001b[39m\n\u001b[1;32m    427\u001b[0m     )\n\u001b[1;32m    429\u001b[0m display_jupyter_version_warnings()\n\u001b[1;32m    431\u001b[0m ipython_display\u001b[38;5;241m.\u001b[39mdisplay(bundle, raw\u001b[38;5;241m=\u001b[39m\u001b[38;5;28;01mTrue\u001b[39;00m)\n",
      "\u001b[0;31mValueError\u001b[0m: Mime type rendering requires nbformat>=4.2.0 but it is not installed"
     ]
    }
   ],
   "source": [
    "## visualize advancement\n",
    "get_heatMap(\n",
    "    df_sim_m, \n",
    "    rounds_list = ['Reach R2', 'Reach S16', 'Reach E8', 'Reach F4', 'Reach CG', 'Champion'],\n",
    "    title = 'CHECK: Mens March Madness 2024')"
   ]
  },
  {
   "cell_type": "code",
   "execution_count": 52,
   "metadata": {
    "execution": {
     "iopub.execute_input": "2024-04-18T07:41:55.549523Z",
     "iopub.status.busy": "2024-04-18T07:41:55.549139Z",
     "iopub.status.idle": "2024-04-18T07:42:01.430526Z",
     "shell.execute_reply": "2024-04-18T07:42:01.429135Z",
     "shell.execute_reply.started": "2024-04-18T07:41:55.549497Z"
    },
    "trusted": true
   },
   "outputs": [],
   "source": [
    "## WOMENS\n",
    "\n",
    "anal_w = anal_w.merge(\n",
    "    seeds_w[['Seed','TeamID']],\n",
    "    left_on='Team', right_on='Seed',\n",
    "    how='left'\n",
    ").merge(\n",
    "    df_women_2024.reset_index()[['player','TeamID']],\n",
    "    on='TeamID'\n",
    ")\n",
    "\n",
    "df_sim_w = anal_w.groupby(\n",
    "    ['player','rd'])['Seed'].count().to_frame().unstack(\n",
    "    level=1\n",
    ")\n",
    "df_sim_w.columns = df_sim_w.columns.droplevel()\n",
    "\n",
    "## adjust row counts to likelihood of advancing\n",
    "df_sim_w = df_sim_w.div(\n",
    "    df_sim_w.sum(), axis=1\n",
    ").mul(\n",
    "    teams_per_rd, axis=1\n",
    ")"
   ]
  },
  {
   "cell_type": "code",
   "execution_count": 53,
   "metadata": {
    "execution": {
     "iopub.execute_input": "2024-04-18T07:42:01.433682Z",
     "iopub.status.busy": "2024-04-18T07:42:01.432867Z",
     "iopub.status.idle": "2024-04-18T07:42:01.443264Z",
     "shell.execute_reply": "2024-04-18T07:42:01.441952Z",
     "shell.execute_reply.started": "2024-04-18T07:42:01.433642Z"
    },
    "trusted": true
   },
   "outputs": [],
   "source": [
    "\n",
    "df_ref_w = df_women_2024[\n",
    "    ['rd2_win', 'rd3_win', 'rd4_win', 'rd5_win', 'rd6_win','rd7_win']]\n",
    "df_ref_w.columns = list(np.arange(1,7))\n",
    "\n",
    "df_diff_w = df_ref_w.loc[df_sim_w.index].sort_index().values - df_sim_w.sort_index().values\n",
    "\n",
    "df_diff_w = pd.DataFrame(\n",
    "    df_diff_w,\n",
    "    index = df_sim_w.index,\n",
    "    columns = df_sim_w.columns\n",
    ")"
   ]
  },
  {
   "cell_type": "markdown",
   "metadata": {},
   "source": [
    "- Arizona\n",
    "- Baylor\n",
    "- Columbia"
   ]
  },
  {
   "cell_type": "code",
   "execution_count": 54,
   "metadata": {
    "execution": {
     "iopub.execute_input": "2024-04-18T07:42:01.44525Z",
     "iopub.status.busy": "2024-04-18T07:42:01.444517Z",
     "iopub.status.idle": "2024-04-18T07:42:02.018979Z",
     "shell.execute_reply": "2024-04-18T07:42:02.017826Z",
     "shell.execute_reply.started": "2024-04-18T07:42:01.445221Z"
    },
    "trusted": true
   },
   "outputs": [
    {
     "data": {
      "text/plain": [
       "<Axes: xlabel='rd', ylabel='player'>"
      ]
     },
     "execution_count": 54,
     "metadata": {},
     "output_type": "execute_result"
    },
    {
     "data": {
      "image/png": "[encoded data removed]",
      "text/plain": [
       "<Figure size 1000x1000 with 2 Axes>"
      ]
     },
     "metadata": {},
     "output_type": "display_data"
    }
   ],
   "source": [
    "fig, ax = plt.subplots(figsize=(10,10))\n",
    "sns.heatmap(df_diff_w, ax=ax)"
   ]
  },
  {
   "cell_type": "code",
   "execution_count": 55,
   "metadata": {
    "execution": {
     "iopub.execute_input": "2024-04-18T07:42:02.020865Z",
     "iopub.status.busy": "2024-04-18T07:42:02.020539Z",
     "iopub.status.idle": "2024-04-18T07:42:02.075122Z",
     "shell.execute_reply": "2024-04-18T07:42:02.073999Z",
     "shell.execute_reply.started": "2024-04-18T07:42:02.020837Z"
    },
    "trusted": true
   },
   "outputs": [
    {
     "ename": "ValueError",
     "evalue": "Mime type rendering requires nbformat>=4.2.0 but it is not installed",
     "output_type": "error",
     "traceback": [
      "\u001b[0;31m---------------------------------------------------------------------------\u001b[0m",
      "\u001b[0;31mValueError\u001b[0m                                Traceback (most recent call last)",
      "Cell \u001b[0;32mIn[55], line 1\u001b[0m\n\u001b[0;32m----> 1\u001b[0m \u001b[43mget_heatMap\u001b[49m\u001b[43m(\u001b[49m\n\u001b[1;32m      2\u001b[0m \u001b[43m    \u001b[49m\u001b[43mdf_sim_w\u001b[49m\u001b[43m,\u001b[49m\u001b[43m \u001b[49m\n\u001b[1;32m      3\u001b[0m \u001b[43m    \u001b[49m\u001b[43mrounds_list\u001b[49m\u001b[43m \u001b[49m\u001b[38;5;241;43m=\u001b[39;49m\u001b[43m \u001b[49m\u001b[43m[\u001b[49m\u001b[38;5;124;43m'\u001b[39;49m\u001b[38;5;124;43mReach R2\u001b[39;49m\u001b[38;5;124;43m'\u001b[39;49m\u001b[43m,\u001b[49m\u001b[43m \u001b[49m\u001b[38;5;124;43m'\u001b[39;49m\u001b[38;5;124;43mReach S16\u001b[39;49m\u001b[38;5;124;43m'\u001b[39;49m\u001b[43m,\u001b[49m\u001b[43m \u001b[49m\u001b[38;5;124;43m'\u001b[39;49m\u001b[38;5;124;43mReach E8\u001b[39;49m\u001b[38;5;124;43m'\u001b[39;49m\u001b[43m,\u001b[49m\u001b[43m \u001b[49m\u001b[38;5;124;43m'\u001b[39;49m\u001b[38;5;124;43mReach F4\u001b[39;49m\u001b[38;5;124;43m'\u001b[39;49m\u001b[43m,\u001b[49m\u001b[43m \u001b[49m\u001b[38;5;124;43m'\u001b[39;49m\u001b[38;5;124;43mReach CG\u001b[39;49m\u001b[38;5;124;43m'\u001b[39;49m\u001b[43m,\u001b[49m\u001b[43m \u001b[49m\u001b[38;5;124;43m'\u001b[39;49m\u001b[38;5;124;43mChampion\u001b[39;49m\u001b[38;5;124;43m'\u001b[39;49m\u001b[43m]\u001b[49m\u001b[43m,\u001b[49m\n\u001b[1;32m      4\u001b[0m \u001b[43m    \u001b[49m\u001b[43mtitle\u001b[49m\u001b[43m \u001b[49m\u001b[38;5;241;43m=\u001b[39;49m\u001b[43m \u001b[49m\u001b[38;5;124;43m'\u001b[39;49m\u001b[38;5;124;43mCHECK: Womens March Madness 2024\u001b[39;49m\u001b[38;5;124;43m'\u001b[39;49m\u001b[43m)\u001b[49m\n",
      "Cell \u001b[0;32mIn[42], line 16\u001b[0m, in \u001b[0;36mget_heatMap\u001b[0;34m(output_df, rounds_list, title)\u001b[0m\n\u001b[1;32m     14\u001b[0m fig\u001b[38;5;241m.\u001b[39mupdate(layout_coloraxis_showscale\u001b[38;5;241m=\u001b[39m\u001b[38;5;28;01mFalse\u001b[39;00m)\n\u001b[1;32m     15\u001b[0m fig\u001b[38;5;241m.\u001b[39mupdate_layout(title\u001b[38;5;241m=\u001b[39mtitle)\n\u001b[0;32m---> 16\u001b[0m \u001b[43mfig\u001b[49m\u001b[38;5;241;43m.\u001b[39;49m\u001b[43mshow\u001b[49m\u001b[43m(\u001b[49m\u001b[43m)\u001b[49m\n",
      "File \u001b[0;32m~/Documents/GitHub/mmadness-2025/venv/lib/python3.13/site-packages/plotly/basedatatypes.py:3414\u001b[0m, in \u001b[0;36mBaseFigure.show\u001b[0;34m(self, *args, **kwargs)\u001b[0m\n\u001b[1;32m   3381\u001b[0m \u001b[38;5;250m\u001b[39m\u001b[38;5;124;03m\"\"\"\u001b[39;00m\n\u001b[1;32m   3382\u001b[0m \u001b[38;5;124;03mShow a figure using either the default renderer(s) or the renderer(s)\u001b[39;00m\n\u001b[1;32m   3383\u001b[0m \u001b[38;5;124;03mspecified by the renderer argument\u001b[39;00m\n\u001b[0;32m   (...)\u001b[0m\n\u001b[1;32m   3410\u001b[0m \u001b[38;5;124;03mNone\u001b[39;00m\n\u001b[1;32m   3411\u001b[0m \u001b[38;5;124;03m\"\"\"\u001b[39;00m\n\u001b[1;32m   3412\u001b[0m \u001b[38;5;28;01mimport\u001b[39;00m\u001b[38;5;250m \u001b[39m\u001b[38;5;21;01mplotly\u001b[39;00m\u001b[38;5;21;01m.\u001b[39;00m\u001b[38;5;21;01mio\u001b[39;00m\u001b[38;5;250m \u001b[39m\u001b[38;5;28;01mas\u001b[39;00m\u001b[38;5;250m \u001b[39m\u001b[38;5;21;01mpio\u001b[39;00m\n\u001b[0;32m-> 3414\u001b[0m \u001b[38;5;28;01mreturn\u001b[39;00m \u001b[43mpio\u001b[49m\u001b[38;5;241;43m.\u001b[39;49m\u001b[43mshow\u001b[49m\u001b[43m(\u001b[49m\u001b[38;5;28;43mself\u001b[39;49m\u001b[43m,\u001b[49m\u001b[43m \u001b[49m\u001b[38;5;241;43m*\u001b[39;49m\u001b[43margs\u001b[49m\u001b[43m,\u001b[49m\u001b[43m \u001b[49m\u001b[38;5;241;43m*\u001b[39;49m\u001b[38;5;241;43m*\u001b[39;49m\u001b[43mkwargs\u001b[49m\u001b[43m)\u001b[49m\n",
      "File \u001b[0;32m~/Documents/GitHub/mmadness-2025/venv/lib/python3.13/site-packages/plotly/io/_renderers.py:425\u001b[0m, in \u001b[0;36mshow\u001b[0;34m(fig, renderer, validate, **kwargs)\u001b[0m\n\u001b[1;32m    420\u001b[0m     \u001b[38;5;28;01mraise\u001b[39;00m \u001b[38;5;167;01mValueError\u001b[39;00m(\n\u001b[1;32m    421\u001b[0m         \u001b[38;5;124m\"\u001b[39m\u001b[38;5;124mMime type rendering requires ipython but it is not installed\u001b[39m\u001b[38;5;124m\"\u001b[39m\n\u001b[1;32m    422\u001b[0m     )\n\u001b[1;32m    424\u001b[0m \u001b[38;5;28;01mif\u001b[39;00m \u001b[38;5;129;01mnot\u001b[39;00m nbformat \u001b[38;5;129;01mor\u001b[39;00m Version(nbformat\u001b[38;5;241m.\u001b[39m__version__) \u001b[38;5;241m<\u001b[39m Version(\u001b[38;5;124m\"\u001b[39m\u001b[38;5;124m4.2.0\u001b[39m\u001b[38;5;124m\"\u001b[39m):\n\u001b[0;32m--> 425\u001b[0m     \u001b[38;5;28;01mraise\u001b[39;00m \u001b[38;5;167;01mValueError\u001b[39;00m(\n\u001b[1;32m    426\u001b[0m         \u001b[38;5;124m\"\u001b[39m\u001b[38;5;124mMime type rendering requires nbformat>=4.2.0 but it is not installed\u001b[39m\u001b[38;5;124m\"\u001b[39m\n\u001b[1;32m    427\u001b[0m     )\n\u001b[1;32m    429\u001b[0m display_jupyter_version_warnings()\n\u001b[1;32m    431\u001b[0m ipython_display\u001b[38;5;241m.\u001b[39mdisplay(bundle, raw\u001b[38;5;241m=\u001b[39m\u001b[38;5;28;01mTrue\u001b[39;00m)\n",
      "\u001b[0;31mValueError\u001b[0m: Mime type rendering requires nbformat>=4.2.0 but it is not installed"
     ]
    }
   ],
   "source": [
    "get_heatMap(\n",
    "    df_sim_w, \n",
    "    rounds_list = ['Reach R2', 'Reach S16', 'Reach E8', 'Reach F4', 'Reach CG', 'Champion'],\n",
    "    title = 'CHECK: Womens March Madness 2024')"
   ]
  }
 ],
 "metadata": {
  "kaggle": {
   "accelerator": "none",
   "dataSources": [
    {
     "databundleVersionId": 8023814,
     "sourceId": 70068,
     "sourceType": "competition"
    },
    {
     "datasetId": 4822300,
     "sourceId": 8153111,
     "sourceType": "datasetVersion"
    }
   ],
   "dockerImageVersionId": 30664,
   "isGpuEnabled": false,
   "isInternetEnabled": false,
   "language": "python",
   "sourceType": "notebook"
  },
  "kernelspec": {
   "display_name": "venv",
   "language": "python",
   "name": "python3"
  },
  "language_info": {
   "codemirror_mode": {
    "name": "ipython",
    "version": 3
   },
   "file_extension": ".py",
   "mimetype": "text/x-python",
   "name": "python",
   "nbconvert_exporter": "python",
   "pygments_lexer": "ipython3",
   "version": "3.13.1"
  },
  "papermill": {
   "default_parameters": {},
   "duration": 45.867769,
   "end_time": "2024-03-19T11:40:34.46642",
   "environment_variables": {},
   "exception": null,
   "input_path": "__notebook__.ipynb",
   "output_path": "__notebook__.ipynb",
   "parameters": {},
   "start_time": "2024-03-19T11:39:48.598651",
   "version": "2.4.0"
  }
 },
 "nbformat": 4,
 "nbformat_minor": 4
}
