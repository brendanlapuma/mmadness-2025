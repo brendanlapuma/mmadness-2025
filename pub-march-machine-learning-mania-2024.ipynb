{
 "cells": [
  {
   "cell_type": "markdown",
   "metadata": {
    "papermill": {
     "duration": 0.008129,
     "end_time": "2024-03-19T11:39:51.639102",
     "exception": false,
     "start_time": "2024-03-19T11:39:51.630973",
     "status": "completed"
    },
    "tags": []
   },
   "source": [
    "Credit to:\n",
    "- [conversion notebook](https://www.kaggle.com/code/kaito510/updated-1xgold-2xsilvers-key-ingredient)\n",
    "- [simulation notebook](https://www.kaggle.com/code/lennarthaupts/simulate-n-brackets)"
   ]
  },
  {
   "cell_type": "markdown",
   "metadata": {},
   "source": [
    "# SETUP"
   ]
  },
  {
   "cell_type": "markdown",
   "metadata": {},
   "source": [
    "## Import"
   ]
  },
  {
   "cell_type": "code",
   "execution_count": 15,
   "metadata": {
    "execution": {
     "iopub.execute_input": "2024-04-18T07:39:26.316801Z",
     "iopub.status.busy": "2024-04-18T07:39:26.315758Z",
     "iopub.status.idle": "2024-04-18T07:39:28.286406Z",
     "shell.execute_reply": "2024-04-18T07:39:28.28502Z",
     "shell.execute_reply.started": "2024-04-18T07:39:26.316739Z"
    },
    "trusted": true
   },
   "outputs": [],
   "source": [
    "import pandas as pd\n",
    "import numpy as np\n",
    "\n",
    "import plotly.express as px\n",
    "import itertools\n",
    "import os\n",
    "\n",
    "import math\n",
    "import statistics\n",
    "import copy"
   ]
  },
  {
   "cell_type": "markdown",
   "metadata": {},
   "source": [
    "## Filepaths"
   ]
  },
  {
   "cell_type": "code",
   "execution_count": 16,
   "metadata": {
    "execution": {
     "iopub.execute_input": "2024-04-18T07:39:28.288936Z",
     "iopub.status.busy": "2024-04-18T07:39:28.288442Z",
     "iopub.status.idle": "2024-04-18T07:39:28.294729Z",
     "shell.execute_reply": "2024-04-18T07:39:28.293533Z",
     "shell.execute_reply.started": "2024-04-18T07:39:28.288904Z"
    },
    "trusted": true
   },
   "outputs": [],
   "source": [
    "inp_path = './march-machine-learning-mania-2024'\n",
    "ml_mania_path = './march-machine-learning-mania-2024'"
   ]
  },
  {
   "cell_type": "markdown",
   "metadata": {},
   "source": [
    "# Load Data"
   ]
  },
  {
   "cell_type": "code",
   "execution_count": 17,
   "metadata": {
    "execution": {
     "iopub.execute_input": "2024-04-18T07:39:31.280842Z",
     "iopub.status.busy": "2024-04-18T07:39:31.280168Z",
     "iopub.status.idle": "2024-04-18T07:39:31.341476Z",
     "shell.execute_reply": "2024-04-18T07:39:31.340284Z",
     "shell.execute_reply.started": "2024-04-18T07:39:31.280794Z"
    },
    "papermill": {
     "duration": 0.065994,
     "end_time": "2024-03-19T11:39:55.819916",
     "exception": false,
     "start_time": "2024-03-19T11:39:55.753922",
     "status": "completed"
    },
    "tags": [],
    "trusted": true
   },
   "outputs": [],
   "source": [
    "## tourney results\n",
    "df_labels_men = pd.read_csv(\n",
    "    os.path.join(\n",
    "        inp_path,\n",
    "        'MNCAATourneyDetailedResults.csv')\n",
    "    )\n",
    "df_labels_women = pd.read_csv(\n",
    "    os.path.join(\n",
    "        inp_path,\n",
    "        'WNCAATourneyDetailedResults.csv')\n",
    "    )\n",
    "\n",
    "## sort labels\n",
    "df_labels_men = df_labels_men.sort_values(\n",
    "    by=['Season', 'DayNum']).reset_index(drop=True)\n",
    "df_labels_women = df_labels_women.sort_values(\n",
    "    by=['Season', 'DayNum']).reset_index(drop=True)\n",
    "\n",
    "## team spellings\n",
    "df_spell_men = pd.read_csv(\n",
    "    os.path.join(\n",
    "        inp_path,\n",
    "        'MTeamSpellings.csv'),\n",
    "    encoding='cp1252')\n",
    "df_spell_women = pd.read_csv(\n",
    "    os.path.join(\n",
    "        inp_path,\n",
    "        'WTeamSpellings.csv'),\n",
    "    encoding='cp1252')"
   ]
  },
  {
   "cell_type": "markdown",
   "metadata": {},
   "source": [
    "## Mens"
   ]
  },
  {
   "cell_type": "code",
   "execution_count": 18,
   "metadata": {
    "execution": {
     "iopub.execute_input": "2024-04-18T07:51:34.590813Z",
     "iopub.status.busy": "2024-04-18T07:51:34.590381Z",
     "iopub.status.idle": "2024-04-18T07:51:34.628196Z",
     "shell.execute_reply": "2024-04-18T07:51:34.627099Z",
     "shell.execute_reply.started": "2024-04-18T07:51:34.59078Z"
    },
    "trusted": true
   },
   "outputs": [],
   "source": [
    "## 2024\n",
    "\n",
    "df_men_2024 = pd.read_excel(\n",
    "    os.path.join(\n",
    "        ml_mania_path,\n",
    "        'March_Madness_2024_Mens.xlsx'\n",
    "    ),\n",
    "    index_col = 'team_name'\n",
    ")\n",
    "\n",
    "df_men_2024.index.rename(\n",
    "    'player',\n",
    "    inplace=True\n",
    ")"
   ]
  },
  {
   "cell_type": "markdown",
   "metadata": {},
   "source": [
    "## Womens"
   ]
  },
  {
   "cell_type": "code",
   "execution_count": 19,
   "metadata": {
    "execution": {
     "iopub.execute_input": "2024-04-18T07:51:38.324661Z",
     "iopub.status.busy": "2024-04-18T07:51:38.324229Z",
     "iopub.status.idle": "2024-04-18T07:51:38.36573Z",
     "shell.execute_reply": "2024-04-18T07:51:38.364093Z",
     "shell.execute_reply.started": "2024-04-18T07:51:38.324628Z"
    },
    "trusted": true
   },
   "outputs": [],
   "source": [
    "## 2024\n",
    "\n",
    "df_women_2024 = pd.read_excel(\n",
    "    os.path.join(\n",
    "        ml_mania_path,\n",
    "        'March_Madness_2024_Womens.xlsx'\n",
    "    ),\n",
    "    index_col = 'team_name'\n",
    ")\n",
    "\n",
    "df_women_2024.index.rename(\n",
    "    'player',\n",
    "    inplace=True\n",
    ")"
   ]
  },
  {
   "cell_type": "markdown",
   "metadata": {
    "papermill": {
     "duration": 0.007055,
     "end_time": "2024-03-19T11:39:55.582332",
     "exception": false,
     "start_time": "2024-03-19T11:39:55.575277",
     "status": "completed"
    },
    "tags": []
   },
   "source": [
    "# GOTO CONVERSION"
   ]
  },
  {
   "cell_type": "code",
   "execution_count": 20,
   "metadata": {
    "execution": {
     "iopub.execute_input": "2024-04-18T07:39:31.170057Z",
     "iopub.status.busy": "2024-04-18T07:39:31.169641Z",
     "iopub.status.idle": "2024-04-18T07:39:31.180269Z",
     "shell.execute_reply": "2024-04-18T07:39:31.179289Z",
     "shell.execute_reply.started": "2024-04-18T07:39:31.170021Z"
    },
    "papermill": {
     "duration": 0.021596,
     "end_time": "2024-03-19T11:39:55.665253",
     "exception": false,
     "start_time": "2024-03-19T11:39:55.643657",
     "status": "completed"
    },
    "tags": [],
    "trusted": true
   },
   "outputs": [],
   "source": [
    "## source: https://github.com/gotoConversion/goto_conversion/\n",
    "\n",
    "def goto_conversion(\n",
    "    listOfOdds, \n",
    "    total = 1, \n",
    "    eps = 1e-6, \n",
    "    isAmericanOdds = False):\n",
    "\n",
    "    ## convert American Odds to Decimal Odds\n",
    "    if isAmericanOdds:\n",
    "        for i in range(len(listOfOdds)):\n",
    "            currOdds = listOfOdds[i]\n",
    "            isNegativeAmericanOdds = currOdds < 0\n",
    "            if isNegativeAmericanOdds:\n",
    "                currDecimalOdds = 1 + (100/(currOdds*-1))\n",
    "            else: ## non-neg American odds\n",
    "                currDecimalOdds = 1 + (currOdds/100)\n",
    "            listOfOdds[i] = currDecimalOdds\n",
    "\n",
    "    if len(listOfOdds) < 2:\n",
    "        raise ValueError('len(listOfOdds) must be >= 2')\n",
    "    if any(x < 1 for x in listOfOdds):\n",
    "        raise ValueError('All odds must be >= 1, set isAmericanOdds parameter to True if using American Odds')\n",
    "\n",
    "    listOfProbabilities = [1/x for x in listOfOdds] #initialize probabilities using inverse odds\n",
    "    listOfSe = [pow((x-x**2)/x,0.5) for x in listOfProbabilities] #compute the standard error (SE) for each probability\n",
    "    step = (sum(listOfProbabilities) - total)/sum(listOfSe) #compute how many steps of SE the probabilities should step back by\n",
    "    outputListOfProbabilities = [min(max(x - (y*step),eps),1) for x,y in zip(listOfProbabilities, listOfSe)]\n",
    "    return outputListOfProbabilities"
   ]
  },
  {
   "cell_type": "code",
   "execution_count": 21,
   "metadata": {},
   "outputs": [],
   "source": [
    "def set_probabilities_to_sumAtleast1(\n",
    "    listOfProbabilities, \n",
    "    preprocessThreshold = 0.99, \n",
    "    total = 1):\n",
    "    \n",
    "    multiplier = preprocessThreshold/max(listOfProbabilities)\n",
    "    listOfProbabilities = [x*multiplier for x in listOfProbabilities]\n",
    "    \n",
    "    return listOfProbabilities\n",
    "\n",
    "\n",
    "def preprocessed_goto_conversion(listOfOdds, total = 1):\n",
    "    \n",
    "    listOfProbabilities = [1/x for x in listOfOdds]\n",
    "    isProbSumBelowTotal = sum(listOfProbabilities) < total\n",
    "    \n",
    "    if isProbSumBelowTotal:\n",
    "        listOfProbabilities = set_probabilities_to_sumAtleast1(listOfProbabilities)\n",
    "        \n",
    "        ## unfair odds of losing\n",
    "        reversedListOfOdds = [1/(1-x) for x in listOfProbabilities] \n",
    "        \n",
    "        ## convert the unfair odds of losing to fair probabilities of losing\n",
    "        reversedListOfProbabilities = goto_conversion(reversedListOfOdds)\n",
    "        \n",
    "        ## convert fair probabilities of losing to fair probabilities of winning\n",
    "        outputListOfProbabilities = [1-x for x in reversedListOfProbabilities] \n",
    "    else:\n",
    "        outputListOfProbabilities = goto_conversion(listOfOdds)\n",
    "    return outputListOfProbabilities"
   ]
  },
  {
   "cell_type": "markdown",
   "metadata": {},
   "source": [
    "## Modified Matchup Generation"
   ]
  },
  {
   "cell_type": "code",
   "execution_count": 22,
   "metadata": {
    "execution": {
     "iopub.execute_input": "2024-04-18T07:40:37.423765Z",
     "iopub.status.busy": "2024-04-18T07:40:37.423447Z",
     "iopub.status.idle": "2024-04-18T07:40:37.444487Z",
     "shell.execute_reply": "2024-04-18T07:40:37.443438Z",
     "shell.execute_reply.started": "2024-04-18T07:40:37.42374Z"
    },
    "trusted": true
   },
   "outputs": [],
   "source": [
    "## load bracket data\n",
    "bracket_men_2024 = pd.read_csv('./march-machine-learning-mania-2024/MNCAATourneySlots.csv')\n",
    "bracket_women_2024 = pd.read_csv('./march-machine-learning-mania-2024/WNCAATourneySlots.csv')\n",
    "\n",
    "bracket_men_2024 = bracket_men_2024.loc[bracket_men_2024['Season']==2024]\n",
    "bracket_women_2024 = bracket_women_2024.loc[bracket_women_2024['Season']==2024]"
   ]
  },
  {
   "cell_type": "code",
   "execution_count": 23,
   "metadata": {
    "execution": {
     "iopub.execute_input": "2024-04-18T07:40:37.447046Z",
     "iopub.status.busy": "2024-04-18T07:40:37.446635Z",
     "iopub.status.idle": "2024-04-18T07:40:37.456088Z",
     "shell.execute_reply": "2024-04-18T07:40:37.455036Z",
     "shell.execute_reply.started": "2024-04-18T07:40:37.447018Z"
    },
    "trusted": true
   },
   "outputs": [],
   "source": [
    "## seeding: updated after First Four\n",
    "seeds_2024 = pd.read_csv('./march-machine-learning-mania-2024/2024_tourney_seeds.csv')\n",
    "seeds_men_2024 = seeds_2024.loc[seeds_2024['Tournament']=='M']\n",
    "seeds_women_2024 = seeds_2024.loc[seeds_2024['Tournament']=='W']"
   ]
  },
  {
   "cell_type": "code",
   "execution_count": 24,
   "metadata": {
    "execution": {
     "iopub.execute_input": "2024-04-18T07:40:37.45798Z",
     "iopub.status.busy": "2024-04-18T07:40:37.457591Z",
     "iopub.status.idle": "2024-04-18T07:40:37.47588Z",
     "shell.execute_reply": "2024-04-18T07:40:37.474459Z",
     "shell.execute_reply.started": "2024-04-18T07:40:37.457924Z"
    },
    "trusted": true
   },
   "outputs": [
    {
     "name": "stdout",
     "output_type": "stream",
     "text": [
      "{'W01': 'R1W1', 'W16': 'R1W1', 'W02': 'R1W2', 'W15': 'R1W2', 'W03': 'R1W3', 'W14': 'R1W3', 'W04': 'R1W4', 'W13': 'R1W4', 'W05': 'R1W5', 'W12': 'R1W5', 'W06': 'R1W6', 'W11': 'R1W6', 'W07': 'R1W7', 'W10': 'R1W7', 'W08': 'R1W8', 'W09': 'R1W8', 'X01': 'R1X1', 'X16': 'R1X1', 'X02': 'R1X2', 'X15': 'R1X2', 'X03': 'R1X3', 'X14': 'R1X3', 'X04': 'R1X4', 'X13': 'R1X4', 'X05': 'R1X5', 'X12': 'R1X5', 'X06': 'R1X6', 'X11': 'R1X6', 'X07': 'R1X7', 'X10': 'R1X7', 'X08': 'R1X8', 'X09': 'R1X8', 'Y01': 'R1Y1', 'Y16': 'R1Y1', 'Y02': 'R1Y2', 'Y15': 'R1Y2', 'Y03': 'R1Y3', 'Y14': 'R1Y3', 'Y04': 'R1Y4', 'Y13': 'R1Y4', 'Y05': 'R1Y5', 'Y12': 'R1Y5', 'Y06': 'R1Y6', 'Y11': 'R1Y6', 'Y07': 'R1Y7', 'Y10': 'R1Y7', 'Y08': 'R1Y8', 'Y09': 'R1Y8', 'Z01': 'R1Z1', 'Z16': 'R1Z1', 'Z02': 'R1Z2', 'Z15': 'R1Z2', 'Z03': 'R1Z3', 'Z14': 'R1Z3', 'Z04': 'R1Z4', 'Z13': 'R1Z4', 'Z05': 'R1Z5', 'Z12': 'R1Z5', 'Z06': 'R1Z6', 'Z11': 'R1Z6', 'Z07': 'R1Z7', 'Z10': 'R1Z7', 'Z08': 'R1Z8', 'Z09': 'R1Z8', 'R1W1': 'R2W1', 'R1W8': 'R2W1', 'R1W2': 'R2W2', 'R1W7': 'R2W2', 'R1W3': 'R2W3', 'R1W6': 'R2W3', 'R1W4': 'R2W4', 'R1W5': 'R2W4', 'R1X1': 'R2X1', 'R1X8': 'R2X1', 'R1X2': 'R2X2', 'R1X7': 'R2X2', 'R1X3': 'R2X3', 'R1X6': 'R2X3', 'R1X4': 'R2X4', 'R1X5': 'R2X4', 'R1Y1': 'R2Y1', 'R1Y8': 'R2Y1', 'R1Y2': 'R2Y2', 'R1Y7': 'R2Y2', 'R1Y3': 'R2Y3', 'R1Y6': 'R2Y3', 'R1Y4': 'R2Y4', 'R1Y5': 'R2Y4', 'R1Z1': 'R2Z1', 'R1Z8': 'R2Z1', 'R1Z2': 'R2Z2', 'R1Z7': 'R2Z2', 'R1Z3': 'R2Z3', 'R1Z6': 'R2Z3', 'R1Z4': 'R2Z4', 'R1Z5': 'R2Z4', 'R2W1': 'R3W1', 'R2W4': 'R3W1', 'R2W2': 'R3W2', 'R2W3': 'R3W2', 'R2X1': 'R3X1', 'R2X4': 'R3X1', 'R2X2': 'R3X2', 'R2X3': 'R3X2', 'R2Y1': 'R3Y1', 'R2Y4': 'R3Y1', 'R2Y2': 'R3Y2', 'R2Y3': 'R3Y2', 'R2Z1': 'R3Z1', 'R2Z4': 'R3Z1', 'R2Z2': 'R3Z2', 'R2Z3': 'R3Z2', 'R3W1': 'R4W1', 'R3W2': 'R4W1', 'R3X1': 'R4X1', 'R3X2': 'R4X1', 'R3Y1': 'R4Y1', 'R3Y2': 'R4Y1', 'R3Z1': 'R4Z1', 'R3Z2': 'R4Z1', 'R4W1': 'R5WX', 'R4X1': 'R5WX', 'R4Y1': 'R5YZ', 'R4Z1': 'R5YZ', 'R5WX': 'R6CH', 'R5YZ': 'R6CH', 'X16a': 'X16', 'X16b': 'X16', 'Y10a': 'Y10', 'Y10b': 'Y10', 'Y16a': 'Y16', 'Y16b': 'Y16', 'Z10a': 'Z10', 'Z10b': 'Z10'}\n"
     ]
    }
   ],
   "source": [
    "transition_men = {}\n",
    "transition_women = {}\n",
    "\n",
    "CHAMP = 'R6CH' ## label denotes march madness champ\n",
    "\n",
    "## create transition matrix for how each seed advances through the bracket\n",
    "for i, row in bracket_men_2024.iterrows():\n",
    "    transition_men[row['StrongSeed']] = row['Slot']\n",
    "    transition_men[row['WeakSeed']] = row['Slot']\n",
    "\n",
    "for i, row in bracket_women_2024.iterrows():\n",
    "    transition_women[row['StrongSeed']] = row['Slot']\n",
    "    transition_women[row['WeakSeed']] = row['Slot']\n",
    "    \n",
    "print(transition_men)"
   ]
  },
  {
   "cell_type": "code",
   "execution_count": 25,
   "metadata": {
    "execution": {
     "iopub.execute_input": "2024-04-18T07:40:37.518134Z",
     "iopub.status.busy": "2024-04-18T07:40:37.517726Z",
     "iopub.status.idle": "2024-04-18T07:40:37.68097Z",
     "shell.execute_reply": "2024-04-18T07:40:37.679814Z",
     "shell.execute_reply.started": "2024-04-18T07:40:37.518095Z"
    },
    "trusted": true
   },
   "outputs": [
    {
     "data": {
      "text/html": [
       "<div>\n",
       "<style scoped>\n",
       "    .dataframe tbody tr th:only-of-type {\n",
       "        vertical-align: middle;\n",
       "    }\n",
       "\n",
       "    .dataframe tbody tr th {\n",
       "        vertical-align: top;\n",
       "    }\n",
       "\n",
       "    .dataframe thead th {\n",
       "        text-align: right;\n",
       "    }\n",
       "</style>\n",
       "<table border=\"1\" class=\"dataframe\">\n",
       "  <thead>\n",
       "    <tr style=\"text-align: right;\">\n",
       "      <th></th>\n",
       "      <th>team_seed</th>\n",
       "      <th>team_region</th>\n",
       "      <th>rd1_win</th>\n",
       "      <th>rd2_win</th>\n",
       "      <th>rd3_win</th>\n",
       "      <th>rd4_win</th>\n",
       "      <th>rd5_win</th>\n",
       "      <th>rd6_win</th>\n",
       "      <th>rd7_win</th>\n",
       "      <th>win_odds</th>\n",
       "      <th>TeamID</th>\n",
       "    </tr>\n",
       "    <tr>\n",
       "      <th>player</th>\n",
       "      <th></th>\n",
       "      <th></th>\n",
       "      <th></th>\n",
       "      <th></th>\n",
       "      <th></th>\n",
       "      <th></th>\n",
       "      <th></th>\n",
       "      <th></th>\n",
       "      <th></th>\n",
       "      <th></th>\n",
       "      <th></th>\n",
       "    </tr>\n",
       "  </thead>\n",
       "  <tbody>\n",
       "  </tbody>\n",
       "</table>\n",
       "</div>"
      ],
      "text/plain": [
       "Empty DataFrame\n",
       "Columns: [team_seed, team_region, rd1_win, rd2_win, rd3_win, rd4_win, rd5_win, rd6_win, rd7_win, win_odds, TeamID]\n",
       "Index: []"
      ]
     },
     "metadata": {},
     "output_type": "display_data"
    },
    {
     "data": {
      "text/html": [
       "<div>\n",
       "<style scoped>\n",
       "    .dataframe tbody tr th:only-of-type {\n",
       "        vertical-align: middle;\n",
       "    }\n",
       "\n",
       "    .dataframe tbody tr th {\n",
       "        vertical-align: top;\n",
       "    }\n",
       "\n",
       "    .dataframe thead th {\n",
       "        text-align: right;\n",
       "    }\n",
       "</style>\n",
       "<table border=\"1\" class=\"dataframe\">\n",
       "  <thead>\n",
       "    <tr style=\"text-align: right;\">\n",
       "      <th></th>\n",
       "      <th>team_seed</th>\n",
       "      <th>team_region</th>\n",
       "      <th>rd1_win</th>\n",
       "      <th>rd2_win</th>\n",
       "      <th>rd3_win</th>\n",
       "      <th>rd4_win</th>\n",
       "      <th>rd5_win</th>\n",
       "      <th>rd6_win</th>\n",
       "      <th>rd7_win</th>\n",
       "      <th>win_odds</th>\n",
       "      <th>TeamID</th>\n",
       "    </tr>\n",
       "    <tr>\n",
       "      <th>player</th>\n",
       "      <th></th>\n",
       "      <th></th>\n",
       "      <th></th>\n",
       "      <th></th>\n",
       "      <th></th>\n",
       "      <th></th>\n",
       "      <th></th>\n",
       "      <th></th>\n",
       "      <th></th>\n",
       "      <th></th>\n",
       "      <th></th>\n",
       "    </tr>\n",
       "  </thead>\n",
       "  <tbody>\n",
       "  </tbody>\n",
       "</table>\n",
       "</div>"
      ],
      "text/plain": [
       "Empty DataFrame\n",
       "Columns: [team_seed, team_region, rd1_win, rd2_win, rd3_win, rd4_win, rd5_win, rd6_win, rd7_win, win_odds, TeamID]\n",
       "Index: []"
      ]
     },
     "metadata": {},
     "output_type": "display_data"
    }
   ],
   "source": [
    "## map TeamID --> predictions\n",
    "\n",
    "## create dicts for mapping names\n",
    "dct_mens_names = {row['TeamNameSpelling']: row['TeamID'] for (i, row) in df_spell_men.iterrows()}\n",
    "dct_womens_names = {row['TeamNameSpelling']: row['TeamID'] for (i, row) in df_spell_women.iterrows()}\n",
    "dct_womens_names['tamu-corpus christi'] = 3394 ## the one that got away\n",
    "\n",
    "## map map map\n",
    "df_men_2024['TeamID'] = df_men_2024.index.str.lower().map(dct_mens_names)\n",
    "df_women_2024['TeamID'] = df_women_2024.index.str.lower().map(dct_womens_names)\n",
    "\n",
    "## check any we missed\n",
    "display(df_men_2024[df_men_2024['TeamID'].isnull()])\n",
    "display(df_women_2024[df_women_2024['TeamID'].isnull()])\n",
    "\n",
    "## removes edge case for rd1\n",
    "df_men_2024['rd0_win'] = 1\n",
    "df_women_2024['rd0_win'] = 1"
   ]
  },
  {
   "cell_type": "code",
   "execution_count": 26,
   "metadata": {
    "execution": {
     "iopub.execute_input": "2024-04-18T07:40:37.682917Z",
     "iopub.status.busy": "2024-04-18T07:40:37.682619Z",
     "iopub.status.idle": "2024-04-18T07:40:37.828984Z",
     "shell.execute_reply": "2024-04-18T07:40:37.82798Z",
     "shell.execute_reply.started": "2024-04-18T07:40:37.682892Z"
    },
    "trusted": true
   },
   "outputs": [
    {
     "name": "stdout",
     "output_type": "stream",
     "text": [
      "CHECK FOR NULL VALUES:\n",
      "=====MENS=====\n"
     ]
    },
    {
     "data": {
      "text/plain": [
       "T1          0\n",
       "T2          0\n",
       "Seed1       0\n",
       "TeamID_x    0\n",
       "Seed2       0\n",
       "TeamID_y    0\n",
       "dtype: int64"
      ]
     },
     "metadata": {},
     "output_type": "display_data"
    },
    {
     "name": "stdout",
     "output_type": "stream",
     "text": [
      "=====WOMENS=====\n"
     ]
    },
    {
     "data": {
      "text/plain": [
       "T1          0\n",
       "T2          0\n",
       "Seed1       0\n",
       "TeamID_x    0\n",
       "Seed2       0\n",
       "TeamID_y    0\n",
       "dtype: int64"
      ]
     },
     "metadata": {},
     "output_type": "display_data"
    }
   ],
   "source": [
    "## create every possible matchup combo between seeds\n",
    "matchups_men = pd.DataFrame()\n",
    "matchups_men[['T1','T2']] = list(itertools.product(seeds_men_2024['TeamID'], seeds_men_2024['TeamID']))\n",
    "\n",
    "matchups_women = pd.DataFrame()\n",
    "matchups_women[['T1','T2']] = list(itertools.product(seeds_women_2024['TeamID'], seeds_women_2024['TeamID']))\n",
    "\n",
    "matchups_men = matchups_men.merge(\n",
    "    seeds_men_2024[['Seed','TeamID']],\n",
    "    left_on='T1', right_on='TeamID',\n",
    "    how='left'\n",
    ").rename(\n",
    "    columns={'Seed':'Seed1'}\n",
    ").merge(\n",
    "    seeds_men_2024[['Seed','TeamID']],\n",
    "    left_on='T2', right_on='TeamID',\n",
    "    how='left'\n",
    ").rename(\n",
    "    columns={'Seed':'Seed2'}\n",
    ").drop(\n",
    "    columns = list(matchups_men.columns[matchups_men.columns.str.contains('TeamID')])\n",
    ")\n",
    "\n",
    "matchups_women = matchups_women.merge(\n",
    "    seeds_women_2024[['Seed','TeamID']],\n",
    "    left_on='T1', right_on='TeamID',\n",
    "    how='left'\n",
    ").rename(\n",
    "    columns={'Seed':'Seed1'}\n",
    ").merge(\n",
    "    seeds_women_2024[['Seed','TeamID']],\n",
    "    left_on='T2', right_on='TeamID',\n",
    "    how='left'\n",
    ").rename(\n",
    "    columns={'Seed':'Seed2'}\n",
    ").drop(\n",
    "    columns = list(matchups_women.columns[matchups_women.columns.str.contains('TeamID')])\n",
    ")\n",
    "\n",
    "print('CHECK FOR NULL VALUES:')\n",
    "print(f\"{'='*5}MENS{'='*5}\")\n",
    "display(matchups_men.isnull().sum())\n",
    "print(f\"{'='*5}WOMENS{'='*5}\")\n",
    "display(matchups_women.isnull().sum())"
   ]
  },
  {
   "cell_type": "code",
   "execution_count": 27,
   "metadata": {},
   "outputs": [
    {
     "data": {
      "text/plain": [
       "{'W01': 'R1W1',\n",
       " 'W16': 'R1W1',\n",
       " 'W02': 'R1W2',\n",
       " 'W15': 'R1W2',\n",
       " 'W03': 'R1W3',\n",
       " 'W14': 'R1W3',\n",
       " 'W04': 'R1W4',\n",
       " 'W13': 'R1W4',\n",
       " 'W05': 'R1W5',\n",
       " 'W12': 'R1W5',\n",
       " 'W06': 'R1W6',\n",
       " 'W11': 'R1W6',\n",
       " 'W07': 'R1W7',\n",
       " 'W10': 'R1W7',\n",
       " 'W08': 'R1W8',\n",
       " 'W09': 'R1W8',\n",
       " 'X01': 'R1X1',\n",
       " 'X16': 'R1X1',\n",
       " 'X02': 'R1X2',\n",
       " 'X15': 'R1X2',\n",
       " 'X03': 'R1X3',\n",
       " 'X14': 'R1X3',\n",
       " 'X04': 'R1X4',\n",
       " 'X13': 'R1X4',\n",
       " 'X05': 'R1X5',\n",
       " 'X12': 'R1X5',\n",
       " 'X06': 'R1X6',\n",
       " 'X11': 'R1X6',\n",
       " 'X07': 'R1X7',\n",
       " 'X10': 'R1X7',\n",
       " 'X08': 'R1X8',\n",
       " 'X09': 'R1X8',\n",
       " 'Y01': 'R1Y1',\n",
       " 'Y16': 'R1Y1',\n",
       " 'Y02': 'R1Y2',\n",
       " 'Y15': 'R1Y2',\n",
       " 'Y03': 'R1Y3',\n",
       " 'Y14': 'R1Y3',\n",
       " 'Y04': 'R1Y4',\n",
       " 'Y13': 'R1Y4',\n",
       " 'Y05': 'R1Y5',\n",
       " 'Y12': 'R1Y5',\n",
       " 'Y06': 'R1Y6',\n",
       " 'Y11': 'R1Y6',\n",
       " 'Y07': 'R1Y7',\n",
       " 'Y10': 'R1Y7',\n",
       " 'Y08': 'R1Y8',\n",
       " 'Y09': 'R1Y8',\n",
       " 'Z01': 'R1Z1',\n",
       " 'Z16': 'R1Z1',\n",
       " 'Z02': 'R1Z2',\n",
       " 'Z15': 'R1Z2',\n",
       " 'Z03': 'R1Z3',\n",
       " 'Z14': 'R1Z3',\n",
       " 'Z04': 'R1Z4',\n",
       " 'Z13': 'R1Z4',\n",
       " 'Z05': 'R1Z5',\n",
       " 'Z12': 'R1Z5',\n",
       " 'Z06': 'R1Z6',\n",
       " 'Z11': 'R1Z6',\n",
       " 'Z07': 'R1Z7',\n",
       " 'Z10': 'R1Z7',\n",
       " 'Z08': 'R1Z8',\n",
       " 'Z09': 'R1Z8',\n",
       " 'R1W1': 'R2W1',\n",
       " 'R1W8': 'R2W1',\n",
       " 'R1W2': 'R2W2',\n",
       " 'R1W7': 'R2W2',\n",
       " 'R1W3': 'R2W3',\n",
       " 'R1W6': 'R2W3',\n",
       " 'R1W4': 'R2W4',\n",
       " 'R1W5': 'R2W4',\n",
       " 'R1X1': 'R2X1',\n",
       " 'R1X8': 'R2X1',\n",
       " 'R1X2': 'R2X2',\n",
       " 'R1X7': 'R2X2',\n",
       " 'R1X3': 'R2X3',\n",
       " 'R1X6': 'R2X3',\n",
       " 'R1X4': 'R2X4',\n",
       " 'R1X5': 'R2X4',\n",
       " 'R1Y1': 'R2Y1',\n",
       " 'R1Y8': 'R2Y1',\n",
       " 'R1Y2': 'R2Y2',\n",
       " 'R1Y7': 'R2Y2',\n",
       " 'R1Y3': 'R2Y3',\n",
       " 'R1Y6': 'R2Y3',\n",
       " 'R1Y4': 'R2Y4',\n",
       " 'R1Y5': 'R2Y4',\n",
       " 'R1Z1': 'R2Z1',\n",
       " 'R1Z8': 'R2Z1',\n",
       " 'R1Z2': 'R2Z2',\n",
       " 'R1Z7': 'R2Z2',\n",
       " 'R1Z3': 'R2Z3',\n",
       " 'R1Z6': 'R2Z3',\n",
       " 'R1Z4': 'R2Z4',\n",
       " 'R1Z5': 'R2Z4',\n",
       " 'R2W1': 'R3W1',\n",
       " 'R2W4': 'R3W1',\n",
       " 'R2W2': 'R3W2',\n",
       " 'R2W3': 'R3W2',\n",
       " 'R2X1': 'R3X1',\n",
       " 'R2X4': 'R3X1',\n",
       " 'R2X2': 'R3X2',\n",
       " 'R2X3': 'R3X2',\n",
       " 'R2Y1': 'R3Y1',\n",
       " 'R2Y4': 'R3Y1',\n",
       " 'R2Y2': 'R3Y2',\n",
       " 'R2Y3': 'R3Y2',\n",
       " 'R2Z1': 'R3Z1',\n",
       " 'R2Z4': 'R3Z1',\n",
       " 'R2Z2': 'R3Z2',\n",
       " 'R2Z3': 'R3Z2',\n",
       " 'R3W1': 'R4W1',\n",
       " 'R3W2': 'R4W1',\n",
       " 'R3X1': 'R4X1',\n",
       " 'R3X2': 'R4X1',\n",
       " 'R3Y1': 'R4Y1',\n",
       " 'R3Y2': 'R4Y1',\n",
       " 'R3Z1': 'R4Z1',\n",
       " 'R3Z2': 'R4Z1',\n",
       " 'R4W1': 'R5WX',\n",
       " 'R4X1': 'R5WX',\n",
       " 'R4Y1': 'R5YZ',\n",
       " 'R4Z1': 'R5YZ',\n",
       " 'R5WX': 'R6CH',\n",
       " 'R5YZ': 'R6CH',\n",
       " 'X16a': 'X16',\n",
       " 'X16b': 'X16',\n",
       " 'Y10a': 'Y10',\n",
       " 'Y10b': 'Y10',\n",
       " 'Y16a': 'Y16',\n",
       " 'Y16b': 'Y16',\n",
       " 'Z10a': 'Z10',\n",
       " 'Z10b': 'Z10'}"
      ]
     },
     "execution_count": 27,
     "metadata": {},
     "output_type": "execute_result"
    }
   ],
   "source": [
    "transition_men"
   ]
  },
  {
   "cell_type": "code",
   "execution_count": 28,
   "metadata": {},
   "outputs": [
    {
     "data": {
      "text/html": [
       "<div>\n",
       "<style scoped>\n",
       "    .dataframe tbody tr th:only-of-type {\n",
       "        vertical-align: middle;\n",
       "    }\n",
       "\n",
       "    .dataframe tbody tr th {\n",
       "        vertical-align: top;\n",
       "    }\n",
       "\n",
       "    .dataframe thead th {\n",
       "        text-align: right;\n",
       "    }\n",
       "</style>\n",
       "<table border=\"1\" class=\"dataframe\">\n",
       "  <thead>\n",
       "    <tr style=\"text-align: right;\">\n",
       "      <th></th>\n",
       "      <th>T1</th>\n",
       "      <th>T2</th>\n",
       "      <th>Seed1</th>\n",
       "      <th>TeamID_x</th>\n",
       "      <th>Seed2</th>\n",
       "      <th>TeamID_y</th>\n",
       "    </tr>\n",
       "  </thead>\n",
       "  <tbody>\n",
       "    <tr>\n",
       "      <th>0</th>\n",
       "      <td>1163</td>\n",
       "      <td>1163</td>\n",
       "      <td>W01</td>\n",
       "      <td>1163</td>\n",
       "      <td>W01</td>\n",
       "      <td>1163</td>\n",
       "    </tr>\n",
       "    <tr>\n",
       "      <th>1</th>\n",
       "      <td>1163</td>\n",
       "      <td>1235</td>\n",
       "      <td>W01</td>\n",
       "      <td>1163</td>\n",
       "      <td>W02</td>\n",
       "      <td>1235</td>\n",
       "    </tr>\n",
       "    <tr>\n",
       "      <th>2</th>\n",
       "      <td>1163</td>\n",
       "      <td>1228</td>\n",
       "      <td>W01</td>\n",
       "      <td>1163</td>\n",
       "      <td>W03</td>\n",
       "      <td>1228</td>\n",
       "    </tr>\n",
       "    <tr>\n",
       "      <th>3</th>\n",
       "      <td>1163</td>\n",
       "      <td>1120</td>\n",
       "      <td>W01</td>\n",
       "      <td>1163</td>\n",
       "      <td>W04</td>\n",
       "      <td>1120</td>\n",
       "    </tr>\n",
       "    <tr>\n",
       "      <th>4</th>\n",
       "      <td>1163</td>\n",
       "      <td>1361</td>\n",
       "      <td>W01</td>\n",
       "      <td>1163</td>\n",
       "      <td>W05</td>\n",
       "      <td>1361</td>\n",
       "    </tr>\n",
       "  </tbody>\n",
       "</table>\n",
       "</div>"
      ],
      "text/plain": [
       "     T1    T2 Seed1  TeamID_x Seed2  TeamID_y\n",
       "0  1163  1163   W01      1163   W01      1163\n",
       "1  1163  1235   W01      1163   W02      1235\n",
       "2  1163  1228   W01      1163   W03      1228\n",
       "3  1163  1120   W01      1163   W04      1120\n",
       "4  1163  1361   W01      1163   W05      1361"
      ]
     },
     "execution_count": 28,
     "metadata": {},
     "output_type": "execute_result"
    }
   ],
   "source": [
    "matchups_men.head()"
   ]
  },
  {
   "cell_type": "code",
   "execution_count": 29,
   "metadata": {},
   "outputs": [
    {
     "data": {
      "text/html": [
       "<div>\n",
       "<style scoped>\n",
       "    .dataframe tbody tr th:only-of-type {\n",
       "        vertical-align: middle;\n",
       "    }\n",
       "\n",
       "    .dataframe tbody tr th {\n",
       "        vertical-align: top;\n",
       "    }\n",
       "\n",
       "    .dataframe thead th {\n",
       "        text-align: right;\n",
       "    }\n",
       "</style>\n",
       "<table border=\"1\" class=\"dataframe\">\n",
       "  <thead>\n",
       "    <tr style=\"text-align: right;\">\n",
       "      <th></th>\n",
       "      <th>team_seed</th>\n",
       "      <th>team_region</th>\n",
       "      <th>rd1_win</th>\n",
       "      <th>rd2_win</th>\n",
       "      <th>rd3_win</th>\n",
       "      <th>rd4_win</th>\n",
       "      <th>rd5_win</th>\n",
       "      <th>rd6_win</th>\n",
       "      <th>rd7_win</th>\n",
       "      <th>win_odds</th>\n",
       "      <th>TeamID</th>\n",
       "      <th>rd0_win</th>\n",
       "    </tr>\n",
       "    <tr>\n",
       "      <th>player</th>\n",
       "      <th></th>\n",
       "      <th></th>\n",
       "      <th></th>\n",
       "      <th></th>\n",
       "      <th></th>\n",
       "      <th></th>\n",
       "      <th></th>\n",
       "      <th></th>\n",
       "      <th></th>\n",
       "      <th></th>\n",
       "      <th></th>\n",
       "      <th></th>\n",
       "    </tr>\n",
       "  </thead>\n",
       "  <tbody>\n",
       "    <tr>\n",
       "      <th>Connecticut</th>\n",
       "      <td>1</td>\n",
       "      <td>East</td>\n",
       "      <td>1.0</td>\n",
       "      <td>0.995022</td>\n",
       "      <td>0.894013</td>\n",
       "      <td>0.726081</td>\n",
       "      <td>0.566816</td>\n",
       "      <td>3.612327e-01</td>\n",
       "      <td>2.254101e-01</td>\n",
       "      <td>3.436358e+00</td>\n",
       "      <td>1163</td>\n",
       "      <td>1</td>\n",
       "    </tr>\n",
       "    <tr>\n",
       "      <th>Stetson</th>\n",
       "      <td>16</td>\n",
       "      <td>East</td>\n",
       "      <td>1.0</td>\n",
       "      <td>0.004978</td>\n",
       "      <td>0.000662</td>\n",
       "      <td>0.000057</td>\n",
       "      <td>0.000004</td>\n",
       "      <td>2.754882e-07</td>\n",
       "      <td>1.889276e-08</td>\n",
       "      <td>5.293033e+07</td>\n",
       "      <td>1391</td>\n",
       "      <td>1</td>\n",
       "    </tr>\n",
       "    <tr>\n",
       "      <th>Florida Atlantic</th>\n",
       "      <td>8</td>\n",
       "      <td>East</td>\n",
       "      <td>1.0</td>\n",
       "      <td>0.654673</td>\n",
       "      <td>0.082247</td>\n",
       "      <td>0.035146</td>\n",
       "      <td>0.013567</td>\n",
       "      <td>4.694501e-03</td>\n",
       "      <td>1.589201e-03</td>\n",
       "      <td>6.282471e+02</td>\n",
       "      <td>1194</td>\n",
       "      <td>1</td>\n",
       "    </tr>\n",
       "    <tr>\n",
       "      <th>Northwestern</th>\n",
       "      <td>9</td>\n",
       "      <td>East</td>\n",
       "      <td>1.0</td>\n",
       "      <td>0.345327</td>\n",
       "      <td>0.023079</td>\n",
       "      <td>0.007192</td>\n",
       "      <td>0.002000</td>\n",
       "      <td>5.327040e-04</td>\n",
       "      <td>1.405062e-04</td>\n",
       "      <td>7.116121e+03</td>\n",
       "      <td>1321</td>\n",
       "      <td>1</td>\n",
       "    </tr>\n",
       "    <tr>\n",
       "      <th>San Diego State</th>\n",
       "      <td>5</td>\n",
       "      <td>East</td>\n",
       "      <td>1.0</td>\n",
       "      <td>0.780579</td>\n",
       "      <td>0.315185</td>\n",
       "      <td>0.044958</td>\n",
       "      <td>0.015596</td>\n",
       "      <td>6.736916e-03</td>\n",
       "      <td>2.847461e-03</td>\n",
       "      <td>3.501901e+02</td>\n",
       "      <td>1361</td>\n",
       "      <td>1</td>\n",
       "    </tr>\n",
       "  </tbody>\n",
       "</table>\n",
       "</div>"
      ],
      "text/plain": [
       "                 team_seed team_region  rd1_win   rd2_win   rd3_win   rd4_win  \\\n",
       "player                                                                          \n",
       "Connecticut              1        East      1.0  0.995022  0.894013  0.726081   \n",
       "Stetson                 16        East      1.0  0.004978  0.000662  0.000057   \n",
       "Florida Atlantic         8        East      1.0  0.654673  0.082247  0.035146   \n",
       "Northwestern             9        East      1.0  0.345327  0.023079  0.007192   \n",
       "San Diego State          5        East      1.0  0.780579  0.315185  0.044958   \n",
       "\n",
       "                   rd5_win       rd6_win       rd7_win      win_odds  TeamID  \\\n",
       "player                                                                         \n",
       "Connecticut       0.566816  3.612327e-01  2.254101e-01  3.436358e+00    1163   \n",
       "Stetson           0.000004  2.754882e-07  1.889276e-08  5.293033e+07    1391   \n",
       "Florida Atlantic  0.013567  4.694501e-03  1.589201e-03  6.282471e+02    1194   \n",
       "Northwestern      0.002000  5.327040e-04  1.405062e-04  7.116121e+03    1321   \n",
       "San Diego State   0.015596  6.736916e-03  2.847461e-03  3.501901e+02    1361   \n",
       "\n",
       "                  rd0_win  \n",
       "player                     \n",
       "Connecticut             1  \n",
       "Stetson                 1  \n",
       "Florida Atlantic        1  \n",
       "Northwestern            1  \n",
       "San Diego State         1  "
      ]
     },
     "execution_count": 29,
     "metadata": {},
     "output_type": "execute_result"
    }
   ],
   "source": [
    "df_men_2024.head()"
   ]
  },
  {
   "cell_type": "code",
   "execution_count": 13,
   "metadata": {
    "execution": {
     "iopub.execute_input": "2024-04-18T07:40:37.830798Z",
     "iopub.status.busy": "2024-04-18T07:40:37.830402Z",
     "iopub.status.idle": "2024-04-18T07:40:45.482717Z",
     "shell.execute_reply": "2024-04-18T07:40:45.481695Z",
     "shell.execute_reply.started": "2024-04-18T07:40:37.83077Z"
    },
    "trusted": true
   },
   "outputs": [
    {
     "name": "stderr",
     "output_type": "stream",
     "text": [
      "/var/folders/bg/q5cqnlzn75sfv4yb_k6p9pcm0000gn/T/ipykernel_89110/1906905250.py:29: FutureWarning: Series.__getitem__ treating keys as positions is deprecated. In a future version, integer keys will always be treated as labels (consistent with DataFrame behavior). To access a value by position, use `ser.iloc[pos]`\n",
      "  [1/wteam_winGivenReach_prob[0],\n",
      "/var/folders/bg/q5cqnlzn75sfv4yb_k6p9pcm0000gn/T/ipykernel_89110/1906905250.py:30: FutureWarning: Series.__getitem__ treating keys as positions is deprecated. In a future version, integer keys will always be treated as labels (consistent with DataFrame behavior). To access a value by position, use `ser.iloc[pos]`\n",
      "  1/lteam_winGivenReach_prob[0]])\n",
      "/var/folders/bg/q5cqnlzn75sfv4yb_k6p9pcm0000gn/T/ipykernel_89110/585276420.py:27: RuntimeWarning: divide by zero encountered in scalar divide\n",
      "  step = (sum(listOfProbabilities) - total)/sum(listOfSe) #compute how many steps of SE the probabilities should step back by\n",
      "/var/folders/bg/q5cqnlzn75sfv4yb_k6p9pcm0000gn/T/ipykernel_89110/585276420.py:28: RuntimeWarning: invalid value encountered in scalar multiply\n",
      "  outputListOfProbabilities = [min(max(x - (y*step),eps),1) for x,y in zip(listOfProbabilities, listOfSe)]\n"
     ]
    }
   ],
   "source": [
    "## MEN\n",
    "\n",
    "correctProbs_list = []\n",
    "\n",
    "for i, row in matchups_men.iterrows():\n",
    "    ## for each pair of teams, what's the first rd they meet?\n",
    "    sd1 = row['Seed1']\n",
    "    sd2 = row['Seed2']\n",
    "    \n",
    "    while sd1 != sd2:\n",
    "        sd1 = transition_men[sd1]\n",
    "        sd2 = transition_men[sd2]\n",
    "    \n",
    "    rd = int(sd1[1])\n",
    "#     print(f\"{row['Seed1']}, {row['Seed2']} --> {rd}\")\n",
    "    \n",
    "    ## conditional prob adjustment\n",
    "    wteam_winGivenReach_prob = df_men_2024.loc[\n",
    "        df_men_2024['TeamID']==row['T1'],f'rd{rd+1}_win'] / df_men_2024.loc[\n",
    "        df_men_2024['TeamID']==row['T1'],f'rd{rd}_win']\n",
    "    lteam_winGivenReach_prob = df_men_2024.loc[\n",
    "        df_men_2024['TeamID']==row['T2'],f'rd{rd+1}_win'] / df_men_2024.loc[\n",
    "        df_men_2024['TeamID']==row['T2'],f'rd{rd}_win']\n",
    "    \n",
    "#     print(wteam_winGivenReach_prob, lteam_winGivenReach_prob)\n",
    "    \n",
    "    ## goto conversion step\n",
    "    convertedProbs = preprocessed_goto_conversion(\n",
    "        [1/wteam_winGivenReach_prob[0], \n",
    "         1/lteam_winGivenReach_prob[0]])\n",
    "    correctProbs_list.append(convertedProbs) #We use the probability for correct label to calculate score\n",
    "\n",
    "matchups_men[['Pred','bar_pred']] = correctProbs_list"
   ]
  },
  {
   "cell_type": "code",
   "execution_count": 14,
   "metadata": {
    "execution": {
     "iopub.execute_input": "2024-04-18T07:40:45.484343Z",
     "iopub.status.busy": "2024-04-18T07:40:45.484015Z",
     "iopub.status.idle": "2024-04-18T07:40:53.347897Z",
     "shell.execute_reply": "2024-04-18T07:40:53.346894Z",
     "shell.execute_reply.started": "2024-04-18T07:40:45.484319Z"
    },
    "trusted": true
   },
   "outputs": [
    {
     "name": "stderr",
     "output_type": "stream",
     "text": [
      "/var/folders/bg/q5cqnlzn75sfv4yb_k6p9pcm0000gn/T/ipykernel_89110/1589597478.py:29: FutureWarning: Series.__getitem__ treating keys as positions is deprecated. In a future version, integer keys will always be treated as labels (consistent with DataFrame behavior). To access a value by position, use `ser.iloc[pos]`\n",
      "  [1/wteam_winGivenReach_prob[0],\n",
      "/var/folders/bg/q5cqnlzn75sfv4yb_k6p9pcm0000gn/T/ipykernel_89110/1589597478.py:30: FutureWarning: Series.__getitem__ treating keys as positions is deprecated. In a future version, integer keys will always be treated as labels (consistent with DataFrame behavior). To access a value by position, use `ser.iloc[pos]`\n",
      "  1/lteam_winGivenReach_prob[0]])\n",
      "/var/folders/bg/q5cqnlzn75sfv4yb_k6p9pcm0000gn/T/ipykernel_89110/585276420.py:27: RuntimeWarning: divide by zero encountered in scalar divide\n",
      "  step = (sum(listOfProbabilities) - total)/sum(listOfSe) #compute how many steps of SE the probabilities should step back by\n",
      "/var/folders/bg/q5cqnlzn75sfv4yb_k6p9pcm0000gn/T/ipykernel_89110/585276420.py:28: RuntimeWarning: invalid value encountered in scalar multiply\n",
      "  outputListOfProbabilities = [min(max(x - (y*step),eps),1) for x,y in zip(listOfProbabilities, listOfSe)]\n"
     ]
    }
   ],
   "source": [
    "## WOMEN\n",
    "\n",
    "correctProbs_list = []\n",
    "\n",
    "for i, row in matchups_women.iterrows():\n",
    "    ## for each pair of teams, what's the first rd they meet?\n",
    "    sd1 = row['Seed1']\n",
    "    sd2 = row['Seed2']\n",
    "    \n",
    "    while sd1 != sd2:\n",
    "        sd1 = transition_women[sd1]\n",
    "        sd2 = transition_women[sd2]\n",
    "    \n",
    "    rd = int(sd1[1])\n",
    "#     print(f\"{row['Seed1']}, {row['Seed2']} --> {rd}\")\n",
    "    \n",
    "    ## conditional prob adjustment\n",
    "    wteam_winGivenReach_prob = df_women_2024.loc[\n",
    "        df_women_2024['TeamID']==row['T1'],f'rd{rd+1}_win'] / df_women_2024.loc[\n",
    "        df_women_2024['TeamID']==row['T1'],f'rd{rd}_win']\n",
    "    lteam_winGivenReach_prob = df_women_2024.loc[\n",
    "        df_women_2024['TeamID']==row['T2'],f'rd{rd+1}_win'] / df_women_2024.loc[\n",
    "        df_women_2024['TeamID']==row['T2'],f'rd{rd}_win']\n",
    "    \n",
    "#     print(wteam_winGivenReach_prob, lteam_winGivenReach_prob)\n",
    "\n",
    "    ## goto conversion step\n",
    "    convertedProbs = preprocessed_goto_conversion(\n",
    "        [1/wteam_winGivenReach_prob[0], \n",
    "         1/lteam_winGivenReach_prob[0]])\n",
    "    correctProbs_list.append(convertedProbs) #We use the probability for correct label to calculate score\n",
    "\n",
    "matchups_women[['Pred','bar_pred']] = correctProbs_list"
   ]
  },
  {
   "cell_type": "code",
   "execution_count": 15,
   "metadata": {
    "execution": {
     "iopub.execute_input": "2024-04-18T07:40:53.350712Z",
     "iopub.status.busy": "2024-04-18T07:40:53.350381Z",
     "iopub.status.idle": "2024-04-18T07:40:53.370787Z",
     "shell.execute_reply": "2024-04-18T07:40:53.369861Z",
     "shell.execute_reply.started": "2024-04-18T07:40:53.350684Z"
    },
    "trusted": true
   },
   "outputs": [
    {
     "data": {
      "text/html": [
       "<div>\n",
       "<style scoped>\n",
       "    .dataframe tbody tr th:only-of-type {\n",
       "        vertical-align: middle;\n",
       "    }\n",
       "\n",
       "    .dataframe tbody tr th {\n",
       "        vertical-align: top;\n",
       "    }\n",
       "\n",
       "    .dataframe thead th {\n",
       "        text-align: right;\n",
       "    }\n",
       "</style>\n",
       "<table border=\"1\" class=\"dataframe\">\n",
       "  <thead>\n",
       "    <tr style=\"text-align: right;\">\n",
       "      <th></th>\n",
       "      <th>T1</th>\n",
       "      <th>T2</th>\n",
       "      <th>Seed1</th>\n",
       "      <th>TeamID_x</th>\n",
       "      <th>Seed2</th>\n",
       "      <th>TeamID_y</th>\n",
       "      <th>Pred</th>\n",
       "      <th>bar_pred</th>\n",
       "    </tr>\n",
       "  </thead>\n",
       "  <tbody>\n",
       "  </tbody>\n",
       "</table>\n",
       "</div>"
      ],
      "text/plain": [
       "Empty DataFrame\n",
       "Columns: [T1, T2, Seed1, TeamID_x, Seed2, TeamID_y, Pred, bar_pred]\n",
       "Index: []"
      ]
     },
     "metadata": {},
     "output_type": "display_data"
    },
    {
     "data": {
      "text/html": [
       "<div>\n",
       "<style scoped>\n",
       "    .dataframe tbody tr th:only-of-type {\n",
       "        vertical-align: middle;\n",
       "    }\n",
       "\n",
       "    .dataframe tbody tr th {\n",
       "        vertical-align: top;\n",
       "    }\n",
       "\n",
       "    .dataframe thead th {\n",
       "        text-align: right;\n",
       "    }\n",
       "</style>\n",
       "<table border=\"1\" class=\"dataframe\">\n",
       "  <thead>\n",
       "    <tr style=\"text-align: right;\">\n",
       "      <th></th>\n",
       "      <th>T1</th>\n",
       "      <th>T2</th>\n",
       "      <th>Seed1</th>\n",
       "      <th>TeamID_x</th>\n",
       "      <th>Seed2</th>\n",
       "      <th>TeamID_y</th>\n",
       "      <th>Pred</th>\n",
       "      <th>bar_pred</th>\n",
       "    </tr>\n",
       "  </thead>\n",
       "  <tbody>\n",
       "  </tbody>\n",
       "</table>\n",
       "</div>"
      ],
      "text/plain": [
       "Empty DataFrame\n",
       "Columns: [T1, T2, Seed1, TeamID_x, Seed2, TeamID_y, Pred, bar_pred]\n",
       "Index: []"
      ]
     },
     "metadata": {},
     "output_type": "display_data"
    }
   ],
   "source": [
    "## CHECK: any null rows that aren't caused by a team being matched against itself?\n",
    "display(\n",
    "    matchups_women.loc[\n",
    "        (matchups_women[['Pred','bar_pred']].isnull().any(axis=1)) &\\\n",
    "        (matchups_women['T1'] != matchups_women['T2'])]\n",
    ")\n",
    "\n",
    "display(\n",
    "    matchups_men.loc[\n",
    "        (matchups_men[['Pred','bar_pred']].isnull().any(axis=1)) &\\\n",
    "        (matchups_men['T1'] != matchups_men['T2'])]\n",
    ")"
   ]
  },
  {
   "cell_type": "code",
   "execution_count": 16,
   "metadata": {
    "execution": {
     "iopub.execute_input": "2024-04-18T07:40:53.37441Z",
     "iopub.status.busy": "2024-04-18T07:40:53.374075Z",
     "iopub.status.idle": "2024-04-18T07:40:53.399569Z",
     "shell.execute_reply": "2024-04-18T07:40:53.398028Z",
     "shell.execute_reply.started": "2024-04-18T07:40:53.374383Z"
    },
    "trusted": true
   },
   "outputs": [],
   "source": [
    "## formatting\n",
    "matchups_men['ID'] = [[2024, str(x), str(y)] for x, y in zip(matchups_men['T1'], matchups_men['T2'])]\n",
    "matchups_women['ID'] = [[2024, str(x), str(y)] for x, y in zip(matchups_women['T1'], matchups_women['T2'])]"
   ]
  },
  {
   "cell_type": "code",
   "execution_count": 17,
   "metadata": {
    "execution": {
     "iopub.execute_input": "2024-04-18T07:40:53.402067Z",
     "iopub.status.busy": "2024-04-18T07:40:53.401439Z",
     "iopub.status.idle": "2024-04-18T07:40:53.423995Z",
     "shell.execute_reply": "2024-04-18T07:40:53.422857Z",
     "shell.execute_reply.started": "2024-04-18T07:40:53.402024Z"
    },
    "trusted": true
   },
   "outputs": [
    {
     "data": {
      "text/html": [
       "<div>\n",
       "<style scoped>\n",
       "    .dataframe tbody tr th:only-of-type {\n",
       "        vertical-align: middle;\n",
       "    }\n",
       "\n",
       "    .dataframe tbody tr th {\n",
       "        vertical-align: top;\n",
       "    }\n",
       "\n",
       "    .dataframe thead th {\n",
       "        text-align: right;\n",
       "    }\n",
       "</style>\n",
       "<table border=\"1\" class=\"dataframe\">\n",
       "  <thead>\n",
       "    <tr style=\"text-align: right;\">\n",
       "      <th></th>\n",
       "      <th>T1</th>\n",
       "      <th>T2</th>\n",
       "      <th>Seed1</th>\n",
       "      <th>TeamID_x</th>\n",
       "      <th>Seed2</th>\n",
       "      <th>TeamID_y</th>\n",
       "      <th>Pred</th>\n",
       "      <th>bar_pred</th>\n",
       "      <th>ID</th>\n",
       "    </tr>\n",
       "  </thead>\n",
       "  <tbody>\n",
       "    <tr>\n",
       "      <th>0</th>\n",
       "      <td>1163</td>\n",
       "      <td>1163</td>\n",
       "      <td>W01</td>\n",
       "      <td>1163</td>\n",
       "      <td>W01</td>\n",
       "      <td>1163</td>\n",
       "      <td>NaN</td>\n",
       "      <td>NaN</td>\n",
       "      <td>[2024, 1163, 1163]</td>\n",
       "    </tr>\n",
       "    <tr>\n",
       "      <th>1</th>\n",
       "      <td>1163</td>\n",
       "      <td>1235</td>\n",
       "      <td>W01</td>\n",
       "      <td>1163</td>\n",
       "      <td>W02</td>\n",
       "      <td>1235</td>\n",
       "      <td>0.736155</td>\n",
       "      <td>0.263845</td>\n",
       "      <td>[2024, 1163, 1235]</td>\n",
       "    </tr>\n",
       "    <tr>\n",
       "      <th>2</th>\n",
       "      <td>1163</td>\n",
       "      <td>1228</td>\n",
       "      <td>W01</td>\n",
       "      <td>1163</td>\n",
       "      <td>W03</td>\n",
       "      <td>1228</td>\n",
       "      <td>0.744798</td>\n",
       "      <td>0.255202</td>\n",
       "      <td>[2024, 1163, 1228]</td>\n",
       "    </tr>\n",
       "    <tr>\n",
       "      <th>3</th>\n",
       "      <td>1163</td>\n",
       "      <td>1120</td>\n",
       "      <td>W01</td>\n",
       "      <td>1163</td>\n",
       "      <td>W04</td>\n",
       "      <td>1120</td>\n",
       "      <td>0.774469</td>\n",
       "      <td>0.225531</td>\n",
       "      <td>[2024, 1163, 1120]</td>\n",
       "    </tr>\n",
       "    <tr>\n",
       "      <th>4</th>\n",
       "      <td>1163</td>\n",
       "      <td>1361</td>\n",
       "      <td>W01</td>\n",
       "      <td>1163</td>\n",
       "      <td>W05</td>\n",
       "      <td>1361</td>\n",
       "      <td>0.874521</td>\n",
       "      <td>0.125479</td>\n",
       "      <td>[2024, 1163, 1361]</td>\n",
       "    </tr>\n",
       "  </tbody>\n",
       "</table>\n",
       "</div>"
      ],
      "text/plain": [
       "     T1    T2 Seed1  TeamID_x Seed2  TeamID_y      Pred  bar_pred  \\\n",
       "0  1163  1163   W01      1163   W01      1163       NaN       NaN   \n",
       "1  1163  1235   W01      1163   W02      1235  0.736155  0.263845   \n",
       "2  1163  1228   W01      1163   W03      1228  0.744798  0.255202   \n",
       "3  1163  1120   W01      1163   W04      1120  0.774469  0.225531   \n",
       "4  1163  1361   W01      1163   W05      1361  0.874521  0.125479   \n",
       "\n",
       "                   ID  \n",
       "0  [2024, 1163, 1163]  \n",
       "1  [2024, 1163, 1235]  \n",
       "2  [2024, 1163, 1228]  \n",
       "3  [2024, 1163, 1120]  \n",
       "4  [2024, 1163, 1361]  "
      ]
     },
     "execution_count": 17,
     "metadata": {},
     "output_type": "execute_result"
    }
   ],
   "source": [
    "# This is a similarly formatted submission for 2023 and prior competitions. It includes every possible matchup of every team in all of college\n",
    "# basketball. All of the code below is taken from the link in the readme, it uses this type of submission format to simulate and construct\n",
    "# a specified number of brackets. It creates a file called submission.csv, formatted correctly for the 2024 competition. See the readme link for\n",
    "# the required columns. \n",
    "matchups_men.head()"
   ]
  },
  {
   "cell_type": "markdown",
   "metadata": {
    "papermill": {
     "duration": 0.010497,
     "end_time": "2024-03-19T11:39:57.753391",
     "exception": false,
     "start_time": "2024-03-19T11:39:57.742894",
     "status": "completed"
    },
    "tags": []
   },
   "source": [
    "# SUBMISSION"
   ]
  },
  {
   "cell_type": "code",
   "execution_count": 18,
   "metadata": {
    "execution": {
     "iopub.execute_input": "2024-04-18T07:40:53.426075Z",
     "iopub.status.busy": "2024-04-18T07:40:53.42565Z",
     "iopub.status.idle": "2024-04-18T07:40:53.44961Z",
     "shell.execute_reply": "2024-04-18T07:40:53.448531Z",
     "shell.execute_reply.started": "2024-04-18T07:40:53.426038Z"
    },
    "trusted": true
   },
   "outputs": [],
   "source": [
    "import numpy as np \n",
    "import pandas as pd \n",
    "from tqdm import tqdm\n",
    "\n",
    "# Load and filter data\n",
    "round_slots = pd.read_csv('./march-machine-learning-mania-2024/MNCAATourneySlots.csv')\n",
    "round_slots = round_slots[round_slots['Season'] == 2024]\n",
    "round_slots = round_slots[round_slots['Slot'].str.contains('R')] # Filter out First Four\n",
    "\n",
    "seeds = pd.read_csv('./march-machine-learning-mania-2024/2024_tourney_seeds.csv')\n",
    "seeds_m = seeds[seeds['Tournament'] == 'M']\n",
    "seeds_w = seeds[seeds['Tournament'] == 'W']"
   ]
  },
  {
   "cell_type": "code",
   "execution_count": 19,
   "metadata": {
    "execution": {
     "iopub.execute_input": "2024-04-18T07:40:53.451433Z",
     "iopub.status.busy": "2024-04-18T07:40:53.451097Z",
     "iopub.status.idle": "2024-04-18T07:40:53.465584Z",
     "shell.execute_reply": "2024-04-18T07:40:53.464795Z",
     "shell.execute_reply.started": "2024-04-18T07:40:53.451404Z"
    },
    "trusted": true
   },
   "outputs": [],
   "source": [
    "def prepare_data(seeds, preds):\n",
    "    # Function preparing the data for the simulation\n",
    "    seed_dict = seeds.set_index('Seed')['TeamID'].to_dict()\n",
    "    inverted_seed_dict = {value: key for key, value in seed_dict.items()}\n",
    "    probas_dict = {}\n",
    "    \n",
    "    for teams, proba in zip(preds['ID'], preds['Pred']):\n",
    "        team1, team2 = teams[1], teams[2]\n",
    "\n",
    "        probas_dict.setdefault(team1, {})[team2] = proba\n",
    "        probas_dict.setdefault(team2, {})[team1] = 1 - proba\n",
    "\n",
    "    return seed_dict, inverted_seed_dict, probas_dict\n",
    "\n",
    "\n",
    "def simulate(round_slots, seeds, inverted_seeds, probas, random_values, sim=True):\n",
    "    '''\n",
    "    Simulates each round of the tournament.\n",
    "\n",
    "    Parameters:\n",
    "    - round_slots: DataFrame containing information on who is playing in each round.\n",
    "    - seeds (dict): Dictionary mapping seed values to team IDs.\n",
    "    - inverted_seeds (dict): Dictionary mapping team IDs to seed values.\n",
    "    - probas (dict): Dictionary containing matchup probabilities.\n",
    "    - random_values (array-like): Array with precomputed random-values.\n",
    "    - sim (boolean): Simulates match if True. Chooses team with higher probability as winner otherwise.\n",
    "\n",
    "    Returns:\n",
    "    - list: List with winning team IDs for each match.\n",
    "    - list: List with corresponding slot names for each match.\n",
    "    '''\n",
    "    winners = []\n",
    "    slots = []\n",
    "\n",
    "    for slot, strong, weak, random_val in zip(round_slots.Slot, round_slots.StrongSeed, round_slots.WeakSeed, random_values):\n",
    "        team1, team2 = seeds[strong], seeds[weak]\n",
    "\n",
    "        # Get the probability of team_1 winning\n",
    "#         print(team1, team2)\n",
    "#         print(probas)\n",
    "        proba = probas[str(team1)][str(team2)]\n",
    "            \n",
    "        if sim:\n",
    "            # Randomly determine the winner based on the probability\n",
    "            winner = team1 if random_val < proba else team2\n",
    "        else:\n",
    "            # Determine the winner based on the higher probability\n",
    "            winner = [team1, team2][np.argmax([proba, 1-proba])]\n",
    "            \n",
    "        # Append the winner and corresponding slot to the lists\n",
    "        winners.append(winner)\n",
    "        slots.append(slot)\n",
    "\n",
    "        seeds[slot] = winner\n",
    "\n",
    "    # Convert winners to original seeds using the inverted_seeds dictionary\n",
    "    return [inverted_seeds[w] for w in winners], slots\n",
    "\n",
    "\n",
    "def run_simulation(brackets=1, seeds=None, preds=None, round_slots=None, sim=True):\n",
    "    '''\n",
    "    Runs a simulation of bracket tournaments.\n",
    "\n",
    "    Parameters:\n",
    "    - brackets (int): Number of brackets to simulate.\n",
    "    - seeds (pd.DataFrame): DataFrame containing seed information.\n",
    "    - preds (pd.DataFrame): DataFrame containing prediction information for each match-up.\n",
    "    - round_slots (pd.DataFrame): DataFrame containing information about the tournament rounds.\n",
    "    - sim (boolean): Simulates matches if True. Chooses team with higher probability as winner otherwise.\n",
    "\n",
    "    Returns:\n",
    "    - pd.DataFrame: DataFrame with simulation results.\n",
    "    '''\n",
    "    # Get relevant data for the simulation\n",
    "    seed_dict, inverted_seed_dict, probas_dict = prepare_data(seeds, preds)\n",
    "    # Lists to store simulation results\n",
    "    results = []\n",
    "    bracket = []\n",
    "    slots = []\n",
    "    \n",
    "    # Precompute random-values\n",
    "    random_values = np.random.random(size=(brackets, len(round_slots)))\n",
    "\n",
    "    # Iterate through the specified number of brackets\n",
    "    for b in tqdm(range(1, brackets+1)):\n",
    "        # Run single simulation\n",
    "        r, s = simulate(round_slots, seed_dict, inverted_seed_dict, probas_dict, random_values[b-1], sim)\n",
    "        \n",
    "        # Update results\n",
    "        results.extend(r)\n",
    "        bracket.extend([b] * len(r))\n",
    "        slots.extend(s)\n",
    "\n",
    "    # Create final DataFrame\n",
    "    result_df = pd.DataFrame({'Bracket': bracket, 'Slot': slots, 'Team': results})\n",
    "\n",
    "    return result_df"
   ]
  },
  {
   "cell_type": "code",
   "execution_count": 20,
   "metadata": {
    "execution": {
     "iopub.execute_input": "2024-04-18T07:40:53.467752Z",
     "iopub.status.busy": "2024-04-18T07:40:53.466761Z",
     "iopub.status.idle": "2024-04-18T07:41:23.03253Z",
     "shell.execute_reply": "2024-04-18T07:41:23.031573Z",
     "shell.execute_reply.started": "2024-04-18T07:40:53.467715Z"
    },
    "trusted": true
   },
   "outputs": [
    {
     "name": "stderr",
     "output_type": "stream",
     "text": [
      "100%|██████████| 100000/100000 [00:02<00:00, 42294.61it/s]\n",
      "100%|██████████| 100000/100000 [00:02<00:00, 45467.32it/s]\n"
     ]
    }
   ],
   "source": [
    "n_brackets = 100000\n",
    "\n",
    "## mens\n",
    "result_m=run_simulation(\n",
    "    brackets=n_brackets, \n",
    "    seeds=seeds_m, \n",
    "    preds=matchups_men, \n",
    "    round_slots=round_slots, \n",
    "    sim=True)\n",
    "result_m['Tournament'] = 'M'\n",
    "\n",
    "## womens\n",
    "result_w=run_simulation(\n",
    "    brackets=n_brackets, \n",
    "    seeds=seeds_w, \n",
    "    preds=matchups_women, \n",
    "    round_slots=round_slots, \n",
    "    sim=True)\n",
    "result_w['Tournament'] = 'W'\n",
    "\n",
    "submission = pd.concat([result_m, result_w])\n",
    "submission.reset_index(inplace=True, drop=True)\n",
    "submission.index.names = ['RowId']"
   ]
  },
  {
   "cell_type": "code",
   "execution_count": 21,
   "metadata": {
    "execution": {
     "iopub.execute_input": "2024-04-18T07:41:23.034142Z",
     "iopub.status.busy": "2024-04-18T07:41:23.033844Z",
     "iopub.status.idle": "2024-04-18T07:41:43.342471Z",
     "shell.execute_reply": "2024-04-18T07:41:43.341561Z",
     "shell.execute_reply.started": "2024-04-18T07:41:23.034118Z"
    },
    "trusted": true
   },
   "outputs": [],
   "source": [
    "submission.to_csv('submission.csv')"
   ]
  },
  {
   "cell_type": "markdown",
   "metadata": {},
   "source": [
    "## Check Brackets: Analysis"
   ]
  },
  {
   "cell_type": "code",
   "execution_count": 22,
   "metadata": {
    "execution": {
     "iopub.execute_input": "2024-04-18T07:41:43.344349Z",
     "iopub.status.busy": "2024-04-18T07:41:43.343583Z",
     "iopub.status.idle": "2024-04-18T07:41:47.824421Z",
     "shell.execute_reply": "2024-04-18T07:41:47.823596Z",
     "shell.execute_reply.started": "2024-04-18T07:41:43.344318Z"
    },
    "trusted": true
   },
   "outputs": [],
   "source": [
    "anal_m, anal_w = result_m.copy(), result_w.copy()\n",
    "\n",
    "anal_m['rd'] = anal_m['Slot'].str.slice(start=1, stop=2)\n",
    "anal_w['rd'] = anal_w['Slot'].str.slice(start=1, stop=2)"
   ]
  },
  {
   "cell_type": "code",
   "execution_count": 23,
   "metadata": {
    "execution": {
     "iopub.execute_input": "2024-04-18T07:41:47.82604Z",
     "iopub.status.busy": "2024-04-18T07:41:47.825581Z",
     "iopub.status.idle": "2024-04-18T07:41:47.831981Z",
     "shell.execute_reply": "2024-04-18T07:41:47.830767Z",
     "shell.execute_reply.started": "2024-04-18T07:41:47.826013Z"
    },
    "trusted": true
   },
   "outputs": [],
   "source": [
    "teams_per_rd = df_men_2024[\n",
    "    ['rd2_win', 'rd3_win', 'rd4_win', 'rd5_win', 'rd6_win','rd7_win']].sum().values"
   ]
  },
  {
   "cell_type": "code",
   "execution_count": 24,
   "metadata": {
    "execution": {
     "iopub.execute_input": "2024-04-18T07:41:47.836153Z",
     "iopub.status.busy": "2024-04-18T07:41:47.835816Z",
     "iopub.status.idle": "2024-04-18T07:41:53.992566Z",
     "shell.execute_reply": "2024-04-18T07:41:53.991516Z",
     "shell.execute_reply.started": "2024-04-18T07:41:47.836127Z"
    },
    "trusted": true
   },
   "outputs": [],
   "source": [
    "## MENS\n",
    "\n",
    "anal_m = anal_m.merge(\n",
    "    seeds_m[['Seed','TeamID']],\n",
    "    left_on='Team', right_on='Seed',\n",
    "    how='left'\n",
    ").merge(\n",
    "    df_men_2024.reset_index()[['player','TeamID']],\n",
    "    on='TeamID'\n",
    ")\n",
    "\n",
    "df_sim_m = anal_m.groupby(\n",
    "    ['player','rd'])['Seed'].count().to_frame().unstack(\n",
    "    level=1\n",
    ")\n",
    "df_sim_m.columns = df_sim_m.columns.droplevel()\n",
    "\n",
    "## adjust row counts to likelihood of advancing\n",
    "df_sim_m = df_sim_m.div(\n",
    "    df_sim_m.sum(), axis=1\n",
    ").mul(\n",
    "    teams_per_rd, axis=1\n",
    ")"
   ]
  },
  {
   "cell_type": "code",
   "execution_count": 25,
   "metadata": {
    "execution": {
     "iopub.execute_input": "2024-04-18T07:41:53.994156Z",
     "iopub.status.busy": "2024-04-18T07:41:53.993857Z",
     "iopub.status.idle": "2024-04-18T07:41:54.002204Z",
     "shell.execute_reply": "2024-04-18T07:41:54.001113Z",
     "shell.execute_reply.started": "2024-04-18T07:41:53.994132Z"
    },
    "trusted": true
   },
   "outputs": [],
   "source": [
    "df_ref_m = df_men_2024[\n",
    "    ['rd2_win', 'rd3_win', 'rd4_win', 'rd5_win', 'rd6_win','rd7_win']]\n",
    "df_ref_m.columns = list(np.arange(1,7))\n",
    "\n",
    "## find diff: pre vs. post-goto conversion\n",
    "df_diff_m = df_ref_m.loc[df_sim_m.index].sort_index().values - df_sim_m.sort_index().values\n",
    "\n",
    "df_diff_m = pd.DataFrame(\n",
    "    df_diff_m,\n",
    "    index = df_sim_m.index,\n",
    "    columns = df_sim_m.columns\n",
    ")"
   ]
  },
  {
   "cell_type": "markdown",
   "metadata": {},
   "source": [
    "getting crushed by the goto conversion:\n",
    "* Boise State (lost their play-in; won't appear in private LB)\n",
    "* Colorado State (won the play-in)\n",
    "* Florida\n",
    "* Marquette\n",
    "* Texas"
   ]
  },
  {
   "cell_type": "code",
   "execution_count": 26,
   "metadata": {
    "execution": {
     "iopub.execute_input": "2024-04-18T07:39:28.297238Z",
     "iopub.status.busy": "2024-04-18T07:39:28.296057Z",
     "iopub.status.idle": "2024-04-18T07:39:28.308247Z",
     "shell.execute_reply": "2024-04-18T07:39:28.306933Z",
     "shell.execute_reply.started": "2024-04-18T07:39:28.297204Z"
    },
    "papermill": {
     "duration": 1.627288,
     "end_time": "2024-03-19T11:39:53.273816",
     "exception": false,
     "start_time": "2024-03-19T11:39:51.646528",
     "status": "completed"
    },
    "tags": [],
    "trusted": true
   },
   "outputs": [],
   "source": [
    "class Percent(float):\n",
    "    def __str__(self):\n",
    "        return '{:.1%}'.format(self)\n",
    "\n",
    "def get_heatMap(output_df, rounds_list, title):\n",
    "    output_df = output_df.sort_values(by=output_df.columns.tolist()[-1], ascending=False)\n",
    "    players_list = output_df.index.tolist()\n",
    "    probabilities_npMatrix = [[Percent(e) for e in l] for l in output_df.values.tolist()]\n",
    "    probabilitiesText_npMatrix = np.array(probabilities_npMatrix, dtype='str_')\n",
    "\n",
    "    fig = px.imshow(probabilities_npMatrix, x=rounds_list, y=players_list, color_continuous_scale='Greens', aspect=\"auto\", width=800, height=1600)\n",
    "    fig.update_traces(text=probabilitiesText_npMatrix , texttemplate=\"%{text}\")\n",
    "    fig.update_xaxes(side=\"top\")\n",
    "    fig.update(layout_coloraxis_showscale=False)\n",
    "    fig.update_layout(title=title)\n",
    "    fig.show()\n",
    "    \n"
   ]
  },
  {
   "cell_type": "code",
   "execution_count": 27,
   "metadata": {
    "execution": {
     "iopub.execute_input": "2024-04-18T07:41:54.004502Z",
     "iopub.status.busy": "2024-04-18T07:41:54.003419Z",
     "iopub.status.idle": "2024-04-18T07:41:55.488978Z",
     "shell.execute_reply": "2024-04-18T07:41:55.488004Z",
     "shell.execute_reply.started": "2024-04-18T07:41:54.004461Z"
    },
    "trusted": true
   },
   "outputs": [
    {
     "data": {
      "text/plain": [
       "<Axes: xlabel='rd', ylabel='player'>"
      ]
     },
     "execution_count": 27,
     "metadata": {},
     "output_type": "execute_result"
    },
    {
     "data": {
      "image/png": "[encoded data removed]",
      "text/plain": [
       "<Figure size 1000x1000 with 2 Axes>"
      ]
     },
     "metadata": {},
     "output_type": "display_data"
    }
   ],
   "source": [
    "import seaborn as sns\n",
    "import matplotlib.pyplot as plt\n",
    "\n",
    "## visualize differences of prob for each team\n",
    "fig, ax = plt.subplots(figsize=(10,10))\n",
    "sns.heatmap(df_diff_m, ax=ax)"
   ]
  },
  {
   "cell_type": "code",
   "execution_count": 28,
   "metadata": {
    "execution": {
     "iopub.execute_input": "2024-04-18T07:41:55.490225Z",
     "iopub.status.busy": "2024-04-18T07:41:55.489921Z",
     "iopub.status.idle": "2024-04-18T07:41:55.547928Z",
     "shell.execute_reply": "2024-04-18T07:41:55.546907Z",
     "shell.execute_reply.started": "2024-04-18T07:41:55.490201Z"
    },
    "trusted": true
   },
   "outputs": [
    {
     "data": {
      "application/vnd.plotly.v1+json": {
       "config": {
        "plotlyServerURL": "https://plot.ly"
       },
       "data": [
        {
         "coloraxis": "coloraxis",
         "hovertemplate": "x: %{x}<br>y: %{y}<br>color: %{z}<extra></extra>",
         "name": "0",
         "text": [
          [
           "99.5%",
           "90.3%",
           "73.9%",
           "56.6%",
           "35.7%",
           "21.7%"
          ],
          [
           "99.5%",
           "86.9%",
           "66.7%",
           "43.2%",
           "26.3%",
           "13.2%"
          ],
          [
           "96.6%",
           "77.0%",
           "54.2%",
           "34.6%",
           "17.0%",
           "10.2%"
          ],
          [
           "97.1%",
           "72.1%",
           "49.8%",
           "33.8%",
           "16.9%",
           "8.2%"
          ],
          [
           "97.6%",
           "73.3%",
           "47.1%",
           "20.9%",
           "11.9%",
           "5.3%"
          ],
          [
           "94.7%",
           "73.5%",
           "42.5%",
           "12.7%",
           "7.5%",
           "4.3%"
          ],
          [
           "99.0%",
           "68.4%",
           "41.8%",
           "19.0%",
           "7.8%",
           "4.1%"
          ],
          [
           "85.8%",
           "59.5%",
           "14.6%",
           "10.3%",
           "6.0%",
           "3.2%"
          ],
          [
           "87.5%",
           "63.5%",
           "29.1%",
           "12.2%",
           "6.9%",
           "3.0%"
          ],
          [
           "92.0%",
           "64.2%",
           "33.7%",
           "9.9%",
           "5.6%",
           "3.0%"
          ],
          [
           "88.7%",
           "55.6%",
           "20.7%",
           "12.1%",
           "4.8%",
           "2.5%"
          ],
          [
           "84.0%",
           "55.4%",
           "21.2%",
           "13.3%",
           "5.8%",
           "2.4%"
          ],
          [
           "90.6%",
           "63.8%",
           "34.0%",
           "13.4%",
           "5.6%",
           "2.1%"
          ],
          [
           "86.8%",
           "47.1%",
           "26.9%",
           "11.2%",
           "4.8%",
           "2.1%"
          ],
          [
           "84.9%",
           "54.3%",
           "14.3%",
           "7.5%",
           "4.1%",
           "1.7%"
          ],
          [
           "79.6%",
           "47.4%",
           "20.8%",
           "8.6%",
           "3.1%",
           "1.5%"
          ],
          [
           "76.6%",
           "33.8%",
           "9.1%",
           "4.8%",
           "2.6%",
           "1.1%"
          ],
          [
           "66.3%",
           "27.4%",
           "9.6%",
           "5.7%",
           "2.2%",
           "0.8%"
          ],
          [
           "70.9%",
           "20.8%",
           "11.7%",
           "4.2%",
           "2.1%",
           "0.8%"
          ],
          [
           "64.6%",
           "31.2%",
           "13.2%",
           "5.3%",
           "1.6%",
           "0.7%"
          ],
          [
           "54.7%",
           "18.7%",
           "10.8%",
           "4.3%",
           "1.5%",
           "0.7%"
          ],
          [
           "76.3%",
           "28.0%",
           "11.8%",
           "2.4%",
           "1.3%",
           "0.7%"
          ],
          [
           "77.9%",
           "29.3%",
           "4.1%",
           "2.4%",
           "1.2%",
           "0.6%"
          ],
          [
           "53.8%",
           "14.7%",
           "9.0%",
           "5.4%",
           "1.9%",
           "0.6%"
          ],
          [
           "50.4%",
           "25.1%",
           "12.7%",
           "4.4%",
           "1.6%",
           "0.6%"
          ],
          [
           "65.6%",
           "7.2%",
           "5.0%",
           "3.0%",
           "1.3%",
           "0.5%"
          ],
          [
           "49.7%",
           "20.2%",
           "6.7%",
           "3.4%",
           "1.1%",
           "0.5%"
          ],
          [
           "62.9%",
           "9.4%",
           "6.3%",
           "3.0%",
           "1.5%",
           "0.5%"
          ],
          [
           "46.2%",
           "12.2%",
           "7.0%",
           "3.9%",
           "1.4%",
           "0.4%"
          ],
          [
           "45.3%",
           "12.9%",
           "7.2%",
           "2.8%",
           "0.9%",
           "0.4%"
          ],
          [
           "49.6%",
           "24.1%",
           "11.3%",
           "3.5%",
           "1.1%",
           "0.3%"
          ],
          [
           "49.0%",
           "15.8%",
           "7.3%",
           "2.5%",
           "1.0%",
           "0.3%"
          ],
          [
           "52.7%",
           "11.6%",
           "6.7%",
           "3.2%",
           "0.8%",
           "0.3%"
          ],
          [
           "47.3%",
           "9.9%",
           "5.3%",
           "2.4%",
           "0.6%",
           "0.2%"
          ],
          [
           "50.3%",
           "20.6%",
           "5.4%",
           "2.4%",
           "0.6%",
           "0.2%"
          ],
          [
           "35.4%",
           "13.5%",
           "4.4%",
           "1.4%",
           "0.4%",
           "0.2%"
          ],
          [
           "44.0%",
           "10.2%",
           "3.9%",
           "0.6%",
           "0.3%",
           "0.1%"
          ],
          [
           "56.0%",
           "13.7%",
           "5.4%",
           "0.8%",
           "0.3%",
           "0.1%"
          ],
          [
           "57.1%",
           "17.3%",
           "5.1%",
           "1.3%",
           "0.5%",
           "0.1%"
          ],
          [
           "51.0%",
           "16.3%",
           "6.2%",
           "1.6%",
           "0.4%",
           "0.1%"
          ],
          [
           "37.1%",
           "3.5%",
           "2.1%",
           "0.8%",
           "0.3%",
           "0.1%"
          ],
          [
           "34.4%",
           "2.2%",
           "1.3%",
           "0.6%",
           "0.2%",
           "0.1%"
          ],
          [
           "42.9%",
           "11.9%",
           "3.0%",
           "0.7%",
           "0.3%",
           "0.1%"
          ],
          [
           "29.1%",
           "5.2%",
           "2.4%",
           "0.6%",
           "0.2%",
           "0.1%"
          ],
          [
           "33.7%",
           "10.1%",
           "2.0%",
           "0.9%",
           "0.2%",
           "0.1%"
          ],
          [
           "14.2%",
           "6.8%",
           "0.8%",
           "0.4%",
           "0.1%",
           "0.0%"
          ],
          [
           "20.4%",
           "7.9%",
           "1.8%",
           "0.4%",
           "0.1%",
           "0.0%"
          ],
          [
           "23.4%",
           "5.7%",
           "0.7%",
           "0.2%",
           "0.1%",
           "0.0%"
          ],
          [
           "16.0%",
           "7.1%",
           "1.1%",
           "0.3%",
           "0.1%",
           "0.0%"
          ],
          [
           "23.7%",
           "4.6%",
           "1.4%",
           "0.2%",
           "0.1%",
           "0.0%"
          ],
          [
           "15.1%",
           "6.2%",
           "0.7%",
           "0.2%",
           "0.1%",
           "0.0%"
          ],
          [
           "22.1%",
           "4.4%",
           "0.3%",
           "0.1%",
           "0.0%",
           "0.0%"
          ],
          [
           "12.5%",
           "7.3%",
           "1.5%",
           "0.3%",
           "0.0%",
           "0.0%"
          ],
          [
           "8.0%",
           "3.2%",
           "0.7%",
           "0.1%",
           "0.0%",
           "0.0%"
          ],
          [
           "11.3%",
           "3.6%",
           "0.4%",
           "0.1%",
           "0.0%",
           "0.0%"
          ],
          [
           "9.4%",
           "4.1%",
           "0.8%",
           "0.1%",
           "0.0%",
           "0.0%"
          ],
          [
           "5.3%",
           "2.6%",
           "0.5%",
           "0.0%",
           "0.0%",
           "0.0%"
          ],
          [
           "3.4%",
           "1.6%",
           "0.5%",
           "0.1%",
           "0.0%",
           "0.0%"
          ],
          [
           "0.5%",
           "0.2%",
           "0.0%",
           "0.0%",
           "nan%",
           "nan%"
          ],
          [
           "2.9%",
           "0.9%",
           "0.2%",
           "0.1%",
           "0.0%",
           "nan%"
          ],
          [
           "2.4%",
           "0.7%",
           "0.1%",
           "0.0%",
           "nan%",
           "nan%"
          ],
          [
           "0.5%",
           "0.3%",
           "0.1%",
           "0.0%",
           "0.0%",
           "nan%"
          ],
          [
           "1.0%",
           "0.1%",
           "0.0%",
           "nan%",
           "nan%",
           "nan%"
          ],
          [
           "13.2%",
           "3.7%",
           "0.8%",
           "0.1%",
           "0.0%",
           "nan%"
          ]
         ],
         "texttemplate": "%{text}",
         "type": "heatmap",
         "x": [
          "Reach R2",
          "Reach S16",
          "Reach E8",
          "Reach F4",
          "Reach CG",
          "Champion"
         ],
         "xaxis": "x",
         "y": [
          "Connecticut",
          "Purdue",
          "Arizona",
          "Houston",
          "Tennessee",
          "Iowa State",
          "North Carolina",
          "Auburn",
          "Creighton",
          "Illinois",
          "Baylor",
          "Duke",
          "Kentucky",
          "Marquette",
          "Gonzaga",
          "Alabama",
          "Kansas",
          "Wisconsin",
          "Texas",
          "Saint Mary's",
          "Michigan State",
          "Brigham Young",
          "San Diego State",
          "Texas A&M",
          "Colorado",
          "Florida Atlantic",
          "New Mexico",
          "TCU",
          "Nebraska",
          "Mississippi State",
          "Florida",
          "Texas Tech",
          "Nevada",
          "Dayton",
          "Clemson",
          "Grand Canyon",
          "Washington State",
          "Drake",
          "South Carolina",
          "North Carolina State",
          "Utah State",
          "Northwestern",
          "Oregon",
          "Colorado State",
          "James Madison",
          "Yale",
          "Charleston",
          "Samford",
          "Vermont",
          "Duquesne",
          "McNeese State",
          "UAB",
          "Akron",
          "Morehead State",
          "Colgate",
          "Oakland",
          "South Dakota State",
          "Long Beach State",
          "Grambling State",
          "Longwood",
          "St. Peter's",
          "Stetson",
          "Wagner",
          "Western Kentucky"
         ],
         "yaxis": "y",
         "z": {
          "bdata": "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",
          "dtype": "f8",
          "shape": "64, 6"
         }
        }
       ],
       "layout": {
        "coloraxis": {
         "colorscale": [
          [
           0,
           "rgb(247,252,245)"
          ],
          [
           0.125,
           "rgb(229,245,224)"
          ],
          [
           0.25,
           "rgb(199,233,192)"
          ],
          [
           0.375,
           "rgb(161,217,155)"
          ],
          [
           0.5,
           "rgb(116,196,118)"
          ],
          [
           0.625,
           "rgb(65,171,93)"
          ],
          [
           0.75,
           "rgb(35,139,69)"
          ],
          [
           0.875,
           "rgb(0,109,44)"
          ],
          [
           1,
           "rgb(0,68,27)"
          ]
         ],
         "showscale": false
        },
        "height": 1600,
        "margin": {
         "t": 60
        },
        "template": {
         "data": {
          "bar": [
           {
            "error_x": {
             "color": "#2a3f5f"
            },
            "error_y": {
             "color": "#2a3f5f"
            },
            "marker": {
             "line": {
              "color": "#E5ECF6",
              "width": 0.5
             },
             "pattern": {
              "fillmode": "overlay",
              "size": 10,
              "solidity": 0.2
             }
            },
            "type": "bar"
           }
          ],
          "barpolar": [
           {
            "marker": {
             "line": {
              "color": "#E5ECF6",
              "width": 0.5
             },
             "pattern": {
              "fillmode": "overlay",
              "size": 10,
              "solidity": 0.2
             }
            },
            "type": "barpolar"
           }
          ],
          "carpet": [
           {
            "aaxis": {
             "endlinecolor": "#2a3f5f",
             "gridcolor": "white",
             "linecolor": "white",
             "minorgridcolor": "white",
             "startlinecolor": "#2a3f5f"
            },
            "baxis": {
             "endlinecolor": "#2a3f5f",
             "gridcolor": "white",
             "linecolor": "white",
             "minorgridcolor": "white",
             "startlinecolor": "#2a3f5f"
            },
            "type": "carpet"
           }
          ],
          "choropleth": [
           {
            "colorbar": {
             "outlinewidth": 0,
             "ticks": ""
            },
            "type": "choropleth"
           }
          ],
          "contour": [
           {
            "colorbar": {
             "outlinewidth": 0,
             "ticks": ""
            },
            "colorscale": [
             [
              0,
              "#0d0887"
             ],
             [
              0.1111111111111111,
              "#46039f"
             ],
             [
              0.2222222222222222,
              "#7201a8"
             ],
             [
              0.3333333333333333,
              "#9c179e"
             ],
             [
              0.4444444444444444,
              "#bd3786"
             ],
             [
              0.5555555555555556,
              "#d8576b"
             ],
             [
              0.6666666666666666,
              "#ed7953"
             ],
             [
              0.7777777777777778,
              "#fb9f3a"
             ],
             [
              0.8888888888888888,
              "#fdca26"
             ],
             [
              1,
              "#f0f921"
             ]
            ],
            "type": "contour"
           }
          ],
          "contourcarpet": [
           {
            "colorbar": {
             "outlinewidth": 0,
             "ticks": ""
            },
            "type": "contourcarpet"
           }
          ],
          "heatmap": [
           {
            "colorbar": {
             "outlinewidth": 0,
             "ticks": ""
            },
            "colorscale": [
             [
              0,
              "#0d0887"
             ],
             [
              0.1111111111111111,
              "#46039f"
             ],
             [
              0.2222222222222222,
              "#7201a8"
             ],
             [
              0.3333333333333333,
              "#9c179e"
             ],
             [
              0.4444444444444444,
              "#bd3786"
             ],
             [
              0.5555555555555556,
              "#d8576b"
             ],
             [
              0.6666666666666666,
              "#ed7953"
             ],
             [
              0.7777777777777778,
              "#fb9f3a"
             ],
             [
              0.8888888888888888,
              "#fdca26"
             ],
             [
              1,
              "#f0f921"
             ]
            ],
            "type": "heatmap"
           }
          ],
          "histogram": [
           {
            "marker": {
             "pattern": {
              "fillmode": "overlay",
              "size": 10,
              "solidity": 0.2
             }
            },
            "type": "histogram"
           }
          ],
          "histogram2d": [
           {
            "colorbar": {
             "outlinewidth": 0,
             "ticks": ""
            },
            "colorscale": [
             [
              0,
              "#0d0887"
             ],
             [
              0.1111111111111111,
              "#46039f"
             ],
             [
              0.2222222222222222,
              "#7201a8"
             ],
             [
              0.3333333333333333,
              "#9c179e"
             ],
             [
              0.4444444444444444,
              "#bd3786"
             ],
             [
              0.5555555555555556,
              "#d8576b"
             ],
             [
              0.6666666666666666,
              "#ed7953"
             ],
             [
              0.7777777777777778,
              "#fb9f3a"
             ],
             [
              0.8888888888888888,
              "#fdca26"
             ],
             [
              1,
              "#f0f921"
             ]
            ],
            "type": "histogram2d"
           }
          ],
          "histogram2dcontour": [
           {
            "colorbar": {
             "outlinewidth": 0,
             "ticks": ""
            },
            "colorscale": [
             [
              0,
              "#0d0887"
             ],
             [
              0.1111111111111111,
              "#46039f"
             ],
             [
              0.2222222222222222,
              "#7201a8"
             ],
             [
              0.3333333333333333,
              "#9c179e"
             ],
             [
              0.4444444444444444,
              "#bd3786"
             ],
             [
              0.5555555555555556,
              "#d8576b"
             ],
             [
              0.6666666666666666,
              "#ed7953"
             ],
             [
              0.7777777777777778,
              "#fb9f3a"
             ],
             [
              0.8888888888888888,
              "#fdca26"
             ],
             [
              1,
              "#f0f921"
             ]
            ],
            "type": "histogram2dcontour"
           }
          ],
          "mesh3d": [
           {
            "colorbar": {
             "outlinewidth": 0,
             "ticks": ""
            },
            "type": "mesh3d"
           }
          ],
          "parcoords": [
           {
            "line": {
             "colorbar": {
              "outlinewidth": 0,
              "ticks": ""
             }
            },
            "type": "parcoords"
           }
          ],
          "pie": [
           {
            "automargin": true,
            "type": "pie"
           }
          ],
          "scatter": [
           {
            "fillpattern": {
             "fillmode": "overlay",
             "size": 10,
             "solidity": 0.2
            },
            "type": "scatter"
           }
          ],
          "scatter3d": [
           {
            "line": {
             "colorbar": {
              "outlinewidth": 0,
              "ticks": ""
             }
            },
            "marker": {
             "colorbar": {
              "outlinewidth": 0,
              "ticks": ""
             }
            },
            "type": "scatter3d"
           }
          ],
          "scattercarpet": [
           {
            "marker": {
             "colorbar": {
              "outlinewidth": 0,
              "ticks": ""
             }
            },
            "type": "scattercarpet"
           }
          ],
          "scattergeo": [
           {
            "marker": {
             "colorbar": {
              "outlinewidth": 0,
              "ticks": ""
             }
            },
            "type": "scattergeo"
           }
          ],
          "scattergl": [
           {
            "marker": {
             "colorbar": {
              "outlinewidth": 0,
              "ticks": ""
             }
            },
            "type": "scattergl"
           }
          ],
          "scattermap": [
           {
            "marker": {
             "colorbar": {
              "outlinewidth": 0,
              "ticks": ""
             }
            },
            "type": "scattermap"
           }
          ],
          "scattermapbox": [
           {
            "marker": {
             "colorbar": {
              "outlinewidth": 0,
              "ticks": ""
             }
            },
            "type": "scattermapbox"
           }
          ],
          "scatterpolar": [
           {
            "marker": {
             "colorbar": {
              "outlinewidth": 0,
              "ticks": ""
             }
            },
            "type": "scatterpolar"
           }
          ],
          "scatterpolargl": [
           {
            "marker": {
             "colorbar": {
              "outlinewidth": 0,
              "ticks": ""
             }
            },
            "type": "scatterpolargl"
           }
          ],
          "scatterternary": [
           {
            "marker": {
             "colorbar": {
              "outlinewidth": 0,
              "ticks": ""
             }
            },
            "type": "scatterternary"
           }
          ],
          "surface": [
           {
            "colorbar": {
             "outlinewidth": 0,
             "ticks": ""
            },
            "colorscale": [
             [
              0,
              "#0d0887"
             ],
             [
              0.1111111111111111,
              "#46039f"
             ],
             [
              0.2222222222222222,
              "#7201a8"
             ],
             [
              0.3333333333333333,
              "#9c179e"
             ],
             [
              0.4444444444444444,
              "#bd3786"
             ],
             [
              0.5555555555555556,
              "#d8576b"
             ],
             [
              0.6666666666666666,
              "#ed7953"
             ],
             [
              0.7777777777777778,
              "#fb9f3a"
             ],
             [
              0.8888888888888888,
              "#fdca26"
             ],
             [
              1,
              "#f0f921"
             ]
            ],
            "type": "surface"
           }
          ],
          "table": [
           {
            "cells": {
             "fill": {
              "color": "#EBF0F8"
             },
             "line": {
              "color": "white"
             }
            },
            "header": {
             "fill": {
              "color": "#C8D4E3"
             },
             "line": {
              "color": "white"
             }
            },
            "type": "table"
           }
          ]
         },
         "layout": {
          "annotationdefaults": {
           "arrowcolor": "#2a3f5f",
           "arrowhead": 0,
           "arrowwidth": 1
          },
          "autotypenumbers": "strict",
          "coloraxis": {
           "colorbar": {
            "outlinewidth": 0,
            "ticks": ""
           }
          },
          "colorscale": {
           "diverging": [
            [
             0,
             "#8e0152"
            ],
            [
             0.1,
             "#c51b7d"
            ],
            [
             0.2,
             "#de77ae"
            ],
            [
             0.3,
             "#f1b6da"
            ],
            [
             0.4,
             "#fde0ef"
            ],
            [
             0.5,
             "#f7f7f7"
            ],
            [
             0.6,
             "#e6f5d0"
            ],
            [
             0.7,
             "#b8e186"
            ],
            [
             0.8,
             "#7fbc41"
            ],
            [
             0.9,
             "#4d9221"
            ],
            [
             1,
             "#276419"
            ]
           ],
           "sequential": [
            [
             0,
             "#0d0887"
            ],
            [
             0.1111111111111111,
             "#46039f"
            ],
            [
             0.2222222222222222,
             "#7201a8"
            ],
            [
             0.3333333333333333,
             "#9c179e"
            ],
            [
             0.4444444444444444,
             "#bd3786"
            ],
            [
             0.5555555555555556,
             "#d8576b"
            ],
            [
             0.6666666666666666,
             "#ed7953"
            ],
            [
             0.7777777777777778,
             "#fb9f3a"
            ],
            [
             0.8888888888888888,
             "#fdca26"
            ],
            [
             1,
             "#f0f921"
            ]
           ],
           "sequentialminus": [
            [
             0,
             "#0d0887"
            ],
            [
             0.1111111111111111,
             "#46039f"
            ],
            [
             0.2222222222222222,
             "#7201a8"
            ],
            [
             0.3333333333333333,
             "#9c179e"
            ],
            [
             0.4444444444444444,
             "#bd3786"
            ],
            [
             0.5555555555555556,
             "#d8576b"
            ],
            [
             0.6666666666666666,
             "#ed7953"
            ],
            [
             0.7777777777777778,
             "#fb9f3a"
            ],
            [
             0.8888888888888888,
             "#fdca26"
            ],
            [
             1,
             "#f0f921"
            ]
           ]
          },
          "colorway": [
           "#636efa",
           "#EF553B",
           "#00cc96",
           "#ab63fa",
           "#FFA15A",
           "#19d3f3",
           "#FF6692",
           "#B6E880",
           "#FF97FF",
           "#FECB52"
          ],
          "font": {
           "color": "#2a3f5f"
          },
          "geo": {
           "bgcolor": "white",
           "lakecolor": "white",
           "landcolor": "#E5ECF6",
           "showlakes": true,
           "showland": true,
           "subunitcolor": "white"
          },
          "hoverlabel": {
           "align": "left"
          },
          "hovermode": "closest",
          "mapbox": {
           "style": "light"
          },
          "paper_bgcolor": "white",
          "plot_bgcolor": "#E5ECF6",
          "polar": {
           "angularaxis": {
            "gridcolor": "white",
            "linecolor": "white",
            "ticks": ""
           },
           "bgcolor": "#E5ECF6",
           "radialaxis": {
            "gridcolor": "white",
            "linecolor": "white",
            "ticks": ""
           }
          },
          "scene": {
           "xaxis": {
            "backgroundcolor": "#E5ECF6",
            "gridcolor": "white",
            "gridwidth": 2,
            "linecolor": "white",
            "showbackground": true,
            "ticks": "",
            "zerolinecolor": "white"
           },
           "yaxis": {
            "backgroundcolor": "#E5ECF6",
            "gridcolor": "white",
            "gridwidth": 2,
            "linecolor": "white",
            "showbackground": true,
            "ticks": "",
            "zerolinecolor": "white"
           },
           "zaxis": {
            "backgroundcolor": "#E5ECF6",
            "gridcolor": "white",
            "gridwidth": 2,
            "linecolor": "white",
            "showbackground": true,
            "ticks": "",
            "zerolinecolor": "white"
           }
          },
          "shapedefaults": {
           "line": {
            "color": "#2a3f5f"
           }
          },
          "ternary": {
           "aaxis": {
            "gridcolor": "white",
            "linecolor": "white",
            "ticks": ""
           },
           "baxis": {
            "gridcolor": "white",
            "linecolor": "white",
            "ticks": ""
           },
           "bgcolor": "#E5ECF6",
           "caxis": {
            "gridcolor": "white",
            "linecolor": "white",
            "ticks": ""
           }
          },
          "title": {
           "x": 0.05
          },
          "xaxis": {
           "automargin": true,
           "gridcolor": "white",
           "linecolor": "white",
           "ticks": "",
           "title": {
            "standoff": 15
           },
           "zerolinecolor": "white",
           "zerolinewidth": 2
          },
          "yaxis": {
           "automargin": true,
           "gridcolor": "white",
           "linecolor": "white",
           "ticks": "",
           "title": {
            "standoff": 15
           },
           "zerolinecolor": "white",
           "zerolinewidth": 2
          }
         }
        },
        "title": {
         "text": "CHECK: Mens March Madness 2024"
        },
        "width": 800,
        "xaxis": {
         "anchor": "y",
         "domain": [
          0,
          1
         ],
         "side": "top"
        },
        "yaxis": {
         "anchor": "x",
         "autorange": "reversed",
         "domain": [
          0,
          1
         ]
        }
       }
      }
     },
     "metadata": {},
     "output_type": "display_data"
    }
   ],
   "source": [
    "## visualize advancement\n",
    "get_heatMap(\n",
    "    df_sim_m, \n",
    "    rounds_list = ['Reach R2', 'Reach S16', 'Reach E8', 'Reach F4', 'Reach CG', 'Champion'],\n",
    "    title = 'CHECK: Mens March Madness 2024')"
   ]
  },
  {
   "cell_type": "code",
   "execution_count": 29,
   "metadata": {
    "execution": {
     "iopub.execute_input": "2024-04-18T07:41:55.549523Z",
     "iopub.status.busy": "2024-04-18T07:41:55.549139Z",
     "iopub.status.idle": "2024-04-18T07:42:01.430526Z",
     "shell.execute_reply": "2024-04-18T07:42:01.429135Z",
     "shell.execute_reply.started": "2024-04-18T07:41:55.549497Z"
    },
    "trusted": true
   },
   "outputs": [],
   "source": [
    "## WOMENS\n",
    "\n",
    "anal_w = anal_w.merge(\n",
    "    seeds_w[['Seed','TeamID']],\n",
    "    left_on='Team', right_on='Seed',\n",
    "    how='left'\n",
    ").merge(\n",
    "    df_women_2024.reset_index()[['player','TeamID']],\n",
    "    on='TeamID'\n",
    ")\n",
    "\n",
    "df_sim_w = anal_w.groupby(\n",
    "    ['player','rd'])['Seed'].count().to_frame().unstack(\n",
    "    level=1\n",
    ")\n",
    "df_sim_w.columns = df_sim_w.columns.droplevel()\n",
    "\n",
    "## adjust row counts to likelihood of advancing\n",
    "df_sim_w = df_sim_w.div(\n",
    "    df_sim_w.sum(), axis=1\n",
    ").mul(\n",
    "    teams_per_rd, axis=1\n",
    ")"
   ]
  },
  {
   "cell_type": "code",
   "execution_count": 30,
   "metadata": {
    "execution": {
     "iopub.execute_input": "2024-04-18T07:42:01.433682Z",
     "iopub.status.busy": "2024-04-18T07:42:01.432867Z",
     "iopub.status.idle": "2024-04-18T07:42:01.443264Z",
     "shell.execute_reply": "2024-04-18T07:42:01.441952Z",
     "shell.execute_reply.started": "2024-04-18T07:42:01.433642Z"
    },
    "trusted": true
   },
   "outputs": [],
   "source": [
    "\n",
    "df_ref_w = df_women_2024[\n",
    "    ['rd2_win', 'rd3_win', 'rd4_win', 'rd5_win', 'rd6_win','rd7_win']]\n",
    "df_ref_w.columns = list(np.arange(1,7))\n",
    "\n",
    "df_diff_w = df_ref_w.loc[df_sim_w.index].sort_index().values - df_sim_w.sort_index().values\n",
    "\n",
    "df_diff_w = pd.DataFrame(\n",
    "    df_diff_w,\n",
    "    index = df_sim_w.index,\n",
    "    columns = df_sim_w.columns\n",
    ")"
   ]
  },
  {
   "cell_type": "markdown",
   "metadata": {},
   "source": [
    "- Arizona\n",
    "- Baylor\n",
    "- Columbia"
   ]
  },
  {
   "cell_type": "code",
   "execution_count": 31,
   "metadata": {
    "execution": {
     "iopub.execute_input": "2024-04-18T07:42:01.44525Z",
     "iopub.status.busy": "2024-04-18T07:42:01.444517Z",
     "iopub.status.idle": "2024-04-18T07:42:02.018979Z",
     "shell.execute_reply": "2024-04-18T07:42:02.017826Z",
     "shell.execute_reply.started": "2024-04-18T07:42:01.445221Z"
    },
    "trusted": true
   },
   "outputs": [
    {
     "data": {
      "text/plain": [
       "<Axes: xlabel='rd', ylabel='player'>"
      ]
     },
     "execution_count": 31,
     "metadata": {},
     "output_type": "execute_result"
    },
    {
     "data": {
      "image/png": "[encoded data removed]",
      "text/plain": [
       "<Figure size 1000x1000 with 2 Axes>"
      ]
     },
     "metadata": {},
     "output_type": "display_data"
    }
   ],
   "source": [
    "fig, ax = plt.subplots(figsize=(10,10))\n",
    "sns.heatmap(df_diff_w, ax=ax)"
   ]
  },
  {
   "cell_type": "code",
   "execution_count": 32,
   "metadata": {
    "execution": {
     "iopub.execute_input": "2024-04-18T07:42:02.020865Z",
     "iopub.status.busy": "2024-04-18T07:42:02.020539Z",
     "iopub.status.idle": "2024-04-18T07:42:02.075122Z",
     "shell.execute_reply": "2024-04-18T07:42:02.073999Z",
     "shell.execute_reply.started": "2024-04-18T07:42:02.020837Z"
    },
    "trusted": true
   },
   "outputs": [
    {
     "data": {
      "application/vnd.plotly.v1+json": {
       "config": {
        "plotlyServerURL": "https://plot.ly"
       },
       "data": [
        {
         "coloraxis": "coloraxis",
         "hovertemplate": "x: %{x}<br>y: %{y}<br>color: %{z}<extra></extra>",
         "name": "0",
         "text": [
          [
           "100.0%",
           "96.0%",
           "85.5%",
           "73.0%",
           "55.3%",
           "37.5%"
          ],
          [
           "99.8%",
           "95.5%",
           "74.4%",
           "53.9%",
           "29.2%",
           "13.5%"
          ],
          [
           "99.9%",
           "91.5%",
           "70.6%",
           "40.1%",
           "22.9%",
           "9.7%"
          ],
          [
           "99.9%",
           "92.8%",
           "70.7%",
           "40.7%",
           "12.8%",
           "7.4%"
          ],
          [
           "98.7%",
           "87.2%",
           "51.6%",
           "26.4%",
           "14.5%",
           "5.8%"
          ],
          [
           "99.8%",
           "89.7%",
           "62.0%",
           "32.1%",
           "10.1%",
           "5.2%"
          ],
          [
           "98.9%",
           "85.1%",
           "60.5%",
           "12.0%",
           "7.8%",
           "4.4%"
          ],
          [
           "98.9%",
           "86.6%",
           "41.6%",
           "19.5%",
           "9.8%",
           "3.5%"
          ],
          [
           "98.1%",
           "78.8%",
           "10.3%",
           "7.7%",
           "4.7%",
           "2.3%"
          ],
          [
           "99.9%",
           "87.7%",
           "54.3%",
           "18.3%",
           "7.9%",
           "2.2%"
          ],
          [
           "99.8%",
           "77.1%",
           "20.3%",
           "13.3%",
           "5.3%",
           "1.9%"
          ],
          [
           "98.7%",
           "72.9%",
           "27.2%",
           "10.0%",
           "2.0%",
           "0.9%"
          ],
          [
           "86.1%",
           "41.3%",
           "10.7%",
           "5.7%",
           "1.5%",
           "0.7%"
          ],
          [
           "98.1%",
           "66.4%",
           "29.6%",
           "7.2%",
           "2.4%",
           "0.7%"
          ],
          [
           "96.6%",
           "61.6%",
           "15.8%",
           "6.2%",
           "2.5%",
           "0.7%"
          ],
          [
           "97.5%",
           "55.5%",
           "14.5%",
           "6.8%",
           "1.5%",
           "0.5%"
          ],
          [
           "95.9%",
           "75.5%",
           "27.2%",
           "3.1%",
           "1.5%",
           "0.5%"
          ],
          [
           "83.1%",
           "34.6%",
           "8.2%",
           "3.4%",
           "1.5%",
           "0.4%"
          ],
          [
           "90.4%",
           "32.4%",
           "11.7%",
           "3.5%",
           "1.2%",
           "0.3%"
          ],
          [
           "48.6%",
           "1.8%",
           "1.4%",
           "1.0%",
           "0.6%",
           "0.3%"
          ],
          [
           "51.4%",
           "2.1%",
           "1.6%",
           "1.2%",
           "0.6%",
           "0.2%"
          ],
          [
           "66.7%",
           "6.8%",
           "4.3%",
           "1.8%",
           "0.7%",
           "0.2%"
          ],
          [
           "82.0%",
           "21.4%",
           "3.2%",
           "1.9%",
           "0.6%",
           "0.2%"
          ],
          [
           "68.4%",
           "9.7%",
           "3.5%",
           "1.3%",
           "0.5%",
           "0.1%"
          ],
          [
           "80.0%",
           "24.3%",
           "6.0%",
           "2.0%",
           "0.3%",
           "0.1%"
          ],
          [
           "71.6%",
           "16.9%",
           "1.0%",
           "0.7%",
           "0.3%",
           "0.1%"
          ],
          [
           "58.4%",
           "9.6%",
           "5.3%",
           "0.6%",
           "0.3%",
           "0.1%"
          ],
          [
           "66.3%",
           "17.0%",
           "3.6%",
           "0.4%",
           "0.2%",
           "0.1%"
          ],
          [
           "52.0%",
           "5.9%",
           "2.6%",
           "0.8%",
           "0.1%",
           "0.1%"
          ],
          [
           "50.2%",
           "6.5%",
           "1.3%",
           "0.4%",
           "0.2%",
           "0.0%"
          ],
          [
           "47.0%",
           "2.0%",
           "0.9%",
           "0.5%",
           "0.2%",
           "0.0%"
          ],
          [
           "55.8%",
           "7.8%",
           "2.9%",
           "0.6%",
           "0.2%",
           "0.0%"
          ],
          [
           "48.0%",
           "4.3%",
           "1.8%",
           "0.5%",
           "0.1%",
           "0.0%"
          ],
          [
           "49.1%",
           "3.2%",
           "1.7%",
           "0.5%",
           "0.1%",
           "0.0%"
          ],
          [
           "53.0%",
           "2.3%",
           "1.1%",
           "0.5%",
           "0.1%",
           "0.0%"
          ],
          [
           "50.9%",
           "3.9%",
           "2.1%",
           "0.7%",
           "0.1%",
           "0.0%"
          ],
          [
           "41.6%",
           "4.8%",
           "2.4%",
           "0.2%",
           "0.1%",
           "0.0%"
          ],
          [
           "33.3%",
           "1.7%",
           "0.8%",
           "0.3%",
           "0.1%",
           "0.0%"
          ],
          [
           "44.2%",
           "4.5%",
           "1.5%",
           "0.3%",
           "0.1%",
           "0.0%"
          ],
          [
           "49.8%",
           "6.4%",
           "1.3%",
           "0.3%",
           "0.1%",
           "0.0%"
          ],
          [
           "31.6%",
           "2.4%",
           "0.6%",
           "0.2%",
           "0.1%",
           "0.0%"
          ],
          [
           "20.0%",
           "2.5%",
           "0.3%",
           "0.1%",
           "0.0%",
           "0.0%"
          ],
          [
           "28.4%",
           "3.5%",
           "0.1%",
           "0.1%",
           "0.0%",
           "0.0%"
          ],
          [
           "33.7%",
           "5.5%",
           "0.8%",
           "0.0%",
           "0.0%",
           "0.0%"
          ],
          [
           "16.9%",
           "3.1%",
           "0.2%",
           "0.0%",
           "0.0%",
           "0.0%"
          ],
          [
           "1.1%",
           "0.6%",
           "0.0%",
           "0.0%",
           "nan%",
           "nan%"
          ],
          [
           "1.3%",
           "0.3%",
           "0.0%",
           "nan%",
           "nan%",
           "nan%"
          ],
          [
           "9.6%",
           "0.9%",
           "0.1%",
           "0.0%",
           "0.0%",
           "nan%"
          ],
          [
           "0.1%",
           "0.0%",
           "0.0%",
           "nan%",
           "nan%",
           "nan%"
          ],
          [
           "4.1%",
           "2.0%",
           "0.1%",
           "0.0%",
           "nan%",
           "nan%"
          ],
          [
           "1.9%",
           "0.8%",
           "0.0%",
           "nan%",
           "nan%",
           "nan%"
          ],
          [
           "0.1%",
           "0.0%",
           "0.0%",
           "nan%",
           "nan%",
           "nan%"
          ],
          [
           "0.2%",
           "0.2%",
           "0.0%",
           "0.0%",
           "nan%",
           "nan%"
          ],
          [
           "1.1%",
           "0.5%",
           "0.1%",
           "0.0%",
           "nan%",
           "nan%"
          ],
          [
           "0.2%",
           "0.0%",
           "0.0%",
           "nan%",
           "nan%",
           "nan%"
          ],
          [
           "1.9%",
           "0.3%",
           "0.0%",
           "nan%",
           "nan%",
           "nan%"
          ],
          [
           "0.2%",
           "0.1%",
           "0.0%",
           "nan%",
           "nan%",
           "nan%"
          ],
          [
           "3.4%",
           "0.7%",
           "0.0%",
           "0.0%",
           "nan%",
           "nan%"
          ],
          [
           "0.0%",
           "nan%",
           "nan%",
           "nan%",
           "nan%",
           "nan%"
          ],
          [
           "1.3%",
           "0.8%",
           "0.1%",
           "0.0%",
           "nan%",
           "nan%"
          ],
          [
           "18.0%",
           "1.4%",
           "0.1%",
           "0.0%",
           "0.0%",
           "nan%"
          ],
          [
           "13.9%",
           "3.0%",
           "0.2%",
           "0.1%",
           "0.0%",
           "nan%"
          ],
          [
           "0.1%",
           "0.0%",
           "nan%",
           "nan%",
           "nan%",
           "nan%"
          ],
          [
           "2.5%",
           "0.3%",
           "0.0%",
           "0.0%",
           "nan%",
           "nan%"
          ]
         ],
         "texttemplate": "%{text}",
         "type": "heatmap",
         "x": [
          "Reach R2",
          "Reach S16",
          "Reach E8",
          "Reach F4",
          "Reach CG",
          "Champion"
         ],
         "xaxis": "x",
         "y": [
          "South Carolina",
          "Connecticut",
          "Iowa",
          "Texas",
          "LSU",
          "Stanford",
          "Notre Dame",
          "UCLA",
          "Indiana",
          "USC",
          "Ohio State",
          "North Carolina State",
          "Utah",
          "Virginia Tech",
          "Kansas State",
          "Gonzaga",
          "Oregon State",
          "Colorado",
          "Baylor",
          "Michigan State",
          "North Carolina",
          "West Virginia",
          "Duke",
          "Louisville",
          "Tennessee",
          "Oklahoma",
          "Ole Miss",
          "Nebraska",
          "Iowa State",
          "Creighton",
          "Arizona",
          "Kansas",
          "Maryland",
          "Florida State",
          "Syracuse",
          "Alabama",
          "Marquette",
          "Princeton",
          "Michigan",
          "UNLV",
          "Middle Tennessee",
          "Green Bay",
          "Florida Gulf Coast",
          "Texas A&M",
          "Drake",
          "California Baptist",
          "Chattanooga",
          "Columbia",
          "Drexel",
          "Eastern Washington",
          "Fairfield",
          "Holy Cross",
          "Jackson State",
          "Kent State",
          "Maine",
          "Marshall",
          "Norfolk State",
          "Portland",
          "Presbyterian",
          "Rice",
          "Richmond",
          "South Dakota State",
          "TAMU-Corpus Christi",
          "UC Irvine"
         ],
         "yaxis": "y",
         "z": {
          "bdata": "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",
          "dtype": "f8",
          "shape": "64, 6"
         }
        }
       ],
       "layout": {
        "coloraxis": {
         "colorscale": [
          [
           0,
           "rgb(247,252,245)"
          ],
          [
           0.125,
           "rgb(229,245,224)"
          ],
          [
           0.25,
           "rgb(199,233,192)"
          ],
          [
           0.375,
           "rgb(161,217,155)"
          ],
          [
           0.5,
           "rgb(116,196,118)"
          ],
          [
           0.625,
           "rgb(65,171,93)"
          ],
          [
           0.75,
           "rgb(35,139,69)"
          ],
          [
           0.875,
           "rgb(0,109,44)"
          ],
          [
           1,
           "rgb(0,68,27)"
          ]
         ],
         "showscale": false
        },
        "height": 1600,
        "margin": {
         "t": 60
        },
        "template": {
         "data": {
          "bar": [
           {
            "error_x": {
             "color": "#2a3f5f"
            },
            "error_y": {
             "color": "#2a3f5f"
            },
            "marker": {
             "line": {
              "color": "#E5ECF6",
              "width": 0.5
             },
             "pattern": {
              "fillmode": "overlay",
              "size": 10,
              "solidity": 0.2
             }
            },
            "type": "bar"
           }
          ],
          "barpolar": [
           {
            "marker": {
             "line": {
              "color": "#E5ECF6",
              "width": 0.5
             },
             "pattern": {
              "fillmode": "overlay",
              "size": 10,
              "solidity": 0.2
             }
            },
            "type": "barpolar"
           }
          ],
          "carpet": [
           {
            "aaxis": {
             "endlinecolor": "#2a3f5f",
             "gridcolor": "white",
             "linecolor": "white",
             "minorgridcolor": "white",
             "startlinecolor": "#2a3f5f"
            },
            "baxis": {
             "endlinecolor": "#2a3f5f",
             "gridcolor": "white",
             "linecolor": "white",
             "minorgridcolor": "white",
             "startlinecolor": "#2a3f5f"
            },
            "type": "carpet"
           }
          ],
          "choropleth": [
           {
            "colorbar": {
             "outlinewidth": 0,
             "ticks": ""
            },
            "type": "choropleth"
           }
          ],
          "contour": [
           {
            "colorbar": {
             "outlinewidth": 0,
             "ticks": ""
            },
            "colorscale": [
             [
              0,
              "#0d0887"
             ],
             [
              0.1111111111111111,
              "#46039f"
             ],
             [
              0.2222222222222222,
              "#7201a8"
             ],
             [
              0.3333333333333333,
              "#9c179e"
             ],
             [
              0.4444444444444444,
              "#bd3786"
             ],
             [
              0.5555555555555556,
              "#d8576b"
             ],
             [
              0.6666666666666666,
              "#ed7953"
             ],
             [
              0.7777777777777778,
              "#fb9f3a"
             ],
             [
              0.8888888888888888,
              "#fdca26"
             ],
             [
              1,
              "#f0f921"
             ]
            ],
            "type": "contour"
           }
          ],
          "contourcarpet": [
           {
            "colorbar": {
             "outlinewidth": 0,
             "ticks": ""
            },
            "type": "contourcarpet"
           }
          ],
          "heatmap": [
           {
            "colorbar": {
             "outlinewidth": 0,
             "ticks": ""
            },
            "colorscale": [
             [
              0,
              "#0d0887"
             ],
             [
              0.1111111111111111,
              "#46039f"
             ],
             [
              0.2222222222222222,
              "#7201a8"
             ],
             [
              0.3333333333333333,
              "#9c179e"
             ],
             [
              0.4444444444444444,
              "#bd3786"
             ],
             [
              0.5555555555555556,
              "#d8576b"
             ],
             [
              0.6666666666666666,
              "#ed7953"
             ],
             [
              0.7777777777777778,
              "#fb9f3a"
             ],
             [
              0.8888888888888888,
              "#fdca26"
             ],
             [
              1,
              "#f0f921"
             ]
            ],
            "type": "heatmap"
           }
          ],
          "histogram": [
           {
            "marker": {
             "pattern": {
              "fillmode": "overlay",
              "size": 10,
              "solidity": 0.2
             }
            },
            "type": "histogram"
           }
          ],
          "histogram2d": [
           {
            "colorbar": {
             "outlinewidth": 0,
             "ticks": ""
            },
            "colorscale": [
             [
              0,
              "#0d0887"
             ],
             [
              0.1111111111111111,
              "#46039f"
             ],
             [
              0.2222222222222222,
              "#7201a8"
             ],
             [
              0.3333333333333333,
              "#9c179e"
             ],
             [
              0.4444444444444444,
              "#bd3786"
             ],
             [
              0.5555555555555556,
              "#d8576b"
             ],
             [
              0.6666666666666666,
              "#ed7953"
             ],
             [
              0.7777777777777778,
              "#fb9f3a"
             ],
             [
              0.8888888888888888,
              "#fdca26"
             ],
             [
              1,
              "#f0f921"
             ]
            ],
            "type": "histogram2d"
           }
          ],
          "histogram2dcontour": [
           {
            "colorbar": {
             "outlinewidth": 0,
             "ticks": ""
            },
            "colorscale": [
             [
              0,
              "#0d0887"
             ],
             [
              0.1111111111111111,
              "#46039f"
             ],
             [
              0.2222222222222222,
              "#7201a8"
             ],
             [
              0.3333333333333333,
              "#9c179e"
             ],
             [
              0.4444444444444444,
              "#bd3786"
             ],
             [
              0.5555555555555556,
              "#d8576b"
             ],
             [
              0.6666666666666666,
              "#ed7953"
             ],
             [
              0.7777777777777778,
              "#fb9f3a"
             ],
             [
              0.8888888888888888,
              "#fdca26"
             ],
             [
              1,
              "#f0f921"
             ]
            ],
            "type": "histogram2dcontour"
           }
          ],
          "mesh3d": [
           {
            "colorbar": {
             "outlinewidth": 0,
             "ticks": ""
            },
            "type": "mesh3d"
           }
          ],
          "parcoords": [
           {
            "line": {
             "colorbar": {
              "outlinewidth": 0,
              "ticks": ""
             }
            },
            "type": "parcoords"
           }
          ],
          "pie": [
           {
            "automargin": true,
            "type": "pie"
           }
          ],
          "scatter": [
           {
            "fillpattern": {
             "fillmode": "overlay",
             "size": 10,
             "solidity": 0.2
            },
            "type": "scatter"
           }
          ],
          "scatter3d": [
           {
            "line": {
             "colorbar": {
              "outlinewidth": 0,
              "ticks": ""
             }
            },
            "marker": {
             "colorbar": {
              "outlinewidth": 0,
              "ticks": ""
             }
            },
            "type": "scatter3d"
           }
          ],
          "scattercarpet": [
           {
            "marker": {
             "colorbar": {
              "outlinewidth": 0,
              "ticks": ""
             }
            },
            "type": "scattercarpet"
           }
          ],
          "scattergeo": [
           {
            "marker": {
             "colorbar": {
              "outlinewidth": 0,
              "ticks": ""
             }
            },
            "type": "scattergeo"
           }
          ],
          "scattergl": [
           {
            "marker": {
             "colorbar": {
              "outlinewidth": 0,
              "ticks": ""
             }
            },
            "type": "scattergl"
           }
          ],
          "scattermap": [
           {
            "marker": {
             "colorbar": {
              "outlinewidth": 0,
              "ticks": ""
             }
            },
            "type": "scattermap"
           }
          ],
          "scattermapbox": [
           {
            "marker": {
             "colorbar": {
              "outlinewidth": 0,
              "ticks": ""
             }
            },
            "type": "scattermapbox"
           }
          ],
          "scatterpolar": [
           {
            "marker": {
             "colorbar": {
              "outlinewidth": 0,
              "ticks": ""
             }
            },
            "type": "scatterpolar"
           }
          ],
          "scatterpolargl": [
           {
            "marker": {
             "colorbar": {
              "outlinewidth": 0,
              "ticks": ""
             }
            },
            "type": "scatterpolargl"
           }
          ],
          "scatterternary": [
           {
            "marker": {
             "colorbar": {
              "outlinewidth": 0,
              "ticks": ""
             }
            },
            "type": "scatterternary"
           }
          ],
          "surface": [
           {
            "colorbar": {
             "outlinewidth": 0,
             "ticks": ""
            },
            "colorscale": [
             [
              0,
              "#0d0887"
             ],
             [
              0.1111111111111111,
              "#46039f"
             ],
             [
              0.2222222222222222,
              "#7201a8"
             ],
             [
              0.3333333333333333,
              "#9c179e"
             ],
             [
              0.4444444444444444,
              "#bd3786"
             ],
             [
              0.5555555555555556,
              "#d8576b"
             ],
             [
              0.6666666666666666,
              "#ed7953"
             ],
             [
              0.7777777777777778,
              "#fb9f3a"
             ],
             [
              0.8888888888888888,
              "#fdca26"
             ],
             [
              1,
              "#f0f921"
             ]
            ],
            "type": "surface"
           }
          ],
          "table": [
           {
            "cells": {
             "fill": {
              "color": "#EBF0F8"
             },
             "line": {
              "color": "white"
             }
            },
            "header": {
             "fill": {
              "color": "#C8D4E3"
             },
             "line": {
              "color": "white"
             }
            },
            "type": "table"
           }
          ]
         },
         "layout": {
          "annotationdefaults": {
           "arrowcolor": "#2a3f5f",
           "arrowhead": 0,
           "arrowwidth": 1
          },
          "autotypenumbers": "strict",
          "coloraxis": {
           "colorbar": {
            "outlinewidth": 0,
            "ticks": ""
           }
          },
          "colorscale": {
           "diverging": [
            [
             0,
             "#8e0152"
            ],
            [
             0.1,
             "#c51b7d"
            ],
            [
             0.2,
             "#de77ae"
            ],
            [
             0.3,
             "#f1b6da"
            ],
            [
             0.4,
             "#fde0ef"
            ],
            [
             0.5,
             "#f7f7f7"
            ],
            [
             0.6,
             "#e6f5d0"
            ],
            [
             0.7,
             "#b8e186"
            ],
            [
             0.8,
             "#7fbc41"
            ],
            [
             0.9,
             "#4d9221"
            ],
            [
             1,
             "#276419"
            ]
           ],
           "sequential": [
            [
             0,
             "#0d0887"
            ],
            [
             0.1111111111111111,
             "#46039f"
            ],
            [
             0.2222222222222222,
             "#7201a8"
            ],
            [
             0.3333333333333333,
             "#9c179e"
            ],
            [
             0.4444444444444444,
             "#bd3786"
            ],
            [
             0.5555555555555556,
             "#d8576b"
            ],
            [
             0.6666666666666666,
             "#ed7953"
            ],
            [
             0.7777777777777778,
             "#fb9f3a"
            ],
            [
             0.8888888888888888,
             "#fdca26"
            ],
            [
             1,
             "#f0f921"
            ]
           ],
           "sequentialminus": [
            [
             0,
             "#0d0887"
            ],
            [
             0.1111111111111111,
             "#46039f"
            ],
            [
             0.2222222222222222,
             "#7201a8"
            ],
            [
             0.3333333333333333,
             "#9c179e"
            ],
            [
             0.4444444444444444,
             "#bd3786"
            ],
            [
             0.5555555555555556,
             "#d8576b"
            ],
            [
             0.6666666666666666,
             "#ed7953"
            ],
            [
             0.7777777777777778,
             "#fb9f3a"
            ],
            [
             0.8888888888888888,
             "#fdca26"
            ],
            [
             1,
             "#f0f921"
            ]
           ]
          },
          "colorway": [
           "#636efa",
           "#EF553B",
           "#00cc96",
           "#ab63fa",
           "#FFA15A",
           "#19d3f3",
           "#FF6692",
           "#B6E880",
           "#FF97FF",
           "#FECB52"
          ],
          "font": {
           "color": "#2a3f5f"
          },
          "geo": {
           "bgcolor": "white",
           "lakecolor": "white",
           "landcolor": "#E5ECF6",
           "showlakes": true,
           "showland": true,
           "subunitcolor": "white"
          },
          "hoverlabel": {
           "align": "left"
          },
          "hovermode": "closest",
          "mapbox": {
           "style": "light"
          },
          "paper_bgcolor": "white",
          "plot_bgcolor": "#E5ECF6",
          "polar": {
           "angularaxis": {
            "gridcolor": "white",
            "linecolor": "white",
            "ticks": ""
           },
           "bgcolor": "#E5ECF6",
           "radialaxis": {
            "gridcolor": "white",
            "linecolor": "white",
            "ticks": ""
           }
          },
          "scene": {
           "xaxis": {
            "backgroundcolor": "#E5ECF6",
            "gridcolor": "white",
            "gridwidth": 2,
            "linecolor": "white",
            "showbackground": true,
            "ticks": "",
            "zerolinecolor": "white"
           },
           "yaxis": {
            "backgroundcolor": "#E5ECF6",
            "gridcolor": "white",
            "gridwidth": 2,
            "linecolor": "white",
            "showbackground": true,
            "ticks": "",
            "zerolinecolor": "white"
           },
           "zaxis": {
            "backgroundcolor": "#E5ECF6",
            "gridcolor": "white",
            "gridwidth": 2,
            "linecolor": "white",
            "showbackground": true,
            "ticks": "",
            "zerolinecolor": "white"
           }
          },
          "shapedefaults": {
           "line": {
            "color": "#2a3f5f"
           }
          },
          "ternary": {
           "aaxis": {
            "gridcolor": "white",
            "linecolor": "white",
            "ticks": ""
           },
           "baxis": {
            "gridcolor": "white",
            "linecolor": "white",
            "ticks": ""
           },
           "bgcolor": "#E5ECF6",
           "caxis": {
            "gridcolor": "white",
            "linecolor": "white",
            "ticks": ""
           }
          },
          "title": {
           "x": 0.05
          },
          "xaxis": {
           "automargin": true,
           "gridcolor": "white",
           "linecolor": "white",
           "ticks": "",
           "title": {
            "standoff": 15
           },
           "zerolinecolor": "white",
           "zerolinewidth": 2
          },
          "yaxis": {
           "automargin": true,
           "gridcolor": "white",
           "linecolor": "white",
           "ticks": "",
           "title": {
            "standoff": 15
           },
           "zerolinecolor": "white",
           "zerolinewidth": 2
          }
         }
        },
        "title": {
         "text": "CHECK: Womens March Madness 2024"
        },
        "width": 800,
        "xaxis": {
         "anchor": "y",
         "domain": [
          0,
          1
         ],
         "side": "top"
        },
        "yaxis": {
         "anchor": "x",
         "autorange": "reversed",
         "domain": [
          0,
          1
         ]
        }
       }
      }
     },
     "metadata": {},
     "output_type": "display_data"
    }
   ],
   "source": [
    "get_heatMap(\n",
    "    df_sim_w, \n",
    "    rounds_list = ['Reach R2', 'Reach S16', 'Reach E8', 'Reach F4', 'Reach CG', 'Champion'],\n",
    "    title = 'CHECK: Womens March Madness 2024')"
   ]
  }
 ],
 "metadata": {
  "kaggle": {
   "accelerator": "none",
   "dataSources": [
    {
     "databundleVersionId": 8023814,
     "sourceId": 70068,
     "sourceType": "competition"
    },
    {
     "datasetId": 4822300,
     "sourceId": 8153111,
     "sourceType": "datasetVersion"
    }
   ],
   "dockerImageVersionId": 30664,
   "isGpuEnabled": false,
   "isInternetEnabled": false,
   "language": "python",
   "sourceType": "notebook"
  },
  "kernelspec": {
   "display_name": "venv",
   "language": "python",
   "name": "python3"
  },
  "language_info": {
   "codemirror_mode": {
    "name": "ipython",
    "version": 3
   },
   "file_extension": ".py",
   "mimetype": "text/x-python",
   "name": "python",
   "nbconvert_exporter": "python",
   "pygments_lexer": "ipython3",
   "version": "3.13.1"
  },
  "papermill": {
   "default_parameters": {},
   "duration": 45.867769,
   "end_time": "2024-03-19T11:40:34.46642",
   "environment_variables": {},
   "exception": null,
   "input_path": "__notebook__.ipynb",
   "output_path": "__notebook__.ipynb",
   "parameters": {},
   "start_time": "2024-03-19T11:39:48.598651",
   "version": "2.4.0"
  }
 },
 "nbformat": 4,
 "nbformat_minor": 4
}
